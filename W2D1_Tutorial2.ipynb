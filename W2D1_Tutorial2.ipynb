{
  "cells": [
    {
      "cell_type": "markdown",
      "metadata": {
        "id": "view-in-github",
        "colab_type": "text"
      },
      "source": [
        "<a href=\"https://colab.research.google.com/github/hanhou/course-content-dl/blob/han_rnn/W2D1_Tutorial2.ipynb\" target=\"_parent\"><img src=\"https://colab.research.google.com/assets/colab-badge.svg\" alt=\"Open In Colab\"/></a>"
      ]
    },
    {
      "cell_type": "markdown",
      "metadata": {
        "execution": {},
        "id": "GUTpY3NrgLQG"
      },
      "source": [
        "# Tutorial 2: Introduction to RNNs\n",
        "\n",
        "**Week 2, Day 1: Convnets And Recurrent Neural Networks**\n",
        "\n",
        "**By Neuromatch Academy**\n",
        "\n",
        "__Content creators:__ Dawn McKnight, Richard Gerum, Cassidy Pirlot, Rohan Saha, Liam Peet-Pare, Saeed Najafi, Alona Fyshe\n",
        "\n",
        "__Content reviewers:__ Saeed Salehi, Lily Cheng, Yu-Fang Yang, Polina Turishcheva, Nina Kudryashova, Kelson Shilling-Scrivo\n",
        "\n",
        "__Content editors:__ Nina Kudryashova\n",
        "\n",
        "__Production editors:__ Anmol Gupta, Spiros Chavlis\n",
        "\n",
        "*Based on material from:* Konrad Kording, Hmrishav Bandyopadhyay, Rahul Shekhar, Tejas Srivastava"
      ]
    },
    {
      "cell_type": "markdown",
      "metadata": {
        "execution": {},
        "id": "YYf1CV9FgLQI"
      },
      "source": [
        "**Our 2021 Sponsors, including Presenting Sponsor Facebook Reality Labs**\n",
        "\n",
        "<p align='center'><img src='https://github.com/NeuromatchAcademy/widgets/blob/master/sponsors.png?raw=True'/></p>"
      ]
    },
    {
      "cell_type": "markdown",
      "metadata": {
        "execution": {},
        "id": "FRTAVZw3gLQI"
      },
      "source": [
        "---\n",
        "# Tutorial Objectives\n",
        "At the end of this tutorial, we will be able to:\n",
        "- Understand the structure of a Recurrent Neural Network (RNN)\n",
        "- Build a simple RNN model\n",
        "\n"
      ]
    },
    {
      "cell_type": "code",
      "execution_count": null,
      "metadata": {
        "cellView": "form",
        "execution": {},
        "id": "xfIp4JzxgLQI"
      },
      "outputs": [],
      "source": [
        "# @title Tutorial slides\n",
        "\n",
        "# @markdown These are the slides for the videos in this tutorial\n",
        "\n",
        "# @markdown If you want to download locally the slides, click [here](https://osf.io/5asx2/download)\n",
        "from IPython.display import IFrame\n",
        "IFrame(src=f\"https://mfr.ca-1.osf.io/render?url=https://osf.io/5asx2/?direct%26mode=render%26action=download%26mode=render\", width=854, height=480)"
      ]
    },
    {
      "cell_type": "markdown",
      "metadata": {
        "execution": {},
        "id": "5XojUn-zgLQJ"
      },
      "source": [
        "---\n",
        "# Setup"
      ]
    },
    {
      "cell_type": "code",
      "execution_count": null,
      "metadata": {
        "cellView": "form",
        "execution": {},
        "id": "D6XvyNVmgLQJ",
        "outputId": "dcd43c20-7180-402e-867a-f7f21fd289a4",
        "colab": {
          "base_uri": "https://localhost:8080/"
        }
      },
      "outputs": [
        {
          "output_type": "stream",
          "name": "stdout",
          "text": [
            "Collecting unidecode\n",
            "  Downloading Unidecode-1.3.8-py3-none-any.whl (235 kB)\n",
            "\u001b[2K     \u001b[90m━━━━━━━━━━━━━━━━━━━━━━━━━━━━━━━━━━━━━━━━\u001b[0m \u001b[32m235.5/235.5 kB\u001b[0m \u001b[31m3.6 MB/s\u001b[0m eta \u001b[36m0:00:00\u001b[0m\n",
            "\u001b[?25hInstalling collected packages: unidecode\n",
            "Successfully installed unidecode-1.3.8\n",
            "  Preparing metadata (setup.py) ... \u001b[?25l\u001b[?25hdone\n",
            "  Building wheel for evaltools (setup.py) ... \u001b[?25l\u001b[?25hdone\n"
          ]
        }
      ],
      "source": [
        "# @title Install dependencies\n",
        "!pip install livelossplot --quiet\n",
        "!pip install unidecode\n",
        "\n",
        "!pip install git+https://github.com/NeuromatchAcademy/evaltools --quiet\n",
        "from evaltools.airtable import AirtableForm\n",
        "\n",
        "# generate airtable form\n",
        "atform = AirtableForm('appn7VdPRseSoMXEG','W2D1_T2','https://portal.neuromatchacademy.org/api/redirect/to/351ca652-13d8-4e31-be28-30153d03e639')"
      ]
    },
    {
      "cell_type": "code",
      "execution_count": null,
      "metadata": {
        "execution": {},
        "id": "RJ0XOltSgLQJ"
      },
      "outputs": [],
      "source": [
        "# Imports\n",
        "import time\n",
        "import math\n",
        "import torch\n",
        "import string\n",
        "import random\n",
        "import unidecode\n",
        "import numpy as np\n",
        "import matplotlib.pyplot as plt\n",
        "\n",
        "import torch.nn as nn\n",
        "\n",
        "from tqdm.notebook import tqdm"
      ]
    },
    {
      "cell_type": "code",
      "execution_count": null,
      "metadata": {
        "cellView": "form",
        "execution": {},
        "id": "xMZpynaxgLQJ"
      },
      "outputs": [],
      "source": [
        "# @title Figure settings\n",
        "import ipywidgets as widgets       # interactive display\n",
        "%config InlineBackend.figure_format = 'retina'\n",
        "plt.style.use(\"https://raw.githubusercontent.com/NeuromatchAcademy/content-creation/main/nma.mplstyle\")\n",
        "\n",
        "# plt.rcParams[\"mpl_toolkits.legacy_colorbar\"] = False\n",
        "\n",
        "import warnings\n",
        "warnings.filterwarnings(\"ignore\", category=UserWarning, module=\"matplotlib\")"
      ]
    },
    {
      "cell_type": "code",
      "execution_count": null,
      "metadata": {
        "cellView": "form",
        "execution": {},
        "id": "zs5SQ0yogLQK"
      },
      "outputs": [],
      "source": [
        "# @title Helper functions\n",
        "# https://github.com/spro/char-rnn.pytorch\n",
        "\n",
        "def read_file(filename):\n",
        "  file = unidecode.unidecode(open(filename).read())\n",
        "  return file, len(file)\n",
        "\n",
        "\n",
        "# Turning a string into a tensor\n",
        "def char_tensor(string):\n",
        "  tensor = torch.zeros(len(string)).long()\n",
        "  for c in range(len(string)):\n",
        "    try:\n",
        "      tensor[c] = all_characters.index(string[c])\n",
        "    except:\n",
        "      continue\n",
        "  return tensor\n",
        "\n",
        "\n",
        "# Readable time elapsed\n",
        "def time_since(since):\n",
        "  s = time.time() - since\n",
        "  m = math.floor(s / 60)\n",
        "  s -= m * 60\n",
        "  out = f\"{m}min {s}sec\"\n",
        "  return out\n",
        "\n",
        "\n",
        "def generate(decoder, prime_str='A', predict_len=100, temperature=0.8,\n",
        "             device='cpu'):\n",
        "\n",
        "  hidden = decoder.init_hidden(1)\n",
        "  prime_input = char_tensor(prime_str).unsqueeze(0)\n",
        "\n",
        "  hidden = hidden.to(device)\n",
        "  prime_input = prime_input.to(device)\n",
        "  predicted = prime_str\n",
        "\n",
        "  # Use priming string to \"build up\" hidden state\n",
        "  for p in range(len(prime_str) - 1):\n",
        "    _, hidden = decoder(prime_input[:,p], hidden)\n",
        "\n",
        "  inp = prime_input[:,-1]\n",
        "\n",
        "  for p in range(predict_len):\n",
        "    output, hidden = decoder(inp, hidden)\n",
        "\n",
        "    # Sample from the network as a multinomial distribution\n",
        "    output_dist = output.data.view(-1).div(temperature).exp()\n",
        "    top_i = torch.multinomial(output_dist, 1)[0]\n",
        "\n",
        "    # Add predicted character to string and use as next input\n",
        "    predicted_char = all_characters[top_i]\n",
        "    predicted += predicted_char\n",
        "    inp = char_tensor(predicted_char).unsqueeze(0)\n",
        "    inp = inp.to(device)\n",
        "\n",
        "  return predicted"
      ]
    },
    {
      "cell_type": "code",
      "execution_count": null,
      "metadata": {
        "cellView": "form",
        "execution": {},
        "id": "GFwYozo1gLQK"
      },
      "outputs": [],
      "source": [
        "# @title Set random seed\n",
        "\n",
        "# @markdown Executing `set_seed(seed=seed)` you are setting the seed\n",
        "\n",
        "# for DL its critical to set the random seed so that students can have a\n",
        "# baseline to compare their results to expected results.\n",
        "# Read more here: https://pytorch.org/docs/stable/notes/randomness.html\n",
        "\n",
        "# Call `set_seed` function in the exercises to ensure reproducibility.\n",
        "import random\n",
        "import torch\n",
        "\n",
        "def set_seed(seed=None, seed_torch=True):\n",
        "  if seed is None:\n",
        "    seed = np.random.choice(2 ** 32)\n",
        "  random.seed(seed)\n",
        "  np.random.seed(seed)\n",
        "  if seed_torch:\n",
        "    torch.manual_seed(seed)\n",
        "    torch.cuda.manual_seed_all(seed)\n",
        "    torch.cuda.manual_seed(seed)\n",
        "    torch.backends.cudnn.benchmark = False\n",
        "    torch.backends.cudnn.deterministic = True\n",
        "\n",
        "  print(f'Random seed {seed} has been set.')\n",
        "\n",
        "\n",
        "# In case that `DataLoader` is used\n",
        "def seed_worker(worker_id):\n",
        "  worker_seed = torch.initial_seed() % 2**32\n",
        "  np.random.seed(worker_seed)\n",
        "  random.seed(worker_seed)"
      ]
    },
    {
      "cell_type": "code",
      "execution_count": null,
      "metadata": {
        "cellView": "form",
        "execution": {},
        "id": "A6sA-UfhgLQK"
      },
      "outputs": [],
      "source": [
        "#@title Set device (GPU or CPU). Execute `set_device()`\n",
        "# especially if torch modules used.\n",
        "\n",
        "# inform the user if the notebook uses GPU or CPU.\n",
        "\n",
        "def set_device():\n",
        "  device = \"cuda\" if torch.cuda.is_available() else \"cpu\"\n",
        "  if device != \"cuda\":\n",
        "    print(\"WARNING: For this notebook to perform best, \"\n",
        "        \"if possible, in the menu under `Runtime` -> \"\n",
        "        \"`Change runtime type.`  select `GPU` \")\n",
        "  else:\n",
        "    print(\"GPU is enabled in this notebook.\")\n",
        "\n",
        "  return device"
      ]
    },
    {
      "cell_type": "code",
      "execution_count": null,
      "metadata": {
        "execution": {},
        "id": "l7sJAvJogLQK",
        "outputId": "5ae4c18f-be91-47d0-b7a6-5506c83a017d",
        "colab": {
          "base_uri": "https://localhost:8080/"
        }
      },
      "outputs": [
        {
          "output_type": "stream",
          "name": "stdout",
          "text": [
            "Random seed 2021 has been set.\n",
            "WARNING: For this notebook to perform best, if possible, in the menu under `Runtime` -> `Change runtime type.`  select `GPU` \n"
          ]
        }
      ],
      "source": [
        "SEED = 2021\n",
        "set_seed(seed=SEED)\n",
        "DEVICE = set_device()"
      ]
    },
    {
      "cell_type": "markdown",
      "metadata": {
        "execution": {},
        "id": "lONqGfBGgLQK"
      },
      "source": [
        "---\n",
        "# Section 1: Recurrent Neural Networks (RNNs)\n",
        "\n",
        "*Time estimate: ~20mins*"
      ]
    },
    {
      "cell_type": "code",
      "execution_count": null,
      "metadata": {
        "cellView": "form",
        "execution": {},
        "id": "wVVAjwrkgLQL",
        "outputId": "71236c9c-e421-48c3-e6c0-3f1cba07bcb1",
        "colab": {
          "base_uri": "https://localhost:8080/",
          "height": 579,
          "referenced_widgets": [
            "69d7941a12954cfbb70fed33d1b49ebc",
            "9a3e5f9298324a24894a05e153007c56",
            "7965cf299ab54b1f94052e11a889ce08",
            "3bb8c833939342bf8ee7fee1538ec5a9",
            "601976b4b038426fba6ea5baa94bbea2",
            "c072d4b686e9494cb8e723c07131fe11"
          ]
        }
      },
      "outputs": [
        {
          "output_type": "display_data",
          "data": {
            "text/plain": [
              "Tab(children=(Output(), Output()), _titles={'0': 'Youtube', '1': 'Bilibili'})"
            ],
            "application/vnd.jupyter.widget-view+json": {
              "version_major": 2,
              "version_minor": 0,
              "model_id": "69d7941a12954cfbb70fed33d1b49ebc"
            }
          },
          "metadata": {}
        }
      ],
      "source": [
        "# @title Video 1: RNNs\n",
        "from ipywidgets import widgets\n",
        "\n",
        "out2 = widgets.Output()\n",
        "with out2:\n",
        "  from IPython.display import IFrame\n",
        "  class BiliVideo(IFrame):\n",
        "    def __init__(self, id, page=1, width=400, height=300, **kwargs):\n",
        "      self.id=id\n",
        "      src = \"https://player.bilibili.com/player.html?bvid={0}&page={1}\".format(id, page)\n",
        "      super(BiliVideo, self).__init__(src, width, height, **kwargs)\n",
        "\n",
        "  video = BiliVideo(id=f\"BV1L44y1m7PP\", width=854, height=480, fs=1)\n",
        "  print(\"Video available at https://www.bilibili.com/video/{0}\".format(video.id))\n",
        "  display(video)\n",
        "\n",
        "out1 = widgets.Output()\n",
        "with out1:\n",
        "  from IPython.display import YouTubeVideo\n",
        "  video = YouTubeVideo(id=f\"PsZjS125lLs\", width=854, height=480, fs=1, rel=0)\n",
        "  print(\"Video available at https://youtube.com/watch?v=\" + video.id)\n",
        "  display(video)\n",
        "\n",
        "out = widgets.Tab([out1, out2])\n",
        "out.set_title(0, 'Youtube')\n",
        "out.set_title(1, 'Bilibili')\n",
        "\n",
        "# add event to airtable\n",
        "atform.add_event('Video 1: RNNs')\n",
        "\n",
        "display(out)"
      ]
    },
    {
      "cell_type": "markdown",
      "metadata": {
        "execution": {},
        "id": "9y2mNO89gLQL"
      },
      "source": [
        "RNNs are compact models that operate over timeseries, and have the ability to remember past input. They also save parameters by using the same weights at every time step.  If you've heard of Transformers, those models don't have this kind of temporal weight sharing, and so they are *much* larger.\n",
        "\n",
        "The code below is adapted from [this github repository](https://github.com/spro/char-rnn.pytorch)."
      ]
    },
    {
      "cell_type": "code",
      "execution_count": null,
      "metadata": {
        "execution": {},
        "id": "rd8TTbbTgLQL"
      },
      "outputs": [],
      "source": [
        "# RNN\n",
        "# https://github.com/spro/char-rnn.pytorch\n",
        "class CharRNN(nn.Module):\n",
        "  def __init__(self, input_size, hidden_size, output_size,\n",
        "               model=\"gru\", n_layers=1):\n",
        "    \"\"\"\n",
        "    input_size: int\n",
        "      Size of the input layer.\n",
        "    hidden_size: int\n",
        "      Size of the hidden layers.\n",
        "    output_size: int\n",
        "      Size of the output layer.\n",
        "    model: string\n",
        "      `model` can take the values \"gru\", \"rnn\", \"lstm\". Default is \"gru\".\n",
        "    n_layers: int\n",
        "      Number of layers\n",
        "    \"\"\"\n",
        "    super(CharRNN, self).__init__()\n",
        "    self.model = model.lower()\n",
        "    self.input_size = input_size\n",
        "    self.hidden_size = hidden_size\n",
        "    self.output_size = output_size\n",
        "    self.n_layers = n_layers\n",
        "\n",
        "    self.encoder = nn.Embedding(input_size, hidden_size)  # HH: What is this?\n",
        "    if self.model == \"gru\":\n",
        "      self.rnn = nn.GRU(hidden_size, hidden_size, n_layers)\n",
        "    elif self.model == \"lstm\":\n",
        "      self.rnn = nn.LSTM(hidden_size, hidden_size, n_layers)\n",
        "    elif self.model == \"rnn\":\n",
        "      self.rnn = nn.RNN(hidden_size, hidden_size, n_layers)\n",
        "    self.decoder = nn.Linear(hidden_size, output_size)\n",
        "\n",
        "  def forward(self, input, hidden):\n",
        "    batch_size = input.size(0)\n",
        "    encoded = self.encoder(input)\n",
        "    output, hidden = self.rnn(encoded.reshape(1, batch_size, -1), hidden)\n",
        "    output = self.decoder(output.reshape(batch_size, -1))\n",
        "    return output, hidden\n",
        "\n",
        "  def init_hidden(self, batch_size):\n",
        "    if self.model == \"lstm\":\n",
        "      return (torch.zeros(self.n_layers, batch_size, self.hidden_size), torch.zeros(self.n_layers, batch_size, self.hidden_size))\n",
        "\n",
        "    return torch.zeros(self.n_layers, batch_size, self.hidden_size)"
      ]
    },
    {
      "cell_type": "markdown",
      "metadata": {
        "execution": {},
        "id": "AXHaZTmWgLQL"
      },
      "source": [
        "This next section of code takes care of training the RNN on several of Mark Twain's books. In this short section, we won't dive into the code, but you'll get to learn a lot more about RNNs in a few days! For now, we are just going to observe the training process."
      ]
    },
    {
      "cell_type": "code",
      "execution_count": null,
      "metadata": {
        "execution": {},
        "id": "CpSxCdtygLQL"
      },
      "outputs": [],
      "source": [
        "# @title Run Me to get the data\n",
        "import requests\n",
        "\n",
        "url = 'https://github.com/hanhou/course-content-dl/blob/8004bf1cfbfcdecd29cb09154b7cbf35abcb6e42/tutorials/W2D1_ConvnetsAndRecurrentNeuralNetworks/static/twain.txt'\n",
        "r = requests.get(url, stream=True)\n",
        "\n",
        "with open('twain.txt', 'wb') as fd:\n",
        "  fd.write(r.content)"
      ]
    },
    {
      "cell_type": "markdown",
      "metadata": {
        "execution": {},
        "id": "GWGxfNtbgLQL"
      },
      "source": [
        "One cool thing about RNNs is that they can be used to _generate_ language based on what the network sees during training. As the network makes predictions, instead of confirming of those predictions are correct against some training text, we just feed them back into the model as the next observed token.  Starting from a random vector for the hidden state, we can generate many original sentences! And what the network generates will reflect the text it was trained on."
      ]
    },
    {
      "cell_type": "code",
      "execution_count": null,
      "metadata": {
        "cellView": "code",
        "execution": {},
        "id": "GBIdZ36fgLQL"
      },
      "outputs": [],
      "source": [
        "# https://github.com/spro/char-rnn.pytorch\n",
        "def random_training_set(file, file_len, chunk_len, batch_size,\n",
        "                        device='cpu', seed=0):\n",
        "  random.seed(seed)\n",
        "\n",
        "  inp = torch.LongTensor(batch_size, chunk_len).to(device)\n",
        "  target = torch.LongTensor(batch_size, chunk_len).to(device)\n",
        "\n",
        "  for bi in range(batch_size):\n",
        "    start_index = random.randint(0, file_len - chunk_len - 1)\n",
        "    end_index = start_index + chunk_len + 1\n",
        "    chunk = file[start_index:end_index]\n",
        "    inp[bi] = char_tensor(chunk[:-1])\n",
        "    target[bi] = char_tensor(chunk[1:])\n",
        "\n",
        "  return inp, target, chunk_len, batch_size, device\n",
        "\n",
        "\n",
        "def train(decoder, criterion, inp, target, chunk_len, batch_size, device):\n",
        "  hidden = decoder.init_hidden(batch_size)\n",
        "  decoder.zero_grad()\n",
        "  loss = 0\n",
        "\n",
        "  for c in range(chunk_len):\n",
        "    output, hidden = decoder(inp[:, c].to(device), hidden.to(device))\n",
        "    loss += criterion(output.reshape(batch_size, -1), target[:,c])\n",
        "\n",
        "  loss.backward()\n",
        "  decoder_optimizer.step()\n",
        "  return loss.item() / chunk_len"
      ]
    },
    {
      "cell_type": "markdown",
      "metadata": {
        "execution": {},
        "id": "lrElNGAIgLQL"
      },
      "source": [
        "First, let's load the text file, and define the model and its hyperparameters."
      ]
    },
    {
      "cell_type": "code",
      "execution_count": null,
      "metadata": {
        "execution": {},
        "id": "-oorlEUdgLQL",
        "outputId": "270ff68c-a7f9-4350-916f-68a61a6c2112",
        "colab": {
          "base_uri": "https://localhost:8080/"
        }
      },
      "outputs": [
        {
          "output_type": "stream",
          "name": "stdout",
          "text": [
            "1743348\n"
          ]
        }
      ],
      "source": [
        "# Reading and un-unicode-encoding data\n",
        "all_characters = string.printable\n",
        "n_characters = len(all_characters)\n",
        "\n",
        "# load the text file\n",
        "file, file_len = read_file('twain.txt')\n",
        "\n",
        "# Hyperparams\n",
        "batch_size = 50\n",
        "chunk_len = 200\n",
        "model = \"rnn\"  # other options: `lstm`, `gru`\n",
        "\n",
        "n_layers = 2\n",
        "hidden_size = 200\n",
        "learning_rate = 0.01\n",
        "\n",
        "# Define the model, optimizer, and the loss criterion\n",
        "decoder = CharRNN(n_characters, hidden_size, n_characters,\n",
        "                  model=model, n_layers=n_layers)\n",
        "decoder.to(DEVICE)\n",
        "\n",
        "decoder_optimizer = torch.optim.Adagrad(decoder.parameters(), lr=learning_rate)\n",
        "criterion = nn.CrossEntropyLoss()"
      ]
    },
    {
      "cell_type": "markdown",
      "metadata": {
        "execution": {},
        "id": "vS4xSG7ugLQL"
      },
      "source": [
        "Let's try it! Run the code below. As the network trains, it will output samples of generated text every 25 epochs. Notice that as the training progresses, the model learns to spell short words, then learns to string some words together, and eventually can produce meaningful sentences (sometimes)! Keep in mind that this is a relatively small network, and doesn't employ some of the cool things you'll learn about later in the week (e.g., LSTMs, though you can change that in the code below by changing the value of the `model` variable if you wish!)\n",
        "\n",
        "After running the model, and observing the output, get together with your pod, and talk about what you noticed during training. Did your network produce anything interesting? Did it produce anything characteristic of Twain?  \n",
        "\n",
        "**Note:** training for the full 2000 epochs is likely to take a while, so you may need to stop it before it finishes. If you have time left, set `n_epochs` to 2000 below."
      ]
    },
    {
      "cell_type": "code",
      "execution_count": null,
      "metadata": {
        "execution": {},
        "id": "KLILOkJUgLQL",
        "outputId": "080efb81-8efe-48d8-b502-bd1761c8e4a8",
        "colab": {
          "base_uri": "https://localhost:8080/",
          "height": 625,
          "referenced_widgets": [
            "8e0b4b1dabf149db8024690bfe399fd0",
            "eaecfccb5e0c413984a385b035a0665e",
            "da7cd756262942fa891a2035f1bc8ed0",
            "0730cf114aa441b9930513ad99f638ef",
            "bb1f82d249204868bb8d9ecd3480c7b1",
            "230c56fb50114206bb1b44efd39b1001",
            "0d919d7c0f8642be99957be5180e6f3f",
            "d0d9cf6471d74a8c9f2e7b5746379572",
            "de553b549b5d40fdb387d7ec31b4e187",
            "6ef1a6d783fa4360961f8e367d4f88c4",
            "1d10520104c24ca589487fd238dc2af4"
          ]
        }
      },
      "outputs": [
        {
          "output_type": "stream",
          "name": "stdout",
          "text": [
            "Training for 1000 epochs...\n",
            "\n"
          ]
        },
        {
          "output_type": "display_data",
          "data": {
            "text/plain": [
              "  0%|          | 0/1000 [00:00<?, ?it/s]"
            ],
            "application/vnd.jupyter.widget-view+json": {
              "version_major": 2,
              "version_minor": 0,
              "model_id": "8e0b4b1dabf149db8024690bfe399fd0"
            }
          },
          "metadata": {}
        },
        {
          "output_type": "stream",
          "name": "stdout",
          "text": [
            "[0min 33.841554403305054sec 5.0%) 2.1719]\n",
            "Whe dorne to the so nou\",\"\",\"\",\"LHed nad the wab-vemy the.\"\",\"\",\"\",\"en I ding and and and The\",\"\",\"\"'./ Goned as  as the pumI dimky his awis hin tha\",\"\"\n",
            "[1min 7.450815916061401sec 10.0%) 1.9152]\n",
            "Wher and sunit; they maver from wher bosee wamrout in tht reagest predheK of of ronre to uf s lemter no gochey soukt\",\"seen the bugh fichens seas, ancan\n",
            "[1min 43.343554735183716sec 15.0%) 1.7593]\n",
            "When, not toit; and that waptextitel--cownen, and timed you, I don't oot thim in the rinits\",\"woncen-wo.,\"\",\"\",\"\",\"\"He as ithing a merow a bees-on,\"\",\"T\n",
            "[2min 18.17446279525757sec 20.0%) 1.8345]\n",
            "Whan, for and about and cound tell ould he himwe was istily and in it fill out teat cown the by po striene was porys a seers ald raft the book lay site \n",
            "[2min 51.64007925987244sec 25.0%) 1.7598]\n",
            "Whed him to doseld, on_ erice was king the ropve. I could there of the was goling; and the boow she coust on titerivereds, shat a I he don't what fweast\n",
            "[3min 24.144813776016235sec 30.0%) 1.6348]\n",
            "Why, aning hak slen=\"meever see and And could and betten worked his lire and had sonesting the lead boy, a sver in--thing to to the tore was dence. Whe \n",
            "[3min 57.67559266090393sec 35.0%) 1.6006]\n",
            "Why, so was had of sean his bighting how him to lon; the ganded to his nothat out thein\",\"the was out intered the hart of thou thout sholdew one.\"\",\"\",\"\n",
            "[4min 30.436587810516357sec 40.0%) 1.5822]\n",
            "Wher that he corring ans imen the head\",\"doon dicplon't passects a-\",\"\",\"\"Good with the frem worls not and by time.\"\",\"\",\"\"Oht Eng withlen intarn---\",\"\"\n",
            "[5min 5.665534019470215sec 45.0%) 1.7126]\n",
            "What one of the corns, he vive to in a gays' pee ay jayted somether the can't it was not the puttls and some now that of as of was and the would we him \n",
            "[5min 37.8987250328064sec 50.0%) 1.5047]\n",
            "Wher, but crieds and shis away.  The mid the back and were of the passed, and through the now now took he drince anter me urop done and a entried to pec\n",
            "[6min 11.319653272628784sec 55.00000000000001%) 1.6198]\n",
            "Why, Tom, but not, to that had his spiaps speal of comace. nxterd instions, recenter by the bound of she this              I ICENIATER CIREDNSLFAOM HENE\n",
            "[6min 43.55074763298035sec 60.0%) 1.5545]\n",
            "Why didn't get you. They was from her deate--that simpless, wave thou in his a spext\" class=\"prext rabody--\" AlM go he and cold tirn't were but that a c\n",
            "[7min 20.120309829711914sec 65.0%) 1.6112]\n",
            "Why, bet to still talks was the days:\",\"\",\"The, and sure all heard thear way this hark on you caulent. The sthe\",\"for his goin saw machickinger soneed t\n",
            "[7min 52.286113023757935sec 70.0%) 1.6716]\n",
            "Why Bunget of couldn't not risines with the lick the listle really may hard through she awain't have you carms was sowed by I couldn't got you delad.  H\n",
            "[8min 25.68972611427307sec 75.0%) 1.6648]\n",
            "Whak's sactory, the King, and san's there was even we the straining the, Tom went all and all\",\"the day. I said gran the widlises, allin and slating no \n"
          ]
        }
      ],
      "source": [
        "n_epochs = 1000   # initial was set to 2000\n",
        "\n",
        "print_every = 50  # frequency of printing the outputs\n",
        "\n",
        "start = time.time()\n",
        "all_losses = []\n",
        "loss_avg = 0\n",
        "\n",
        "print(f\"Training for {n_epochs} epochs...\\n\")\n",
        "for epoch in tqdm(range(1, n_epochs + 1), position=0, leave=True):\n",
        "  loss = train(decoder, criterion,\n",
        "               *random_training_set(file, file_len, chunk_len, batch_size,\n",
        "                                    device=DEVICE, seed=epoch))\n",
        "  loss_avg += loss\n",
        "\n",
        "  if epoch % print_every == 0:\n",
        "    print(f\"[{time_since(start)} {epoch/n_epochs * 100}%) {loss:.4f}]\")\n",
        "    print(f\"{generate(decoder, prime_str='Wh', predict_len=150, device=DEVICE)}\")"
      ]
    },
    {
      "cell_type": "markdown",
      "metadata": {
        "execution": {},
        "id": "dnxCJ41wgLQL"
      },
      "source": [
        "Now you can generate more examples using a trained model. Recall that `generate` takes the mentioned below arguments to work:\n",
        "\n",
        "```python\n",
        "generate(decoder, prime_str='A', predict_len=100, temperature=0.8, device='cpu')\n",
        "```\n",
        "\n",
        "Try it by yourself"
      ]
    },
    {
      "cell_type": "code",
      "execution_count": null,
      "metadata": {
        "execution": {},
        "id": "0-8y74OvgLQL"
      },
      "outputs": [],
      "source": [
        "print(f\"{generate(decoder, prime_str='Wh', predict_len=100, device=DEVICE)}\\n\")"
      ]
    },
    {
      "cell_type": "markdown",
      "metadata": {
        "execution": {},
        "id": "1UtjOitwgLQL"
      },
      "source": [
        "---\n",
        "# Section 2: Power consumption in Deep Learning\n",
        "\n",
        "*Time estimate: ~20mins*"
      ]
    },
    {
      "cell_type": "markdown",
      "metadata": {
        "execution": {},
        "id": "8Lf4sptEgLQL"
      },
      "source": [
        "Training NN models can be incredibly costly, both in actual money but also in power consumption."
      ]
    },
    {
      "cell_type": "code",
      "execution_count": null,
      "metadata": {
        "cellView": "form",
        "execution": {},
        "id": "9K23R8QegLQL"
      },
      "outputs": [],
      "source": [
        "# @title Video 2: Carbon Footprint of AI\n",
        "from ipywidgets import widgets\n",
        "\n",
        "out2 = widgets.Output()\n",
        "with out2:\n",
        "  from IPython.display import IFrame\n",
        "  class BiliVideo(IFrame):\n",
        "    def __init__(self, id, page=1, width=400, height=300, **kwargs):\n",
        "      self.id=id\n",
        "      src = \"https://player.bilibili.com/player.html?bvid={0}&page={1}\".format(id, page)\n",
        "      super(BiliVideo, self).__init__(src, width, height, **kwargs)\n",
        "\n",
        "  video = BiliVideo(id=f\"BV1My4y1j7HJ\", width=854, height=480, fs=1)\n",
        "  print(\"Video available at https://www.bilibili.com/video/{0}\".format(video.id))\n",
        "  display(video)\n",
        "\n",
        "out1 = widgets.Output()\n",
        "with out1:\n",
        "  from IPython.display import YouTubeVideo\n",
        "  video = YouTubeVideo(id=f\"as6C334LmRs\", width=854, height=480, fs=1, rel=0)\n",
        "  print(\"Video available at https://youtube.com/watch?v=\" + video.id)\n",
        "  display(video)\n",
        "\n",
        "out = widgets.Tab([out1, out2])\n",
        "out.set_title(0, 'Youtube')\n",
        "out.set_title(1, 'Bilibili')\n",
        "\n",
        "# add event to airtable\n",
        "atform.add_event('Video 2: Carbon Footprint of AI')\n",
        "\n",
        "display(out)"
      ]
    },
    {
      "cell_type": "markdown",
      "metadata": {
        "execution": {},
        "id": "VgFhj8OsgLQM"
      },
      "source": [
        "Take a few moments to chat with your pod about the following points:\n",
        "* Which societal costs of training do you find most compelling?\n",
        "* When is training an AI model worth the cost?  Who should make that decision?\n",
        "* Should there be additional taxes on energy costs for compute centers?"
      ]
    },
    {
      "cell_type": "markdown",
      "metadata": {
        "execution": {},
        "id": "7b3cDpDzgLQM"
      },
      "source": [
        "## Exercise 2: Calculate the carbon footprint that your pod generated today.\n",
        "\n",
        "You can use this [online calculator](https://mlco2.github.io/impact/#compute)."
      ]
    },
    {
      "cell_type": "code",
      "execution_count": null,
      "metadata": {
        "cellView": "form",
        "execution": {},
        "id": "uY_nWXfAgLQM"
      },
      "outputs": [],
      "source": [
        "# @title Student Response\n",
        "from ipywidgets import widgets\n",
        "\n",
        "\n",
        "text=widgets.Textarea(\n",
        "   value='Type your answer here and click on `Submit!`',\n",
        "   placeholder='Type something',\n",
        "   description='',\n",
        "   disabled=False\n",
        ")\n",
        "\n",
        "button = widgets.Button(description=\"Submit!\")\n",
        "\n",
        "display(text,button)\n",
        "\n",
        "def on_button_clicked(b):\n",
        "   atform.add_answer('q1', text.value)\n",
        "   print(\"Submission successful!\")\n",
        "\n",
        "\n",
        "button.on_click(on_button_clicked)"
      ]
    },
    {
      "cell_type": "markdown",
      "metadata": {
        "execution": {},
        "id": "Dm4ZbQlIgLQM"
      },
      "source": [
        "---\n",
        "# Summary\n",
        "\n",
        "What a day!  We've learned a lot!  The basics of CNNs and RNNs, and how changes to architecture that allow models to parameter share can greatly reduce the size of the model.  We learned about convolution and pooling, as well as the basic idea behind RNNs.  To wrap up we thought about the impact of training large NN models."
      ]
    },
    {
      "cell_type": "code",
      "execution_count": null,
      "metadata": {
        "cellView": "form",
        "execution": {},
        "id": "RlQ3xfvKgLQM"
      },
      "outputs": [],
      "source": [
        "# @title Airtable Submission Link\n",
        "from IPython import display as IPydisplay\n",
        "IPydisplay.HTML(\n",
        "   f\"\"\"\n",
        " <div>\n",
        "   <a href= \"{atform.url()}\" target=\"_blank\">\n",
        "   <img src=\"https://github.com/NeuromatchAcademy/course-content-dl/blob/main/tutorials/static/SurveyButton.png?raw=1\"\n",
        " alt=\"button link end of day Survey\" style=\"width:410px\"></a>\n",
        "   </div>\"\"\" )"
      ]
    }
  ],
  "metadata": {
    "accelerator": "GPU",
    "colab": {
      "machine_shape": "hm",
      "provenance": [],
      "toc_visible": true,
      "include_colab_link": true
    },
    "kernel": {
      "display_name": "Python 3",
      "language": "python",
      "name": "python3"
    },
    "kernelspec": {
      "display_name": "Python 3",
      "name": "python3"
    },
    "widgets": {
      "application/vnd.jupyter.widget-state+json": {
        "69d7941a12954cfbb70fed33d1b49ebc": {
          "model_module": "@jupyter-widgets/controls",
          "model_name": "TabModel",
          "model_module_version": "1.5.0",
          "state": {
            "_dom_classes": [],
            "_model_module": "@jupyter-widgets/controls",
            "_model_module_version": "1.5.0",
            "_model_name": "TabModel",
            "_titles": {
              "0": "Youtube",
              "1": "Bilibili"
            },
            "_view_count": null,
            "_view_module": "@jupyter-widgets/controls",
            "_view_module_version": "1.5.0",
            "_view_name": "TabView",
            "box_style": "",
            "children": [
              "IPY_MODEL_9a3e5f9298324a24894a05e153007c56",
              "IPY_MODEL_7965cf299ab54b1f94052e11a889ce08"
            ],
            "layout": "IPY_MODEL_3bb8c833939342bf8ee7fee1538ec5a9",
            "selected_index": 0
          }
        },
        "9a3e5f9298324a24894a05e153007c56": {
          "model_module": "@jupyter-widgets/output",
          "model_name": "OutputModel",
          "model_module_version": "1.0.0",
          "state": {
            "_dom_classes": [],
            "_model_module": "@jupyter-widgets/output",
            "_model_module_version": "1.0.0",
            "_model_name": "OutputModel",
            "_view_count": null,
            "_view_module": "@jupyter-widgets/output",
            "_view_module_version": "1.0.0",
            "_view_name": "OutputView",
            "layout": "IPY_MODEL_601976b4b038426fba6ea5baa94bbea2",
            "msg_id": "",
            "outputs": [
              {
                "output_type": "stream",
                "name": "stdout",
                "text": [
                  "Video available at https://youtube.com/watch?v=PsZjS125lLs\n"
                ]
              },
              {
                "output_type": "display_data",
                "data": {
                  "text/plain": "<IPython.lib.display.YouTubeVideo at 0x79b4a806fbb0>",
                  "text/html": "\n        <iframe\n            width=\"854\"\n            height=\"480\"\n            src=\"https://www.youtube.com/embed/PsZjS125lLs?fs=1&rel=0\"\n            frameborder=\"0\"\n            allowfullscreen\n            \n        ></iframe>\n        ",
                  "image/jpeg": "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\n"
                },
                "metadata": {}
              }
            ]
          }
        },
        "7965cf299ab54b1f94052e11a889ce08": {
          "model_module": "@jupyter-widgets/output",
          "model_name": "OutputModel",
          "model_module_version": "1.0.0",
          "state": {
            "_dom_classes": [],
            "_model_module": "@jupyter-widgets/output",
            "_model_module_version": "1.0.0",
            "_model_name": "OutputModel",
            "_view_count": null,
            "_view_module": "@jupyter-widgets/output",
            "_view_module_version": "1.0.0",
            "_view_name": "OutputView",
            "layout": "IPY_MODEL_c072d4b686e9494cb8e723c07131fe11",
            "msg_id": "",
            "outputs": [
              {
                "output_type": "stream",
                "name": "stdout",
                "text": [
                  "Video available at https://www.bilibili.com/video/BV1L44y1m7PP\n"
                ]
              },
              {
                "output_type": "display_data",
                "data": {
                  "text/plain": "<__main__.BiliVideo at 0x79b4a806ffd0>",
                  "text/html": "\n        <iframe\n            width=\"854\"\n            height=\"480\"\n            src=\"https://player.bilibili.com/player.html?bvid=BV1L44y1m7PP&page=1?fs=1\"\n            frameborder=\"0\"\n            allowfullscreen\n            \n        ></iframe>\n        "
                },
                "metadata": {}
              }
            ]
          }
        },
        "3bb8c833939342bf8ee7fee1538ec5a9": {
          "model_module": "@jupyter-widgets/base",
          "model_name": "LayoutModel",
          "model_module_version": "1.2.0",
          "state": {
            "_model_module": "@jupyter-widgets/base",
            "_model_module_version": "1.2.0",
            "_model_name": "LayoutModel",
            "_view_count": null,
            "_view_module": "@jupyter-widgets/base",
            "_view_module_version": "1.2.0",
            "_view_name": "LayoutView",
            "align_content": null,
            "align_items": null,
            "align_self": null,
            "border": null,
            "bottom": null,
            "display": null,
            "flex": null,
            "flex_flow": null,
            "grid_area": null,
            "grid_auto_columns": null,
            "grid_auto_flow": null,
            "grid_auto_rows": null,
            "grid_column": null,
            "grid_gap": null,
            "grid_row": null,
            "grid_template_areas": null,
            "grid_template_columns": null,
            "grid_template_rows": null,
            "height": null,
            "justify_content": null,
            "justify_items": null,
            "left": null,
            "margin": null,
            "max_height": null,
            "max_width": null,
            "min_height": null,
            "min_width": null,
            "object_fit": null,
            "object_position": null,
            "order": null,
            "overflow": null,
            "overflow_x": null,
            "overflow_y": null,
            "padding": null,
            "right": null,
            "top": null,
            "visibility": null,
            "width": null
          }
        },
        "601976b4b038426fba6ea5baa94bbea2": {
          "model_module": "@jupyter-widgets/base",
          "model_name": "LayoutModel",
          "model_module_version": "1.2.0",
          "state": {
            "_model_module": "@jupyter-widgets/base",
            "_model_module_version": "1.2.0",
            "_model_name": "LayoutModel",
            "_view_count": null,
            "_view_module": "@jupyter-widgets/base",
            "_view_module_version": "1.2.0",
            "_view_name": "LayoutView",
            "align_content": null,
            "align_items": null,
            "align_self": null,
            "border": null,
            "bottom": null,
            "display": null,
            "flex": null,
            "flex_flow": null,
            "grid_area": null,
            "grid_auto_columns": null,
            "grid_auto_flow": null,
            "grid_auto_rows": null,
            "grid_column": null,
            "grid_gap": null,
            "grid_row": null,
            "grid_template_areas": null,
            "grid_template_columns": null,
            "grid_template_rows": null,
            "height": null,
            "justify_content": null,
            "justify_items": null,
            "left": null,
            "margin": null,
            "max_height": null,
            "max_width": null,
            "min_height": null,
            "min_width": null,
            "object_fit": null,
            "object_position": null,
            "order": null,
            "overflow": null,
            "overflow_x": null,
            "overflow_y": null,
            "padding": null,
            "right": null,
            "top": null,
            "visibility": null,
            "width": null
          }
        },
        "c072d4b686e9494cb8e723c07131fe11": {
          "model_module": "@jupyter-widgets/base",
          "model_name": "LayoutModel",
          "model_module_version": "1.2.0",
          "state": {
            "_model_module": "@jupyter-widgets/base",
            "_model_module_version": "1.2.0",
            "_model_name": "LayoutModel",
            "_view_count": null,
            "_view_module": "@jupyter-widgets/base",
            "_view_module_version": "1.2.0",
            "_view_name": "LayoutView",
            "align_content": null,
            "align_items": null,
            "align_self": null,
            "border": null,
            "bottom": null,
            "display": null,
            "flex": null,
            "flex_flow": null,
            "grid_area": null,
            "grid_auto_columns": null,
            "grid_auto_flow": null,
            "grid_auto_rows": null,
            "grid_column": null,
            "grid_gap": null,
            "grid_row": null,
            "grid_template_areas": null,
            "grid_template_columns": null,
            "grid_template_rows": null,
            "height": null,
            "justify_content": null,
            "justify_items": null,
            "left": null,
            "margin": null,
            "max_height": null,
            "max_width": null,
            "min_height": null,
            "min_width": null,
            "object_fit": null,
            "object_position": null,
            "order": null,
            "overflow": null,
            "overflow_x": null,
            "overflow_y": null,
            "padding": null,
            "right": null,
            "top": null,
            "visibility": null,
            "width": null
          }
        },
        "8e0b4b1dabf149db8024690bfe399fd0": {
          "model_module": "@jupyter-widgets/controls",
          "model_name": "HBoxModel",
          "model_module_version": "1.5.0",
          "state": {
            "_dom_classes": [],
            "_model_module": "@jupyter-widgets/controls",
            "_model_module_version": "1.5.0",
            "_model_name": "HBoxModel",
            "_view_count": null,
            "_view_module": "@jupyter-widgets/controls",
            "_view_module_version": "1.5.0",
            "_view_name": "HBoxView",
            "box_style": "",
            "children": [
              "IPY_MODEL_eaecfccb5e0c413984a385b035a0665e",
              "IPY_MODEL_da7cd756262942fa891a2035f1bc8ed0",
              "IPY_MODEL_0730cf114aa441b9930513ad99f638ef"
            ],
            "layout": "IPY_MODEL_bb1f82d249204868bb8d9ecd3480c7b1"
          }
        },
        "eaecfccb5e0c413984a385b035a0665e": {
          "model_module": "@jupyter-widgets/controls",
          "model_name": "HTMLModel",
          "model_module_version": "1.5.0",
          "state": {
            "_dom_classes": [],
            "_model_module": "@jupyter-widgets/controls",
            "_model_module_version": "1.5.0",
            "_model_name": "HTMLModel",
            "_view_count": null,
            "_view_module": "@jupyter-widgets/controls",
            "_view_module_version": "1.5.0",
            "_view_name": "HTMLView",
            "description": "",
            "description_tooltip": null,
            "layout": "IPY_MODEL_230c56fb50114206bb1b44efd39b1001",
            "placeholder": "​",
            "style": "IPY_MODEL_0d919d7c0f8642be99957be5180e6f3f",
            "value": " 79%"
          }
        },
        "da7cd756262942fa891a2035f1bc8ed0": {
          "model_module": "@jupyter-widgets/controls",
          "model_name": "FloatProgressModel",
          "model_module_version": "1.5.0",
          "state": {
            "_dom_classes": [],
            "_model_module": "@jupyter-widgets/controls",
            "_model_module_version": "1.5.0",
            "_model_name": "FloatProgressModel",
            "_view_count": null,
            "_view_module": "@jupyter-widgets/controls",
            "_view_module_version": "1.5.0",
            "_view_name": "ProgressView",
            "bar_style": "",
            "description": "",
            "description_tooltip": null,
            "layout": "IPY_MODEL_d0d9cf6471d74a8c9f2e7b5746379572",
            "max": 1000,
            "min": 0,
            "orientation": "horizontal",
            "style": "IPY_MODEL_de553b549b5d40fdb387d7ec31b4e187",
            "value": 793
          }
        },
        "0730cf114aa441b9930513ad99f638ef": {
          "model_module": "@jupyter-widgets/controls",
          "model_name": "HTMLModel",
          "model_module_version": "1.5.0",
          "state": {
            "_dom_classes": [],
            "_model_module": "@jupyter-widgets/controls",
            "_model_module_version": "1.5.0",
            "_model_name": "HTMLModel",
            "_view_count": null,
            "_view_module": "@jupyter-widgets/controls",
            "_view_module_version": "1.5.0",
            "_view_name": "HTMLView",
            "description": "",
            "description_tooltip": null,
            "layout": "IPY_MODEL_6ef1a6d783fa4360961f8e367d4f88c4",
            "placeholder": "​",
            "style": "IPY_MODEL_1d10520104c24ca589487fd238dc2af4",
            "value": " 793/1000 [08:54&lt;02:30,  1.37it/s]"
          }
        },
        "bb1f82d249204868bb8d9ecd3480c7b1": {
          "model_module": "@jupyter-widgets/base",
          "model_name": "LayoutModel",
          "model_module_version": "1.2.0",
          "state": {
            "_model_module": "@jupyter-widgets/base",
            "_model_module_version": "1.2.0",
            "_model_name": "LayoutModel",
            "_view_count": null,
            "_view_module": "@jupyter-widgets/base",
            "_view_module_version": "1.2.0",
            "_view_name": "LayoutView",
            "align_content": null,
            "align_items": null,
            "align_self": null,
            "border": null,
            "bottom": null,
            "display": null,
            "flex": null,
            "flex_flow": null,
            "grid_area": null,
            "grid_auto_columns": null,
            "grid_auto_flow": null,
            "grid_auto_rows": null,
            "grid_column": null,
            "grid_gap": null,
            "grid_row": null,
            "grid_template_areas": null,
            "grid_template_columns": null,
            "grid_template_rows": null,
            "height": null,
            "justify_content": null,
            "justify_items": null,
            "left": null,
            "margin": null,
            "max_height": null,
            "max_width": null,
            "min_height": null,
            "min_width": null,
            "object_fit": null,
            "object_position": null,
            "order": null,
            "overflow": null,
            "overflow_x": null,
            "overflow_y": null,
            "padding": null,
            "right": null,
            "top": null,
            "visibility": null,
            "width": null
          }
        },
        "230c56fb50114206bb1b44efd39b1001": {
          "model_module": "@jupyter-widgets/base",
          "model_name": "LayoutModel",
          "model_module_version": "1.2.0",
          "state": {
            "_model_module": "@jupyter-widgets/base",
            "_model_module_version": "1.2.0",
            "_model_name": "LayoutModel",
            "_view_count": null,
            "_view_module": "@jupyter-widgets/base",
            "_view_module_version": "1.2.0",
            "_view_name": "LayoutView",
            "align_content": null,
            "align_items": null,
            "align_self": null,
            "border": null,
            "bottom": null,
            "display": null,
            "flex": null,
            "flex_flow": null,
            "grid_area": null,
            "grid_auto_columns": null,
            "grid_auto_flow": null,
            "grid_auto_rows": null,
            "grid_column": null,
            "grid_gap": null,
            "grid_row": null,
            "grid_template_areas": null,
            "grid_template_columns": null,
            "grid_template_rows": null,
            "height": null,
            "justify_content": null,
            "justify_items": null,
            "left": null,
            "margin": null,
            "max_height": null,
            "max_width": null,
            "min_height": null,
            "min_width": null,
            "object_fit": null,
            "object_position": null,
            "order": null,
            "overflow": null,
            "overflow_x": null,
            "overflow_y": null,
            "padding": null,
            "right": null,
            "top": null,
            "visibility": null,
            "width": null
          }
        },
        "0d919d7c0f8642be99957be5180e6f3f": {
          "model_module": "@jupyter-widgets/controls",
          "model_name": "DescriptionStyleModel",
          "model_module_version": "1.5.0",
          "state": {
            "_model_module": "@jupyter-widgets/controls",
            "_model_module_version": "1.5.0",
            "_model_name": "DescriptionStyleModel",
            "_view_count": null,
            "_view_module": "@jupyter-widgets/base",
            "_view_module_version": "1.2.0",
            "_view_name": "StyleView",
            "description_width": ""
          }
        },
        "d0d9cf6471d74a8c9f2e7b5746379572": {
          "model_module": "@jupyter-widgets/base",
          "model_name": "LayoutModel",
          "model_module_version": "1.2.0",
          "state": {
            "_model_module": "@jupyter-widgets/base",
            "_model_module_version": "1.2.0",
            "_model_name": "LayoutModel",
            "_view_count": null,
            "_view_module": "@jupyter-widgets/base",
            "_view_module_version": "1.2.0",
            "_view_name": "LayoutView",
            "align_content": null,
            "align_items": null,
            "align_self": null,
            "border": null,
            "bottom": null,
            "display": null,
            "flex": null,
            "flex_flow": null,
            "grid_area": null,
            "grid_auto_columns": null,
            "grid_auto_flow": null,
            "grid_auto_rows": null,
            "grid_column": null,
            "grid_gap": null,
            "grid_row": null,
            "grid_template_areas": null,
            "grid_template_columns": null,
            "grid_template_rows": null,
            "height": null,
            "justify_content": null,
            "justify_items": null,
            "left": null,
            "margin": null,
            "max_height": null,
            "max_width": null,
            "min_height": null,
            "min_width": null,
            "object_fit": null,
            "object_position": null,
            "order": null,
            "overflow": null,
            "overflow_x": null,
            "overflow_y": null,
            "padding": null,
            "right": null,
            "top": null,
            "visibility": null,
            "width": null
          }
        },
        "de553b549b5d40fdb387d7ec31b4e187": {
          "model_module": "@jupyter-widgets/controls",
          "model_name": "ProgressStyleModel",
          "model_module_version": "1.5.0",
          "state": {
            "_model_module": "@jupyter-widgets/controls",
            "_model_module_version": "1.5.0",
            "_model_name": "ProgressStyleModel",
            "_view_count": null,
            "_view_module": "@jupyter-widgets/base",
            "_view_module_version": "1.2.0",
            "_view_name": "StyleView",
            "bar_color": null,
            "description_width": ""
          }
        },
        "6ef1a6d783fa4360961f8e367d4f88c4": {
          "model_module": "@jupyter-widgets/base",
          "model_name": "LayoutModel",
          "model_module_version": "1.2.0",
          "state": {
            "_model_module": "@jupyter-widgets/base",
            "_model_module_version": "1.2.0",
            "_model_name": "LayoutModel",
            "_view_count": null,
            "_view_module": "@jupyter-widgets/base",
            "_view_module_version": "1.2.0",
            "_view_name": "LayoutView",
            "align_content": null,
            "align_items": null,
            "align_self": null,
            "border": null,
            "bottom": null,
            "display": null,
            "flex": null,
            "flex_flow": null,
            "grid_area": null,
            "grid_auto_columns": null,
            "grid_auto_flow": null,
            "grid_auto_rows": null,
            "grid_column": null,
            "grid_gap": null,
            "grid_row": null,
            "grid_template_areas": null,
            "grid_template_columns": null,
            "grid_template_rows": null,
            "height": null,
            "justify_content": null,
            "justify_items": null,
            "left": null,
            "margin": null,
            "max_height": null,
            "max_width": null,
            "min_height": null,
            "min_width": null,
            "object_fit": null,
            "object_position": null,
            "order": null,
            "overflow": null,
            "overflow_x": null,
            "overflow_y": null,
            "padding": null,
            "right": null,
            "top": null,
            "visibility": null,
            "width": null
          }
        },
        "1d10520104c24ca589487fd238dc2af4": {
          "model_module": "@jupyter-widgets/controls",
          "model_name": "DescriptionStyleModel",
          "model_module_version": "1.5.0",
          "state": {
            "_model_module": "@jupyter-widgets/controls",
            "_model_module_version": "1.5.0",
            "_model_name": "DescriptionStyleModel",
            "_view_count": null,
            "_view_module": "@jupyter-widgets/base",
            "_view_module_version": "1.2.0",
            "_view_name": "StyleView",
            "description_width": ""
          }
        }
      }
    }
  },
  "nbformat": 4,
  "nbformat_minor": 0
}