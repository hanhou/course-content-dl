{
  "cells": [
    {
      "cell_type": "markdown",
      "metadata": {
        "id": "view-in-github",
        "colab_type": "text"
      },
      "source": [
        "<a href=\"https://colab.research.google.com/github/hanhou/course-content-dl/blob/han_rnn/tutorials/W2D3_ModernRecurrentNeuralNetworks/student/W2D3_Tutorial2.ipynb\" target=\"_parent\"><img src=\"https://colab.research.google.com/assets/colab-badge.svg\" alt=\"Open In Colab\"/></a>"
      ]
    },
    {
      "cell_type": "markdown",
      "metadata": {
        "execution": {},
        "id": "nICjsNVgILuB"
      },
      "source": [
        "# Tutorial 2: Modern RNNs and their variants\n",
        "\n",
        "**Week 2, Day 3: Modern RNNs**\n",
        "\n",
        "**By Neuromatch Academy**\n",
        "\n",
        "__Content creators:__ Bhargav Srinivasa Desikan, Anis Zahedifard, James Evans\n",
        "\n",
        "__Content reviewers:__ Lily Cheng, Melvin Selim Atay, Ezekiel Williams, Kelson Shilling-Scrivo\n",
        "\n",
        "__Content editors:__ Gagana B, Spiros Chavlis\n",
        "\n",
        "__Production editors:__ Roberto Guidotti, Spiros Chavlis"
      ]
    },
    {
      "cell_type": "markdown",
      "metadata": {
        "execution": {},
        "id": "o9AFK8P6ILuC"
      },
      "source": [
        "**Our 2021 Sponsors, including Presenting Sponsor Facebook Reality Labs**\n",
        "\n",
        "<p align='center'><img src='https://github.com/NeuromatchAcademy/widgets/blob/master/sponsors.png?raw=True'/></p>"
      ]
    },
    {
      "cell_type": "markdown",
      "metadata": {
        "execution": {},
        "id": "tgl73bYQILuC"
      },
      "source": [
        "---\n",
        "# Tutorial objectives\n",
        "\n",
        "In this tutorial you will learn about:\n",
        "1. Modern Recurrent Neural Networks and their use\n",
        "2. Long Short-Term Memory (LSTM), Gated Recurrent Unit (GRU) and the memory cell\n",
        "3. Sequence to Sequence and Encoder-Decoder Networks\n",
        "4. Models of Attention for text classification"
      ]
    },
    {
      "cell_type": "code",
      "execution_count": 1,
      "metadata": {
        "cellView": "form",
        "execution": {},
        "id": "Satels1oILuC",
        "outputId": "503423cb-636e-42da-b917-aa666a296381",
        "colab": {
          "base_uri": "https://localhost:8080/",
          "height": 502
        }
      },
      "outputs": [
        {
          "output_type": "execute_result",
          "data": {
            "text/plain": [
              "<IPython.lib.display.IFrame at 0x7de53c195de0>"
            ],
            "text/html": [
              "\n",
              "        <iframe\n",
              "            width=\"854\"\n",
              "            height=\"480\"\n",
              "            src=\"https://mfr.ca-1.osf.io/render?url=https://osf.io/n23hy/?direct%26mode=render%26action=download%26mode=render\"\n",
              "            frameborder=\"0\"\n",
              "            allowfullscreen\n",
              "            \n",
              "        ></iframe>\n",
              "        "
            ]
          },
          "metadata": {},
          "execution_count": 1
        }
      ],
      "source": [
        "# @title Tutorial slides\n",
        "\n",
        "from IPython.display import IFrame\n",
        "IFrame(src=f\"https://mfr.ca-1.osf.io/render?url=https://osf.io/n23hy/?direct%26mode=render%26action=download%26mode=render\", width=854, height=480)"
      ]
    },
    {
      "cell_type": "markdown",
      "metadata": {
        "execution": {},
        "id": "6K_VffUAILuD"
      },
      "source": [
        "These are the slides for the videos in this tutorials. If you want to locally download the slides, click [here](https://osf.io/n23hy/download)."
      ]
    },
    {
      "cell_type": "markdown",
      "metadata": {
        "execution": {},
        "id": "3SHBE0SHILuD"
      },
      "source": [
        "---\n",
        "# Setup\n",
        "\n",
        "We will use the IMDB dataset, which consists of a set of 25,000 highly polar movie reviews for training, and 25,000 for testing. We will use torchtext to download the dataset and prepare it for training, validation and testing. Our goal is to build a model that performs binary classification between positive and negative movie reviews.\n",
        "\n",
        "We use `fix_length` argument to pad sentences of length less than `sentence_length` or truncate sentences of length greater than `sentence_length`."
      ]
    },
    {
      "cell_type": "code",
      "execution_count": 6,
      "metadata": {
        "execution": {},
        "id": "wJ8rsItHILuD",
        "outputId": "cbc2334f-2222-4817-e26a-070bd005f650",
        "colab": {
          "base_uri": "https://localhost:8080/"
        }
      },
      "outputs": [
        {
          "output_type": "stream",
          "name": "stdout",
          "text": [
            "\u001b[2K     \u001b[90m━━━━━━━━━━━━━━━━━━━━━━━━━━━━━━━━━━━━━━━━\u001b[0m \u001b[32m64.2/64.2 kB\u001b[0m \u001b[31m2.3 MB/s\u001b[0m eta \u001b[36m0:00:00\u001b[0m\n",
            "\u001b[2K     \u001b[90m━━━━━━━━━━━━━━━━━━━━━━━━━━━━━━━━━━━━━━━━\u001b[0m \u001b[32m21.3/21.3 MB\u001b[0m \u001b[31m41.4 MB/s\u001b[0m eta \u001b[36m0:00:00\u001b[0m\n",
            "\u001b[2K     \u001b[90m━━━━━━━━━━━━━━━━━━━━━━━━━━━━━━━━━━━━━━━━\u001b[0m \u001b[32m235.5/235.5 kB\u001b[0m \u001b[31m2.2 MB/s\u001b[0m eta \u001b[36m0:00:00\u001b[0m\n",
            "\u001b[2K     \u001b[90m━━━━━━━━━━━━━━━━━━━━━━━━━━━━━━━━━━━━━━━━\u001b[0m \u001b[32m111.7/111.7 kB\u001b[0m \u001b[31m2.8 MB/s\u001b[0m eta \u001b[36m0:00:00\u001b[0m\n",
            "\u001b[2K     \u001b[90m━━━━━━━━━━━━━━━━━━━━━━━━━━━━━━━━━━━━━━━━\u001b[0m \u001b[32m17.1/17.1 MB\u001b[0m \u001b[31m41.7 MB/s\u001b[0m eta \u001b[36m0:00:00\u001b[0m\n",
            "\u001b[2K     \u001b[90m━━━━━━━━━━━━━━━━━━━━━━━━━━━━━━━━━━━━━━━━\u001b[0m \u001b[32m11.6/11.6 MB\u001b[0m \u001b[31m73.6 MB/s\u001b[0m eta \u001b[36m0:00:00\u001b[0m\n",
            "\u001b[2K     \u001b[90m━━━━━━━━━━━━━━━━━━━━━━━━━━━━━━━━━━━━━━━━\u001b[0m \u001b[32m34.4/34.4 MB\u001b[0m \u001b[31m13.6 MB/s\u001b[0m eta \u001b[36m0:00:00\u001b[0m\n",
            "\u001b[2K     \u001b[90m━━━━━━━━━━━━━━━━━━━━━━━━━━━━━━━━━━━━━━━━\u001b[0m \u001b[32m123.4/123.4 kB\u001b[0m \u001b[31m6.8 MB/s\u001b[0m eta \u001b[36m0:00:00\u001b[0m\n",
            "\u001b[2K     \u001b[90m━━━━━━━━━━━━━━━━━━━━━━━━━━━━━━━━━━━━━━━━\u001b[0m \u001b[32m98.3/98.3 kB\u001b[0m \u001b[31m6.0 MB/s\u001b[0m eta \u001b[36m0:00:00\u001b[0m\n",
            "\u001b[2K     \u001b[90m━━━━━━━━━━━━━━━━━━━━━━━━━━━━━━━━━━━━━━━━\u001b[0m \u001b[32m93.5/93.5 kB\u001b[0m \u001b[31m4.1 MB/s\u001b[0m eta \u001b[36m0:00:00\u001b[0m\n",
            "\u001b[2K     \u001b[90m━━━━━━━━━━━━━━━━━━━━━━━━━━━━━━━━━━━━━━━━\u001b[0m \u001b[32m1.6/1.6 MB\u001b[0m \u001b[31m27.0 MB/s\u001b[0m eta \u001b[36m0:00:00\u001b[0m\n",
            "\u001b[?25h\u001b[31mERROR: pip's dependency resolver does not currently take into account all the packages that are installed. This behaviour is the source of the following dependency conflicts.\n",
            "chex 0.1.86 requires numpy>=1.24.1, but you have numpy 1.23.5 which is incompatible.\n",
            "pandas-stubs 2.0.3.230814 requires numpy>=1.25.0; python_version >= \"3.9\", but you have numpy 1.23.5 which is incompatible.\u001b[0m\u001b[31m\n",
            "\u001b[2K     \u001b[90m━━━━━━━━━━━━━━━━━━━━━━━━━━━━━━━━━━━━━━━━\u001b[0m \u001b[32m37.8/37.8 MB\u001b[0m \u001b[31m17.5 MB/s\u001b[0m eta \u001b[36m0:00:00\u001b[0m\n",
            "\u001b[?25h  Preparing metadata (setup.py) ... \u001b[?25l\u001b[?25hdone\n",
            "  Building wheel for matplotlib (setup.py) ... \u001b[?25l\u001b[?25hdone\n",
            "\u001b[31mERROR: pip's dependency resolver does not currently take into account all the packages that are installed. This behaviour is the source of the following dependency conflicts.\n",
            "arviz 0.15.1 requires matplotlib>=3.2, but you have matplotlib 3.1.1 which is incompatible.\n",
            "bigframes 1.11.1 requires matplotlib>=3.7.1, but you have matplotlib 3.1.1 which is incompatible.\n",
            "d2l 1.0.3 requires matplotlib==3.7.2, but you have matplotlib 3.1.1 which is incompatible.\n",
            "mizani 0.9.3 requires matplotlib>=3.5.0, but you have matplotlib 3.1.1 which is incompatible.\n",
            "plotnine 0.12.4 requires matplotlib>=3.6.0, but you have matplotlib 3.1.1 which is incompatible.\n",
            "seaborn 0.13.1 requires matplotlib!=3.6.1,>=3.4, but you have matplotlib 3.1.1 which is incompatible.\u001b[0m\u001b[31m\n",
            "\u001b[0m  Preparing metadata (setup.py) ... \u001b[?25l\u001b[?25hdone\n",
            "  Building wheel for evaltools (setup.py) ... \u001b[?25l\u001b[?25hdone\n"
          ]
        }
      ],
      "source": [
        "# @title Install dependecies\n",
        "\n",
        "# @markdown There may be *errors* and/or *warnings* reported during the installation. However, they are to be ignored.\n",
        "!pip install torchtext==0.6.0 --quiet\n",
        "!pip install unidecode --quiet\n",
        "!pip install d2l --quiet\n",
        "!pip install nltk --quiet\n",
        "!pip install matplotlib==3.1.1 --quiet\n",
        "\n",
        "!pip install git+https://github.com/NeuromatchAcademy/evaltools --quiet\n",
        "from evaltools.airtable import AirtableForm\n",
        "\n",
        "atform = AirtableForm('appn7VdPRseSoMXEG','W2D3_T2','https://portal.neuromatchacademy.org/api/redirect/to/3412a777-eb0e-4312-9254-eec266f0bee4')"
      ]
    },
    {
      "cell_type": "code",
      "execution_count": 7,
      "metadata": {
        "execution": {},
        "id": "ZatUvbCeILuD"
      },
      "outputs": [],
      "source": [
        "# Imports\n",
        "import math\n",
        "import time\n",
        "import nltk\n",
        "import random\n",
        "import collections\n",
        "\n",
        "import numpy as np\n",
        "import matplotlib.pyplot as plt\n",
        "\n",
        "import torch\n",
        "import torch.nn as nn\n",
        "from torch.nn import functional as F\n",
        "\n",
        "from torchtext import data, datasets\n",
        "\n",
        "from d2l import torch as d2l"
      ]
    },
    {
      "cell_type": "code",
      "execution_count": 7,
      "metadata": {
        "cellView": "form",
        "execution": {},
        "id": "vEs2m6-eILuD"
      },
      "outputs": [],
      "source": [
        "# @title Figure Settings\n",
        "import ipywidgets as widgets\n",
        "%config InlineBackend.figure_format = 'retina'\n",
        "plt.style.use(\"https://raw.githubusercontent.com/NeuromatchAcademy/content-creation/main/nma.mplstyle\")"
      ]
    },
    {
      "cell_type": "code",
      "execution_count": 8,
      "metadata": {
        "cellView": "form",
        "execution": {},
        "id": "gnPoG6fdILuD",
        "outputId": "d24761d9-9210-4dc6-b570-b9c2ab366b6a",
        "colab": {
          "base_uri": "https://localhost:8080/",
          "height": 0
        }
      },
      "outputs": [
        {
          "output_type": "stream",
          "name": "stderr",
          "text": [
            "[nltk_data] Downloading package punkt to /root/nltk_data...\n",
            "[nltk_data]   Package punkt is already up-to-date!\n",
            "[nltk_data] Downloading package averaged_perceptron_tagger to\n",
            "[nltk_data]     /root/nltk_data...\n",
            "[nltk_data]   Package averaged_perceptron_tagger is already up-to-\n",
            "[nltk_data]       date!\n",
            "[nltk_data] Downloading package brown to /root/nltk_data...\n",
            "[nltk_data]   Package brown is already up-to-date!\n",
            "[nltk_data] Downloading package webtext to /root/nltk_data...\n",
            "[nltk_data]   Package webtext is already up-to-date!\n"
          ]
        },
        {
          "output_type": "execute_result",
          "data": {
            "text/plain": [
              "True"
            ]
          },
          "metadata": {},
          "execution_count": 8
        }
      ],
      "source": [
        "# @title Download the dataset\n",
        "nltk.download('punkt')\n",
        "nltk.download('averaged_perceptron_tagger')\n",
        "nltk.download('brown')\n",
        "nltk.download('webtext')"
      ]
    },
    {
      "cell_type": "code",
      "execution_count": 9,
      "metadata": {
        "cellView": "form",
        "execution": {},
        "id": "8XSipbtVILuD"
      },
      "outputs": [],
      "source": [
        "# @title Helper functions\n",
        "\n",
        "def plot_train_val(x, train, val, train_label,\n",
        "                   val_label, title, y_label,\n",
        "                   color):\n",
        "\n",
        "  plt.plot(x, train, label=train_label, color=color)\n",
        "  plt.plot(x, val, label=val_label, color=color, linestyle='--')\n",
        "  plt.legend(loc='lower right')\n",
        "  plt.xlabel('epoch')\n",
        "  plt.ylabel(y_label)\n",
        "  plt.title(title)\n",
        "\n",
        "\n",
        "def count_parameters(model):\n",
        "  parameters = sum(p.numel() for p in model.parameters() if p.requires_grad)\n",
        "  return parameters\n",
        "\n",
        "\n",
        "def init_weights(m):\n",
        "  if type(m) in (nn.Linear, nn.Conv1d):\n",
        "    nn.init.xavier_uniform_(m.weight)\n",
        "\n",
        "\n",
        "#  Dataset Loader\n",
        "def load_dataset(sentence_length=50, batch_size=32, seed=522):\n",
        "\n",
        "  TEXT = data.Field(sequential=True,\n",
        "                    tokenize=nltk.word_tokenize,\n",
        "                    lower=True,\n",
        "                    include_lengths=True,\n",
        "                    batch_first=True,\n",
        "                    fix_length=sentence_length)\n",
        "  LABEL = data.LabelField(dtype=torch.float)\n",
        "\n",
        "  train_data, test_data = datasets.IMDB.splits(TEXT, LABEL)\n",
        "\n",
        "  # If no specific vector embeddings are specified,\n",
        "  # Torchtext initializes random vector embeddings\n",
        "  # which would get updated during training through backpropagation.\n",
        "  TEXT.build_vocab(train_data)\n",
        "  LABEL.build_vocab(train_data)\n",
        "\n",
        "  train_data, valid_data = train_data.split(split_ratio=0.7,\n",
        "                                            random_state=random.seed(seed))\n",
        "  train_iter, valid_iter, test_iter = data.BucketIterator.splits((train_data, valid_data, test_data),\n",
        "                                                                  batch_size=batch_size, sort_key=lambda x: len(x.text),\n",
        "                                                                  repeat=False, shuffle=True)\n",
        "  vocab_size = len(TEXT.vocab)\n",
        "\n",
        "  print(f\"Data loading is completed. Sentence length: {sentence_length}, \"\n",
        "        f\"Batch size: {batch_size}, and seed: {seed}\")\n",
        "\n",
        "  return TEXT, vocab_size, train_iter, valid_iter, test_iter\n",
        "\n",
        "\n",
        "def text_from_dict(arr, dictionary):\n",
        "  text = []\n",
        "  for element in arr:\n",
        "    text.append(dictionary[element])\n",
        "  return text\n",
        "\n",
        "\n",
        "def view_data(TEXT, train_iter):\n",
        "  for idx, batch in enumerate(train_iter):\n",
        "    text = batch.text[0]\n",
        "    target = batch.label\n",
        "\n",
        "    for itr in range(25, 30):\n",
        "      print('Review: ', ' '.join(text_from_dict(text[itr], TEXT.vocab.itos)))\n",
        "      print('Label: ', int(target[itr].item()), '\\n')\n",
        "\n",
        "    print('[0: Negative Review, 1: Positive Review]')\n",
        "    if idx==0:\n",
        "      break\n",
        "\n",
        "\n",
        "# Training function\n",
        "def train(model, device, train_iter, valid_iter, epochs, learning_rate):\n",
        "  criterion = nn.CrossEntropyLoss()\n",
        "  optimizer = torch.optim.Adam(model.parameters(), lr=learning_rate)\n",
        "\n",
        "  train_loss, validation_loss = [], []\n",
        "  train_acc, validation_acc = [], []\n",
        "\n",
        "  for epoch in range(epochs):\n",
        "    #train\n",
        "    model.train()\n",
        "    running_loss = 0.\n",
        "    correct, total = 0, 0\n",
        "    steps = 0\n",
        "\n",
        "    for idx, batch in enumerate(train_iter):\n",
        "      text = batch.text[0]\n",
        "      # print(type(text), text.shape)\n",
        "      target = batch.label\n",
        "      target = torch.autograd.Variable(target).long()\n",
        "      text, target = text.to(device), target.to(device)\n",
        "\n",
        "      # add micro for coding training loop\n",
        "      optimizer.zero_grad()\n",
        "      output = model(text)\n",
        "\n",
        "      loss = criterion(output, target)\n",
        "      loss.backward()\n",
        "      optimizer.step()\n",
        "      steps += 1\n",
        "      running_loss += loss.item()\n",
        "\n",
        "      # get accuracy\n",
        "      _, predicted = torch.max(output, 1)\n",
        "      total += target.size(0)\n",
        "      correct += (predicted == target).sum().item()\n",
        "\n",
        "    train_loss.append(running_loss/len(train_iter))\n",
        "    train_acc.append(correct/total)\n",
        "\n",
        "    print(f'Epoch: {epoch + 1}, '\n",
        "          f'Training Loss: {running_loss/len(train_iter):.4f}, '\n",
        "          f'Training Accuracy: {100*correct/total: .2f}%')\n",
        "\n",
        "    # evaluate on validation data\n",
        "    model.eval()\n",
        "    running_loss = 0.\n",
        "    correct, total = 0, 0\n",
        "\n",
        "    with torch.no_grad():\n",
        "      for idx, batch in enumerate(valid_iter):\n",
        "        text = batch.text[0]\n",
        "        target = batch.label\n",
        "        target = torch.autograd.Variable(target).long()\n",
        "        text, target = text.to(device), target.to(device)\n",
        "\n",
        "        optimizer.zero_grad()\n",
        "        output = model(text)\n",
        "\n",
        "        loss = criterion(output, target)\n",
        "        running_loss += loss.item()\n",
        "\n",
        "        # get accuracy\n",
        "        _, predicted = torch.max(output, 1)\n",
        "        total += target.size(0)\n",
        "        correct += (predicted == target).sum().item()\n",
        "\n",
        "    validation_loss.append(running_loss/len(valid_iter))\n",
        "    validation_acc.append(correct/total)\n",
        "\n",
        "    print (f'Validation Loss: {running_loss/len(valid_iter):.4f}, '\n",
        "           f'Validation Accuracy: {100*correct/total: .2f}%')\n",
        "\n",
        "  return train_loss, train_acc, validation_loss, validation_acc\n",
        "\n",
        "\n",
        "# Testing function\n",
        "def test(model, device, test_iter):\n",
        "  model.eval()\n",
        "  correct = 0\n",
        "  total = 0\n",
        "  with torch.no_grad():\n",
        "    for idx, batch in enumerate(test_iter):\n",
        "      text = batch.text[0]\n",
        "      target = batch.label\n",
        "      target = torch.autograd.Variable(target).long()\n",
        "      text, target = text.to(device), target.to(device)\n",
        "\n",
        "      outputs = model(text)\n",
        "      _, predicted = torch.max(outputs, 1)\n",
        "      total += target.size(0)\n",
        "      correct += (predicted == target).sum().item()\n",
        "\n",
        "    acc = 100 * correct / total\n",
        "    return acc"
      ]
    },
    {
      "cell_type": "code",
      "execution_count": 10,
      "metadata": {
        "cellView": "form",
        "execution": {},
        "id": "5sPJuSqIILuD"
      },
      "outputs": [],
      "source": [
        "# @title Set random seed\n",
        "\n",
        "# @markdown Executing `set_seed(seed=seed)` you are setting the seed\n",
        "\n",
        "# for DL its critical to set the random seed so that students can have a\n",
        "# baseline to compare their results to expected results.\n",
        "# Read more here: https://pytorch.org/docs/stable/notes/randomness.html\n",
        "\n",
        "# Call `set_seed` function in the exercises to ensure reproducibility.\n",
        "import random\n",
        "\n",
        "def set_seed(seed=None, seed_torch=True):\n",
        "  if seed is None:\n",
        "    seed = np.random.choice(2 ** 32)\n",
        "  random.seed(seed)\n",
        "  np.random.seed(seed)\n",
        "  if seed_torch:\n",
        "    torch.manual_seed(seed)\n",
        "    torch.cuda.manual_seed_all(seed)\n",
        "    torch.cuda.manual_seed(seed)\n",
        "    torch.backends.cudnn.benchmark = False\n",
        "    torch.backends.cudnn.deterministic = True\n",
        "\n",
        "  print(f'Random seed {seed} has been set.')\n",
        "\n",
        "# In case that `DataLoader` is used\n",
        "def seed_worker(worker_id):\n",
        "  worker_seed = torch.initial_seed() % 2**32\n",
        "  np.random.seed(worker_seed)\n",
        "  random.seed(worker_seed)"
      ]
    },
    {
      "cell_type": "code",
      "execution_count": 11,
      "metadata": {
        "cellView": "form",
        "execution": {},
        "id": "CuI3Z9JNILuD"
      },
      "outputs": [],
      "source": [
        "# @title Set device (GPU or CPU). Execute `set_device()`\n",
        "# inform the user if the notebook uses GPU or CPU.\n",
        "\n",
        "def set_device():\n",
        "  device = \"cuda\" if torch.cuda.is_available() else \"cpu\"\n",
        "  if device != \"cuda\":\n",
        "    print(\"WARNING: For this notebook to perform best, \"\n",
        "        \"if possible, in the menu under `Runtime` -> \"\n",
        "        \"`Change runtime type.`  select `GPU` \")\n",
        "  else:\n",
        "    print(\"GPU is enabled in this notebook.\")\n",
        "\n",
        "  return device"
      ]
    },
    {
      "cell_type": "code",
      "execution_count": 12,
      "metadata": {
        "execution": {},
        "id": "DABnu1HBILuD",
        "outputId": "92c15b4f-8abf-49b0-f54c-7be7cb0b319c",
        "colab": {
          "base_uri": "https://localhost:8080/",
          "height": 0
        }
      },
      "outputs": [
        {
          "output_type": "stream",
          "name": "stdout",
          "text": [
            "GPU is enabled in this notebook.\n",
            "Random seed 2021 has been set.\n"
          ]
        }
      ],
      "source": [
        "DEVICE = set_device()\n",
        "SEED = 2021\n",
        "set_seed(seed=SEED)"
      ]
    },
    {
      "cell_type": "markdown",
      "metadata": {
        "execution": {},
        "id": "gJKX1Lz4ILuD"
      },
      "source": [
        "---\n",
        "# Section 1: Recurrent Neural Networks (RNNs)\n",
        "\n",
        "*Time estimate: ~27mins*"
      ]
    },
    {
      "cell_type": "code",
      "execution_count": 13,
      "metadata": {
        "cellView": "form",
        "execution": {},
        "id": "fj5DYiFaILuE",
        "outputId": "954ce4da-ea94-404b-fd18-30dc194ef07f",
        "colab": {
          "base_uri": "https://localhost:8080/",
          "height": 582,
          "referenced_widgets": [
            "8488752b7074435fb7d4b1a44ef04efd",
            "fffebbd7a1d14c74861b46496b983698",
            "ca3c87fb8662433798d38263ae02c44a",
            "99df137fcd06437f9b534ddc5eb22b7a",
            "818e37d5789d41a59667d0e8259523ac",
            "e9af597ba97848f3ab336b2355b3c918"
          ]
        }
      },
      "outputs": [
        {
          "output_type": "display_data",
          "data": {
            "text/plain": [
              "Tab(children=(Output(), Output()), _titles={'0': 'Youtube', '1': 'Bilibili'})"
            ],
            "application/vnd.jupyter.widget-view+json": {
              "version_major": 2,
              "version_minor": 0,
              "model_id": "8488752b7074435fb7d4b1a44ef04efd"
            }
          },
          "metadata": {}
        }
      ],
      "source": [
        "# @title Video 1: Recurrent Neural Networks\n",
        "from ipywidgets import widgets\n",
        "\n",
        "out2 = widgets.Output()\n",
        "with out2:\n",
        "  from IPython.display import IFrame\n",
        "  class BiliVideo(IFrame):\n",
        "    def __init__(self, id, page=1, width=400, height=300, **kwargs):\n",
        "      self.id=id\n",
        "      src = \"https://player.bilibili.com/player.html?bvid={0}&page={1}\".format(id, page)\n",
        "      super(BiliVideo, self).__init__(src, width, height, **kwargs)\n",
        "\n",
        "  video = BiliVideo(id=f\"BV1Ng41177az\", width=854, height=480, fs=1)\n",
        "  print(\"Video available at https://www.bilibili.com/video/{0}\".format(video.id))\n",
        "  display(video)\n",
        "\n",
        "out1 = widgets.Output()\n",
        "with out1:\n",
        "  from IPython.display import YouTubeVideo\n",
        "  video = YouTubeVideo(id=f\"hIHocwdyY7M\", width=854, height=480, fs=1, rel=0)\n",
        "  print(\"Video available at https://youtube.com/watch?v=\" + video.id)\n",
        "  display(video)\n",
        "\n",
        "out = widgets.Tab([out1, out2])\n",
        "out.set_title(0, 'Youtube')\n",
        "out.set_title(1, 'Bilibili')\n",
        "\n",
        "# add event to airtable\n",
        "atform.add_event('Video 1: Recurrent Neural Networks')\n",
        "\n",
        "display(out)"
      ]
    },
    {
      "cell_type": "markdown",
      "metadata": {
        "execution": {},
        "id": "S8ieP0BRILuE"
      },
      "source": [
        "Recurrent neural networks, or RNNs , are a family of neural networks for processing sequential data. Just as a convolutional network is specialized for processing a grid of values X such as an image, a recurrent neural network is specialized for processing a sequence of values. RNNs prove useful in many scenarios where other deep learning models are not effective.\n",
        "\n",
        "* Not all problems can be converted into one with fixed length inputs and outputs.\n",
        "\n",
        "\n",
        "* The deep learning models we have seen so far pick samples randomly. This might not be the best strategy for a task of understanding meaning from a piece of text. Words in a text occur in a sequence and therefore cannot be permuted randomly to get the meaning."
      ]
    },
    {
      "cell_type": "markdown",
      "metadata": {
        "execution": {},
        "id": "fYfi4lgQILuE"
      },
      "source": [
        "The following provides more data than the video (but can be skipped for now). For more detail, see the sources, the [deep learning book](https://www.deeplearningbook.org/contents/rnn.html), and [d2l.ai](https://d2l.ai/chapter_recurrent-neural-networks/rnn.html)\n",
        "\n",
        "When the recurrent network is trained to perform a task that requires predicting the future from the past, the network typically learns to use a hidden state at time step $t$, $H_t$ as a kind of lossy summary of the task-relevant aspects of the past sequence of inputs up to $t$. This summary is in general necessarily lossy, since it maps an arbitrary length sequence $(X_t, X_{t-1}, X_{t-2}, \\dots, X_{2}, X_{1})$ to a ﬁxed length vector $H_t$.\n",
        "\n",
        "We can represent the unfolded recurrence after $t$ steps with a function $G_t$:\n",
        "\n",
        "\\begin{align}\n",
        "H_t &= G_t(X_t, X_{t-1}, X_{t-2}, \\dots, X_{2}, X_{1}) \\\\\n",
        "&= f(H_{t−1}, X_{t}; \\theta)\n",
        "\\end{align}\n",
        "\n",
        "where $\\theta$ denotes the model parameters, i.e., weights and biases.\n",
        "\n",
        "<figure>\n",
        "  <img width=700 src=\"https://raw.githubusercontent.com/NeuromatchAcademy/course-content-dl/main/tutorials/W2D3_ModernRecurrentNeuralNetworks/static/rnn-2.gif\">\n",
        "  <figcaption>\n",
        "  Source <a href=\"https://blog.floydhub.com/\">blog.floydhub.com</a>\n",
        "  </figcaption>\n",
        "</figure>\n",
        "\n",
        "The function $g_t$ takes the whole past sequence $(X_t, X_{t-1}, X_{t-2}, \\dots , X_{2}, X_{1})$ as input and produces the current state, but the unfolded recurrent structure allows us to factorize $g_t$ into repeated application of a function f. The unfolding process thus introduces two major advantages:\n",
        "\n",
        "* Regardless of the sequence length, the learned model always has the same input size, because it is speciﬁed in terms of transition from one state to another state, rather than speciﬁed in terms of a variable-length history of states.\n",
        "\n",
        "* It is possible to use the same transition function $f$ with the same parameters at every time step.\n",
        "\n",
        "We will now formally write down the equations of a recurrent unit.\n",
        "\n",
        "Assume that we have a minibatch of inputs $X_t \\in R^{n \\times d}$ at time step $t$. In other words, for a minibatch of $n$ sequence examples, each row of $X_t$ corresponds to one example at time step $t$ from the sequence. Next, we denote by $H_t \\in R^{n \\times h}$ the hidden variable of time step $t$. Unlike the MLP, here we save the hidden variable $H_{t-1}$ from the previous time step and introduce a new weight parameter $W_{hh} \\in R^{h \\times h}$ to describe how to use the hidden variable of the previous time step in the current time step. Specifically, the calculation of the hidden variable of the current time step is determined by the input of the current time step together with the hidden variable of the previous time step:\n",
        "\n",
        "\\begin{equation}\n",
        "H_t = \\phi(X_t W_{xh} + H_{t-1}W_{hh} + b_h)\n",
        "\\end{equation}\n",
        "\n",
        "For time step $t$, the output of the output layer is similar to the computation in the MLP:\n",
        "\n",
        "\\begin{equation}\n",
        "O_t = H_t W_{hq} + b_q\n",
        "\\end{equation}\n",
        "\n",
        "Parameters of the RNN include the weights $W_{xh} \\in R^{d \\times h}, W_{hh} \\in R^{h \\times h}$ , and the bias $b_h \\in R^{1 \\times h}$ of the hidden layer, together with the weights $W_{hq} \\in R^{h \\times  q}$ and the bias $b_q \\in R^{1 \\times q}$ of the output layer. It is worth mentioning that even at different time steps, RNNs always use these model parameters. Therefore, the parameterization cost of an RNN does not grow as the number of time steps increases.\n",
        "\n",
        "<figure>\n",
        "  <img width=700 align=\"center\" src=\"https://raw.githubusercontent.com/NeuromatchAcademy/course-content-dl/main/tutorials/W2D3_ModernRecurrentNeuralNetworks/static/rnn.svg\">\n",
        "  <figcaption>\n",
        "  Source <a href=\"https://d2l.ai/\">d2l.ai</a>\n",
        "  </figcaption>\n",
        "</figure>"
      ]
    },
    {
      "cell_type": "markdown",
      "metadata": {
        "execution": {},
        "id": "rFe1KRVxILuE"
      },
      "source": [
        "## Section 1.1: Load and View of the dataset\n",
        "\n",
        "Let us first load the dataset using the helper function `load_data`, which takes three arguments; the `sentence_length`, `batch_size`, and the `seed`. The default values are 50, 32, and 522, respectively. Execute the cell below to load the data."
      ]
    },
    {
      "cell_type": "code",
      "execution_count": 13,
      "metadata": {
        "execution": {},
        "id": "rq3RjhvdILuE",
        "outputId": "d3361d95-5517-4843-ee5d-fbe2fce0623a",
        "colab": {
          "base_uri": "https://localhost:8080/",
          "height": 0
        }
      },
      "outputs": [
        {
          "output_type": "stream",
          "name": "stdout",
          "text": [
            "downloading aclImdb_v1.tar.gz\n"
          ]
        },
        {
          "output_type": "stream",
          "name": "stderr",
          "text": [
            "aclImdb_v1.tar.gz: 100%|██████████| 84.1M/84.1M [00:02<00:00, 41.2MB/s]\n"
          ]
        },
        {
          "output_type": "stream",
          "name": "stdout",
          "text": [
            "Data loading is completed. Sentence length: 50, Batch size: 32, and seed: 2021\n"
          ]
        }
      ],
      "source": [
        "# @markdown Dataset Loading with default params\n",
        "TEXT, vocab_size, train_iter, valid_iter, test_iter = load_dataset(seed=SEED)"
      ]
    },
    {
      "cell_type": "markdown",
      "metadata": {
        "execution": {},
        "id": "hzB1Pl7mILuE"
      },
      "source": [
        "Now, let's view the data!"
      ]
    },
    {
      "cell_type": "code",
      "execution_count": null,
      "metadata": {
        "execution": {},
        "id": "kABDm94gILuE"
      },
      "outputs": [],
      "source": [
        "# @markdown Visualize dataset\n",
        "view_data(TEXT, train_iter)"
      ]
    },
    {
      "cell_type": "markdown",
      "metadata": {
        "execution": {},
        "id": "A2zCO7EzILuE"
      },
      "source": [
        "### Coding Exercise 1.1: Vanilla RNN\n",
        "\n",
        "Now it's your turn to write a Vanilla RNN using PyTorch.\n",
        "\n",
        "* Once again we will use `nn.Embedding`. You are given the `vocab_size` which is the size of the dictionary of embeddings, and the `embed_size` which is the size of each embedding vector.  \n",
        "\n",
        "* Add 2 [RNN](https://pytorch.org/docs/stable/generated/torch.nn.RNN.html) layers. This would mean stacking two RNNs together to form a stacked RNN, with the second RNN taking in outputs of the first RNN and computing the final results.\n",
        "\n",
        "* Determine the size of inputs and outputs to the fully-connected layer."
      ]
    },
    {
      "cell_type": "code",
      "execution_count": null,
      "metadata": {
        "execution": {},
        "id": "rrTkoRrcILuE"
      },
      "outputs": [],
      "source": [
        "class VanillaRNN(nn.Module):\n",
        "  def __init__(self, layers, output_size, hidden_size, vocab_size, embed_size,\n",
        "               device):\n",
        "    super(VanillaRNN, self).__init__()\n",
        "    self.n_layers= layers\n",
        "    self.hidden_size = hidden_size\n",
        "    self.device = device\n",
        "    ####################################################################\n",
        "    # Fill in missing code below (...),\n",
        "    # then remove or comment the line below to test your function\n",
        "    raise NotImplementedError(\"Define the Vanilla RNN components\")\n",
        "    ####################################################################\n",
        "    # Define the embedding\n",
        "    self.embeddings = ...\n",
        "    # Define the RNN layer\n",
        "    self.rnn = ...\n",
        "    # Define the fully connected layer\n",
        "    self.fc = ...\n",
        "\n",
        "  def forward(self, inputs):\n",
        "    input = self.embeddings(inputs)\n",
        "    input = input.permute(1, 0, 2)\n",
        "    h_0 = torch.zeros(2, input.size()[1], self.hidden_size).to(self.device)\n",
        "    output, h_n = self.rnn(input, h_0)\n",
        "    h_n = h_n.permute(1, 0, 2)\n",
        "    h_n = h_n.contiguous().reshape(h_n.size()[0], h_n.size()[1]*h_n.size()[2])\n",
        "    logits = self.fc(h_n)\n",
        "\n",
        "    return logits\n",
        "\n",
        "\n",
        "# add event to airtable\n",
        "atform.add_event('Coding Exercise 1.1: Vanilla RNN')\n",
        "\n",
        "## Uncomment to test VanillaRNN class\n",
        "# sampleRNN = VanillaRNN(2, 10, 50, 1000, 300, DEVICE)\n",
        "# print(sampleRNN)"
      ]
    },
    {
      "cell_type": "markdown",
      "metadata": {
        "execution": {},
        "id": "8gLeMDfBILuE"
      },
      "source": [
        "[*Click for solution*](https://github.com/NeuromatchAcademy/course-content-dl/tree/main//tutorials/W2D3_ModernRecurrentNeuralNetworks/solutions/W2D3_Tutorial2_Solution_ae4fdee1.py)\n",
        "\n"
      ]
    },
    {
      "cell_type": "markdown",
      "metadata": {
        "execution": {},
        "id": "-NkbngrCILuE"
      },
      "source": [
        "```\n",
        "VanillaRNN(\n",
        "  (embeddings): Embedding(1000, 300)\n",
        "  (rnn): RNN(300, 50, num_layers=2)\n",
        "  (fc): Linear(in_features=100, out_features=10, bias=True)\n",
        ")\n",
        "```"
      ]
    },
    {
      "cell_type": "markdown",
      "metadata": {
        "execution": {},
        "id": "_olBk7LVILuE"
      },
      "source": [
        "## Section 1.2: Train and test the network"
      ]
    },
    {
      "cell_type": "code",
      "execution_count": null,
      "metadata": {
        "execution": {},
        "id": "ngy3WDn4ILuE"
      },
      "outputs": [],
      "source": [
        "# Model hyperparamters\n",
        "learning_rate = 0.0002\n",
        "layers = 2\n",
        "output_size = 2\n",
        "hidden_size = 50  # 100\n",
        "embedding_length = 100\n",
        "epochs = 10\n",
        "\n",
        "\n",
        "# Initialize model, training and testing\n",
        "set_seed(SEED)\n",
        "vanilla_rnn_model = VanillaRNN(layers, output_size, hidden_size, vocab_size,\n",
        "                               embedding_length, DEVICE)\n",
        "vanilla_rnn_model.to(DEVICE)\n",
        "vanilla_rnn_start_time = time.time()\n",
        "vanilla_train_loss, vanilla_train_acc, vanilla_validation_loss, vanilla_validation_acc = train(vanilla_rnn_model,\n",
        "                                                                                               DEVICE,\n",
        "                                                                                               train_iter,\n",
        "                                                                                               valid_iter,\n",
        "                                                                                               epochs,\n",
        "                                                                                               learning_rate)\n",
        "print(\"--- Time taken to train = %s seconds ---\" % (time.time() - vanilla_rnn_start_time))\n",
        "test_accuracy = test(vanilla_rnn_model, DEVICE, test_iter)\n",
        "print(f'Test Accuracy: {test_accuracy} with len=50\\n')\n",
        "\n",
        "# Number of model parameters\n",
        "print(f'Number of parameters = {count_parameters(vanilla_rnn_model)}')"
      ]
    },
    {
      "cell_type": "markdown",
      "metadata": {
        "execution": {},
        "id": "uMVmCO60ILuE"
      },
      "source": [
        "Now, let's plot the accuracies!"
      ]
    },
    {
      "cell_type": "code",
      "execution_count": null,
      "metadata": {
        "execution": {},
        "id": "DF4mM9TOILuE"
      },
      "outputs": [],
      "source": [
        "# Plot accuracy curves\n",
        "plt.figure()\n",
        "plt.subplot(211)\n",
        "plot_train_val(np.arange(0, epochs), vanilla_train_acc, vanilla_validation_acc,\n",
        "               'train accuracy', 'val accuracy',\n",
        "               'Vanilla RNN on IMDB text classification', 'accuracy',\n",
        "               color='C0')\n",
        "plt.legend(loc='upper left')\n",
        "plt.subplot(212)\n",
        "plot_train_val(np.arange(0, epochs), vanilla_train_loss,\n",
        "               vanilla_validation_loss,\n",
        "               'train loss', 'val loss',\n",
        "               'Vanilla RNN on IMDB text classification',\n",
        "               'loss [a.u.]',\n",
        "               color='C0')\n",
        "plt.legend(loc='upper left')\n",
        "plt.show()"
      ]
    },
    {
      "cell_type": "markdown",
      "metadata": {
        "execution": {},
        "id": "YqXGqCJeILuE"
      },
      "source": [
        "### Change the input length\n",
        "\n",
        "Now let's increase the `sentence_length` to see how RNN performs when long reviews are allowed..\n"
      ]
    },
    {
      "cell_type": "code",
      "execution_count": null,
      "metadata": {
        "cellView": "form",
        "execution": {},
        "id": "BHEzHefOILuE"
      },
      "outputs": [],
      "source": [
        "# @markdown Load dataset with `sentence_length=200`\n",
        "TEXT_long, vocab_size_long, train_iter_long, valid_iter_long, test_iter_long = load_dataset(sentence_length=200)"
      ]
    },
    {
      "cell_type": "markdown",
      "metadata": {
        "execution": {},
        "id": "wcUS_VY6ILuF"
      },
      "source": [
        "### Re-run the network"
      ]
    },
    {
      "cell_type": "code",
      "execution_count": null,
      "metadata": {
        "execution": {},
        "id": "fqFkZLwIILuF"
      },
      "outputs": [],
      "source": [
        "# Model hyperparamters\n",
        "learning_rate = 0.0002\n",
        "layers = 2\n",
        "output_size = 2\n",
        "hidden_size = 50  # 100\n",
        "embedding_length = 100\n",
        "epochs = 10\n",
        "\n",
        "# Initialize model, training, testing\n",
        "set_seed(SEED)\n",
        "vanilla_rnn_model_long = VanillaRNN(layers, output_size, hidden_size,\n",
        "                                    vocab_size_long, embedding_length, DEVICE)\n",
        "vanilla_rnn_model_long.to(DEVICE)\n",
        "vanilla_rnn_start_time_long = time.time()\n",
        "vanilla_train_loss_long, vanilla_train_acc_long, vanilla_validation_loss_long, vanilla_validation_acc_long = train(vanilla_rnn_model_long,\n",
        "                                                                                                                   DEVICE,\n",
        "                                                                                                                   train_iter_long,\n",
        "                                                                                                                   valid_iter_long,\n",
        "                                                                                                                   epochs,\n",
        "                                                                                                                   learning_rate)\n",
        "print(\"--- Time taken to train = %s seconds ---\" % (time.time() - vanilla_rnn_start_time_long))\n",
        "test_accuracy = test(vanilla_rnn_model_long, DEVICE, test_iter_long)\n",
        "print(f'Test Accuracy: {test_accuracy} with len=200\\n')\n",
        "\n",
        "# Number of parameters\n",
        "print(f'\\nNumber of parameters = {count_parameters(vanilla_rnn_model_long)}')"
      ]
    },
    {
      "cell_type": "code",
      "execution_count": null,
      "metadata": {
        "execution": {},
        "id": "mlBfitpWILuF"
      },
      "outputs": [],
      "source": [
        "# Compare accuracies of model trained on different sentence lengths\n",
        "plot_train_val(np.arange(0, epochs), vanilla_train_acc,\n",
        "               vanilla_validation_acc,\n",
        "               'train accuracy, len=50', 'val accuracy, len=50',\n",
        "               '', 'accuracy',\n",
        "               color='C0')\n",
        "plot_train_val(np.arange(0, epochs), vanilla_train_acc_long,\n",
        "               vanilla_validation_acc_long,\n",
        "               'train accuracy, len=200', 'val accuracy, len=200',\n",
        "               'Training and Validation Accuracy for Sentence Lengths 50 and 200',\n",
        "               'accuracy',\n",
        "               color='C1')\n",
        "plt.legend(loc='upper left')\n",
        "plt.show()"
      ]
    },
    {
      "cell_type": "markdown",
      "metadata": {
        "execution": {},
        "id": "6uGtRaaTILuF"
      },
      "source": [
        "## Section 1.3: Architectures"
      ]
    },
    {
      "cell_type": "code",
      "execution_count": 14,
      "metadata": {
        "cellView": "form",
        "execution": {},
        "id": "zJOnWitXILuF",
        "outputId": "024bd7b5-3b6a-4672-c9ae-1e62e20c9465",
        "colab": {
          "base_uri": "https://localhost:8080/",
          "height": 582,
          "referenced_widgets": [
            "b530703bce2a4772ad422806c042862f",
            "78a87f0593454d5e9bff121c4af2934b",
            "49513ddb5dd7409d8f4cf508466353b4",
            "6083b8cb9c664695aff1f85944e6fb15",
            "1fed43f3fbec43229d953583c2d9069b",
            "ee0c3d06a814435a8370eea12eaa5eeb"
          ]
        }
      },
      "outputs": [
        {
          "output_type": "display_data",
          "data": {
            "text/plain": [
              "Tab(children=(Output(), Output()), _titles={'0': 'Youtube', '1': 'Bilibili'})"
            ],
            "application/vnd.jupyter.widget-view+json": {
              "version_major": 2,
              "version_minor": 0,
              "model_id": "b530703bce2a4772ad422806c042862f"
            }
          },
          "metadata": {}
        }
      ],
      "source": [
        "# @title Video 2: Bidirectional RNNs\n",
        "from ipywidgets import widgets\n",
        "\n",
        "out2 = widgets.Output()\n",
        "with out2:\n",
        "  from IPython.display import IFrame\n",
        "  class BiliVideo(IFrame):\n",
        "    def __init__(self, id, page=1, width=400, height=300, **kwargs):\n",
        "      self.id=id\n",
        "      src = \"https://player.bilibili.com/player.html?bvid={0}&page={1}\".format(id, page)\n",
        "      super(BiliVideo, self).__init__(src, width, height, **kwargs)\n",
        "\n",
        "  video = BiliVideo(id=f\"BV1X64y1x7BA\", width=854, height=480, fs=1)\n",
        "  print(\"Video available at https://www.bilibili.com/video/{0}\".format(video.id))\n",
        "  display(video)\n",
        "\n",
        "out1 = widgets.Output()\n",
        "with out1:\n",
        "  from IPython.display import YouTubeVideo\n",
        "  video = YouTubeVideo(id=f\"TpgJwqB4i1c\", width=854, height=480, fs=1, rel=0)\n",
        "  print(\"Video available at https://youtube.com/watch?v=\" + video.id)\n",
        "  display(video)\n",
        "\n",
        "out = widgets.Tab([out1, out2])\n",
        "out.set_title(0, 'Youtube')\n",
        "out.set_title(1, 'Bilibili')\n",
        "\n",
        "# add event to airtable\n",
        "atform.add_event('Video 2: Bidirectional RNNs')\n",
        "\n",
        "display(out)"
      ]
    },
    {
      "cell_type": "markdown",
      "metadata": {
        "execution": {},
        "id": "rAU79Wk2ILuF"
      },
      "source": [
        "RNN models are mostly used in the fields of natural language processing and speech recognition. Below are types of RNNs. Depending on which outputs we use, RNN can be used for variety of tasks. The text classification problem we solved was an instance of the many to one architecture. Write down the applications of other architectures.\n"
      ]
    },
    {
      "cell_type": "markdown",
      "metadata": {
        "execution": {},
        "id": "QgRkCRykILuF"
      },
      "source": [
        "<figure>\n",
        "  <img width=800 src=\"https://raw.githubusercontent.com/NeuromatchAcademy/course-content-dl/main/tutorials/W2D3_ModernRecurrentNeuralNetworks/static/karpathy.jpeg\">\n",
        "  <figcaption>\n",
        "  Source <a href=\"https://blog.floydhub.com/\">blog.floydhub.com</a>\n",
        "  </figcaption>\n",
        "</figure>"
      ]
    },
    {
      "cell_type": "markdown",
      "metadata": {
        "execution": {},
        "id": "F2LeFSW-ILuJ"
      },
      "source": [
        "## Section 1.4: Vanishing and Exploding Gradients\n",
        "\n",
        "For an RNN to learn via backprop through time on a loss calculated at time $T$, $\\mathcal{L}_T$, with respect to an input $t$ time steps in the past, the RNN weights must be updated based on how they contributed to the hidden state at this past time step. This contribution is learned through the term $\\frac{\\partial h_{-t}}{\\partial W}$, in the gradient of the loss, $\\frac{\\partial\\mathcal{L}_T}{\\partial W}$.\n",
        "\n",
        "However, because one has to backpropagate error through $t-1$ hidden states, $\\frac{\\partial h_{-t}}{\\partial W}$ is multiplied by $\\prod_{i=0}^{t-1} \\frac{\\partial{h_i}}{\\partial{h_{i-1}}}$ in the expression for $\\frac{\\partial\\mathcal{L}_T}{\\partial W}$, which are summarized mathematically:\n",
        "\n",
        "\\begin{equation}\n",
        "\\frac{\\partial{\\mathcal{L}_T}}{\\partial{W}} \\propto \\frac{\\partial h_t }{ \\partial W} + \\sum_{k=0}^{t-1} \\left( \\prod_{i=k+1}^{t} \\frac{\\partial{h_i}}{\\partial{h_{i-1}}} \\right) \\frac{\\partial{h_k}}{\\partial{W}}\n",
        "\\end{equation}\n",
        "\n",
        "The product term leads to two common problems during the backpropagation of time-series data:\n",
        "\n",
        "* *Vanishing gradients*, *if* $ \\left| \\left| \\frac{\\partial{h_i}}{\\partial{h_{i-1}}} \\right| \\right|_2 < 1$\n",
        "\n",
        "\n",
        "* *Exploding gradients*, *if* $ \\left| \\left| \\frac{\\partial{h_i}}{\\partial{h_{i-1}}} \\right| \\right|_2 > 1$\n",
        "\n",
        "Given a sufficiently long sequence, the gradients get multiplied by the weight matrix at every time step. If the weight matrix contains very small values, then the norm of gradients will become smaller and smaller exponentially, the so-called **vanishing gradient** problem. On the other hand, if we have a weight matrix with very large values, the gradients will increase exponentially, leading to the **exploding gradients** problem: where the weights diverge at the update step.\n",
        "\n",
        "An example that has the vanishing gradient problem:\n",
        "\n",
        "The input is the characters from a *C* Program. The system will tell whether it is a syntactically correct program. A syntactically correct program should have a valid number of braces and parentheses. Thus, the network should remember how many open parentheses and braces there are to check, and whether we have closed them all. The network has to store such information in hidden states like a counter. However, because of vanishing gradients, it will fail to preserve such information in a long program."
      ]
    },
    {
      "cell_type": "markdown",
      "metadata": {
        "execution": {},
        "id": "A-Uk5DkCILuJ"
      },
      "source": [
        "---\n",
        "# Section 2: LSTM, GRU and Memory Cell\n",
        "\n",
        "*Time estimate: ~28mins*"
      ]
    },
    {
      "cell_type": "code",
      "execution_count": 15,
      "metadata": {
        "cellView": "form",
        "execution": {},
        "id": "VXDuZWz6ILuJ",
        "outputId": "02e5e6b9-ab89-4d2d-84db-3ecf12915701",
        "colab": {
          "base_uri": "https://localhost:8080/",
          "height": 582,
          "referenced_widgets": [
            "f89600941a0f4f4ea9644704b82883d2",
            "c7364ba495b74acbbeeab498d061cba0",
            "0b05a108eb704b29910a533cf49757c0",
            "ba4a97eb5e1c46ad9215c28f06cec1a0",
            "4e612917383843b8a7daba9f896e416f",
            "ca2161acf6684baf9ad453e6da7e6552"
          ]
        }
      },
      "outputs": [
        {
          "output_type": "display_data",
          "data": {
            "text/plain": [
              "Tab(children=(Output(), Output()), _titles={'0': 'Youtube', '1': 'Bilibili'})"
            ],
            "application/vnd.jupyter.widget-view+json": {
              "version_major": 2,
              "version_minor": 0,
              "model_id": "f89600941a0f4f4ea9644704b82883d2"
            }
          },
          "metadata": {}
        }
      ],
      "source": [
        "# @title Video 3: LSTM, GRU & The Memory Cells\n",
        "from ipywidgets import widgets\n",
        "\n",
        "out2 = widgets.Output()\n",
        "with out2:\n",
        "  from IPython.display import IFrame\n",
        "  class BiliVideo(IFrame):\n",
        "    def __init__(self, id, page=1, width=400, height=300, **kwargs):\n",
        "      self.id=id\n",
        "      src = \"https://player.bilibili.com/player.html?bvid={0}&page={1}\".format(id, page)\n",
        "      super(BiliVideo, self).__init__(src, width, height, **kwargs)\n",
        "\n",
        "  video = BiliVideo(id=f\"BV1Zq4y1X7kj\", width=854, height=480, fs=1)\n",
        "  print(\"Video available at https://www.bilibili.com/video/{0}\".format(video.id))\n",
        "  display(video)\n",
        "\n",
        "out1 = widgets.Output()\n",
        "with out1:\n",
        "  from IPython.display import YouTubeVideo\n",
        "  video = YouTubeVideo(id=f\"qC7O-2sXLAU\", width=854, height=480, fs=1, rel=0)\n",
        "  print(\"Video available at https://youtube.com/watch?v=\" + video.id)\n",
        "  display(video)\n",
        "\n",
        "out = widgets.Tab([out1, out2])\n",
        "out.set_title(0, 'Youtube')\n",
        "out.set_title(1, 'Bilibili')\n",
        "\n",
        "# add event to airtable\n",
        "atform.add_event('Video 3: LSTM, GRU & The Memory Cells')\n",
        "\n",
        "display(out)"
      ]
    },
    {
      "cell_type": "markdown",
      "metadata": {
        "execution": {},
        "id": "rLTaglv5ILuJ"
      },
      "source": [
        "## Section 2.1: Architecture\n",
        "\n",
        "The core idea behind an LSTM is the cell state $C_t$ that runs along all the LSTM units in a layer, and gets updated along the way. These updates are possible through \"gates\". Gates are made out of a sigmoid neural net layer and a pointwise multiplication operation.\n",
        "\n",
        "Each LSTM unit performs the following distinct steps using the input $X_t$, current cell state $C_t$ and previous hidden state $H_{t-1}$:\n",
        "\n",
        "* Forget Gate: *Should I throw away information from this cell?*\n",
        "\n",
        "\\begin{equation}\n",
        "F_t = \\sigma (W_f \\cdot [H_{t-1}, X_t] + b_f)\n",
        "\\end{equation}\n",
        "\n",
        "* Input Gate:\n",
        "    * *Should I add new values to this cell?*\n",
        "      \\begin{equation}\n",
        "      I_t = \\sigma (W_i \\cdot [H_{t-1}, X_t] + b_i)\n",
        "      \\end{equation}\n",
        "    * *What new candidate values should I store?*\n",
        "      \\begin{equation}\n",
        "      \\tilde{C}_t = tanh (W_C \\cdot [H_{t-1}, X_t] + b_C)\n",
        "      \\end{equation}\n",
        "\n",
        "* Update cell state: *Forget things from the past and add new things from the candidates*\n",
        "  \\begin{equation}\n",
        "  C_t = (F_t \\cdot C_{t-1}) + (I_t \\cdot \\tilde{C}_t)\n",
        "  \\end{equation}\n",
        "\n",
        "* Output Gate:\n",
        "    * *What information should I output?*\n",
        "      \\begin{equation}\n",
        "      O_t = \\sigma (W_o \\cdot [H_{t-1}, X_t] + b_o)\n",
        "      \\end{equation}\n",
        "    * *How much of the cell state should I store in the hidden state?*\n",
        "      \\begin{equation}\n",
        "      H_t = O_t \\cdot tanh(C_t)\n",
        "      \\end{equation}\n",
        "\n",
        "The architecture can be summarized by the diagram below:\n",
        "\n",
        "<center>\n",
        "<figure>\n",
        "  <img width=700 src=\"https://raw.githubusercontent.com/NeuromatchAcademy/course-content-dl/main/tutorials/W2D3_ModernRecurrentNeuralNetworks/static/lstm-1.svg\">\n",
        "  <figcaption>\n",
        "  Source <a href=\"https://d2l.ai/\">d2l.ai</a>\n",
        "  </figcaption>\n",
        "</figure>\n",
        "</center>"
      ]
    },
    {
      "cell_type": "markdown",
      "metadata": {
        "execution": {},
        "id": "th-qgLPgILuJ"
      },
      "source": [
        "### Coding Exercise 2.1: Implementing LSTM\n",
        "\n",
        "It is now your turn to build an LSTM network in PyTorch. Feel free to refer to the documentation [here](https://pytorch.org/docs/stable/generated/torch.nn.LSTM.html#torch.nn.LSTM).\n",
        "\n",
        "* Once again we will use `nn.Embedding`. You are given the `vocab_size` and the `embed_size`.\n",
        "* Add the [`LSTM`](https://pytorch.org/docs/stable/generated/torch.nn.LSTM.html#torch.nn.LSTM) layers.\n",
        "* Define a dropout layer of 0.5.\n",
        "* Determine the size of inputs and outputs to the fully-connected layer.\n",
        "* Pay special attention to the shapes of your inputs and outputs as you write the forward function."
      ]
    },
    {
      "cell_type": "code",
      "execution_count": null,
      "metadata": {
        "execution": {},
        "id": "dC2aVOTzILuJ"
      },
      "outputs": [],
      "source": [
        "class LSTM(nn.Module):\n",
        "  def __init__(self, layers, output_size, hidden_size, vocab_size, embed_size,\n",
        "               device):\n",
        "    super(LSTM, self).__init__()\n",
        "    self.n_layers = layers\n",
        "    self.output_size = output_size\n",
        "    self.hidden_size = hidden_size\n",
        "    self.device = device\n",
        "    ####################################################################\n",
        "    # Fill in missing code below (...),\n",
        "    # then remove or comment the line below to test your function\n",
        "    raise NotImplementedError(\"LSTM Init\")\n",
        "    ####################################################################\n",
        "    # Define the word embeddings\n",
        "    self.word_embeddings = ...\n",
        "    # Define the dropout layer\n",
        "    self.dropout = ...\n",
        "    # Define the lstm layer\n",
        "    self.lstm = ...\n",
        "    # Define the fully-connected layer\n",
        "    self.fc = ...\n",
        "\n",
        "\n",
        "  def forward(self, input_sentences):\n",
        "    \"\"\"Hint: Make sure the shapes of your tensors match the requirement\"\"\"\n",
        "    ####################################################################\n",
        "    # Fill in missing code below (...),\n",
        "    # then remove or comment the line below to test your function\n",
        "    raise NotImplementedError(\"LSTM Forward\")\n",
        "    ####################################################################\n",
        "    # Embeddings\n",
        "    # `input` shape: (`num_steps`, `batch_size`, `num_hiddens`)\n",
        "    input = ...\n",
        "\n",
        "    hidden = (torch.randn(self.n_layers, input.shape[1],\n",
        "                          self.hidden_size).to(self.device),\n",
        "              torch.randn(self.n_layers, input.shape[1],\n",
        "                          self.hidden_size).to(self.device))\n",
        "    # Dropout for regularization\n",
        "    input = self.dropout(input)\n",
        "    # LSTM\n",
        "    output, hidden = ...\n",
        "\n",
        "    h_n = hidden[0].permute(1, 0, 2)\n",
        "    h_n = h_n.contiguous().view(h_n.shape[0], -1)\n",
        "\n",
        "    logits = self.fc(h_n)\n",
        "\n",
        "    return logits\n",
        "\n",
        "\n",
        "# add event to airtable\n",
        "atform.add_event('Coding Exercise 2.1: Implementing LSTM')\n",
        "\n",
        "## Uncomment to run\n",
        "# sampleLSTM = LSTM(3, 10, 100, 1000, 300, DEVICE)\n",
        "# print(sampleLSTM)"
      ]
    },
    {
      "cell_type": "markdown",
      "metadata": {
        "execution": {},
        "id": "OE4k9lyrILuJ"
      },
      "source": [
        "[*Click for solution*](https://github.com/NeuromatchAcademy/course-content-dl/tree/main//tutorials/W2D3_ModernRecurrentNeuralNetworks/solutions/W2D3_Tutorial2_Solution_2e49ddad.py)\n",
        "\n"
      ]
    },
    {
      "cell_type": "markdown",
      "metadata": {
        "execution": {},
        "id": "mBCGzphMILuJ"
      },
      "source": [
        "```\n",
        "LSTM(\n",
        "  (word_embeddings): Embedding(1000, 300)\n",
        "  (dropout): Dropout(p=0.5, inplace=False)\n",
        "  (lstm): LSTM(300, 100, num_layers=3)\n",
        "  (fc): Linear(in_features=300, out_features=10, bias=True)\n",
        ")\n",
        "```"
      ]
    },
    {
      "cell_type": "code",
      "execution_count": null,
      "metadata": {
        "execution": {},
        "id": "WBpI42L2ILuJ"
      },
      "outputs": [],
      "source": [
        "# Hyperparameters\n",
        "learning_rate = 0.0003\n",
        "layers = 2\n",
        "output_size = 2\n",
        "hidden_size = 16\n",
        "embedding_length = 100\n",
        "epochs = 10\n",
        "\n",
        "# Model, training, testing\n",
        "set_seed(SEED)\n",
        "lstm_model = LSTM(layers, output_size, hidden_size, vocab_size,\n",
        "                  embedding_length, DEVICE)\n",
        "lstm_model.to(DEVICE)\n",
        "lstm_train_loss, lstm_train_acc, lstm_validation_loss, lstm_validation_acc = train(lstm_model,\n",
        "                                                                                   DEVICE,\n",
        "                                                                                   train_iter,\n",
        "                                                                                   valid_iter,\n",
        "                                                                                   epochs,\n",
        "                                                                                   learning_rate)\n",
        "test_accuracy = test(lstm_model, DEVICE, test_iter)\n",
        "print(f'\\n\\nTest Accuracy: {test_accuracy} of the LSTM model\\n')\n",
        "\n",
        "# Plotting accuracy curve\n",
        "plt.figure()\n",
        "plt.subplot(211)\n",
        "plot_train_val(np.arange(0, epochs), lstm_train_acc, lstm_validation_acc,\n",
        "               'train accuracy',\n",
        "               'val accuracy',\n",
        "               'LSTM on IMDB text classification',\n",
        "               'accuracy',\n",
        "               color='C0')\n",
        "plt.legend(loc='upper left')\n",
        "plt.subplot(212)\n",
        "plot_train_val(np.arange(0, epochs), lstm_train_loss, lstm_validation_loss,\n",
        "               'train loss',\n",
        "               'val loss',\n",
        "               '',\n",
        "               'loss',\n",
        "               color='C0')\n",
        "plt.legend(loc='upper left')\n",
        "plt.tight_layout()\n",
        "plt.show()"
      ]
    },
    {
      "cell_type": "markdown",
      "metadata": {
        "execution": {},
        "id": "KVme6wfHILuJ"
      },
      "source": [
        "## Section 2.2: Gated Recurrent Units (GRU)\n",
        "\n",
        "The GRU architecture looks very similar to the LSTM, and is often used as an alternative to the traditional LSTM. It also contains some variations that reduce it's complexity. For example, it combines the forget and input gates into a single “update gate”; it contains a \"hidden state\" but not a \"cell state\". In the next section we will be using GRUs as the choice of recurrent unit in our models, but you can always swap out the GRU for an LSTM later on (make sure that you take care of input and output dimensions in this case). Here is a description of the parts of the GRU:\n",
        "\n",
        "* Reset Gate: *How much of the previous hidden state should I remember?*\n",
        "  \\begin{equation}\n",
        "  R_t = \\sigma (W_r \\cdot [H_{t-1}, X_t])\n",
        "  \\end{equation}\n",
        "\n",
        "* Update Gate:\n",
        "    * *How much of the new state is different from the old state?*\n",
        "      \\begin{equation}\n",
        "      Z_t = \\sigma (W_z \\cdot [H_{t-1}, X_t])\n",
        "      \\end{equation}\n",
        "    * *What new candidate values should I store?*\n",
        "      \\begin{equation}\n",
        "      \\tilde{H}_t = tanh (W \\cdot [R_t \\cdot H_{t-1}, X_t])\n",
        "      \\end{equation}\n",
        "\n",
        "* Update hidden state: *Deciding how much of the old hidden state to keep and discard*\n",
        "  \\begin{equation}\n",
        "  H_t = ((1-Z_t) \\cdot H_{t-1} ) + (Z_t \\cdot \\tilde{H}_t)\n",
        "  \\end{equation}\n",
        "\n",
        "Here is what the architecture looks like:\n",
        "\n",
        "<center>\n",
        "<figure>\n",
        "  <img width=700 src=\"https://raw.githubusercontent.com/NeuromatchAcademy/course-content-dl/main/tutorials/W2D3_ModernRecurrentNeuralNetworks/static/gru-3.svg\">\n",
        "  <figcaption>\n",
        "  Source <a href=\"https://d2l.ai/\">d2l.ai</a>\n",
        "  </figcaption>\n",
        "</figure>\n",
        "</center>"
      ]
    },
    {
      "cell_type": "markdown",
      "metadata": {
        "execution": {},
        "id": "UZ0wVDnAILuK"
      },
      "source": [
        "### Coding Exercise 2.2: BiLSTM\n",
        "\n",
        "Let's apply the knowledge to write a bi-LSTM using PyTorch.\n",
        "\n",
        "* Use an Embedding layer\n",
        "* Dropout of 0.5\n",
        "* Add 2 LSTM layers\n",
        "* Linear layer"
      ]
    },
    {
      "cell_type": "code",
      "execution_count": null,
      "metadata": {
        "execution": {},
        "id": "GzQdzy8eILuK"
      },
      "outputs": [],
      "source": [
        "class biLSTM(nn.Module):\n",
        "  def __init__(self, output_size, hidden_size, vocab_size, embed_size,\n",
        "               device):\n",
        "    super(biLSTM, self).__init__()\n",
        "    self.output_size = output_size\n",
        "    self.hidden_size = hidden_size\n",
        "    self.device = device\n",
        "    ####################################################################\n",
        "    # Fill in missing code below (...)\n",
        "    raise NotImplementedError(\"biLSTM\")\n",
        "    ####################################################################\n",
        "    # Define the word embeddings\n",
        "    self.word_embeddings = ...\n",
        "    # Define the dropout layer\n",
        "    self.dropout = ...\n",
        "    # Define the bilstm layer\n",
        "    self.bilstm = ...\n",
        "    # Define the fully-connected layer\n",
        "    self.fc = ...\n",
        "\n",
        "  def forward(self, input_sentences):\n",
        "    input = self.word_embeddings(input_sentences).permute(1, 0, 2)\n",
        "    hidden = (torch.randn(4, input.shape[1], self.hidden_size).to(self.device),\n",
        "              torch.randn(4, input.shape[1], self.hidden_size).to(self.device))\n",
        "    input = self.dropout(input)\n",
        "\n",
        "    output, hidden = self.bilstm(input, hidden)\n",
        "\n",
        "    h_n = hidden[0].permute(1, 0, 2)\n",
        "    h_n = h_n.contiguous().view(h_n.shape[0], -1)\n",
        "    logits = self.fc(h_n)\n",
        "\n",
        "    return logits\n",
        "\n",
        "\n",
        "# add event to airtable\n",
        "atform.add_event('Coding Exercise 2.2: BiLSTM')\n",
        "\n",
        "## Uncomment to run\n",
        "# sampleBiLSTM = biLSTM(10, 100, 1000, 300, DEVICE)\n",
        "# print(sampleBiLSTM)"
      ]
    },
    {
      "cell_type": "markdown",
      "metadata": {
        "execution": {},
        "id": "DQZDFXAaILuK"
      },
      "source": [
        "[*Click for solution*](https://github.com/NeuromatchAcademy/course-content-dl/tree/main//tutorials/W2D3_ModernRecurrentNeuralNetworks/solutions/W2D3_Tutorial2_Solution_ee3eea5f.py)\n",
        "\n"
      ]
    },
    {
      "cell_type": "markdown",
      "metadata": {
        "execution": {},
        "id": "QWjjUb97ILuK"
      },
      "source": [
        "```\n",
        "biLSTM(\n",
        "  (word_embeddings): Embedding(1000, 300)\n",
        "  (dropout): Dropout(p=0.5, inplace=False)\n",
        "  (bilstm): LSTM(300, 100, num_layers=2, bidirectional=True)\n",
        "  (fc): Linear(in_features=400, out_features=10, bias=True)\n",
        ")\n",
        "```"
      ]
    },
    {
      "cell_type": "code",
      "execution_count": null,
      "metadata": {
        "execution": {},
        "id": "21hEySYcILuK"
      },
      "outputs": [],
      "source": [
        "# Hyperparameters\n",
        "learning_rate = 0.0003\n",
        "output_size = 2\n",
        "hidden_size = 16\n",
        "embedding_length = 100\n",
        "epochs = 10\n",
        "\n",
        "# Model, training, testing\n",
        "set_seed(SEED)\n",
        "bilstm_model = biLSTM(output_size, hidden_size, vocab_size,\n",
        "                      embedding_length, DEVICE)\n",
        "bilstm_model.to(DEVICE)\n",
        "bilstm_train_loss, bilstm_train_acc, bilstm_validation_loss, bilstm_validation_acc = train(bilstm_model,\n",
        "                                                                                           DEVICE,\n",
        "                                                                                           train_iter,\n",
        "                                                                                           valid_iter,\n",
        "                                                                                           epochs,\n",
        "                                                                                           learning_rate)\n",
        "test_accuracy = test(bilstm_model, DEVICE, test_iter)\n",
        "print(f'Test Accuracy: {test_accuracy} of the biLSTM model\\n')\n",
        "\n",
        "# Plotting accuracy curve\n",
        "plt.figure()\n",
        "plt.subplot(211)\n",
        "plot_train_val(np.arange(0, epochs), bilstm_train_acc, bilstm_validation_acc,\n",
        "               'train accuracy',\n",
        "               'val accuracy',\n",
        "               'biLSTM on IMDB text classification',\n",
        "               'accuracy',\n",
        "               color='C1')\n",
        "plt.legend(loc='upper left')\n",
        "plt.subplot(212)\n",
        "plot_train_val(np.arange(0, epochs), bilstm_train_loss, bilstm_validation_loss,\n",
        "               'train loss',\n",
        "               'val loss',\n",
        "               '',\n",
        "               'loss',\n",
        "               color='C1')\n",
        "plt.legend(loc='upper left')\n",
        "plt.tight_layout()\n",
        "plt.show()"
      ]
    },
    {
      "cell_type": "code",
      "execution_count": null,
      "metadata": {
        "execution": {},
        "id": "2hV0u4EEILuK"
      },
      "outputs": [],
      "source": [
        "# Compare accuracies of LSTM and biLSTM\n",
        "plot_train_val(np.arange(0, epochs), lstm_train_acc,\n",
        "               lstm_validation_acc,\n",
        "               'train accuracy LSTM', 'val accuracy LSTM',\n",
        "               '', 'accuracy',\n",
        "               color='C0')\n",
        "plot_train_val(np.arange(0, epochs), bilstm_train_acc,\n",
        "               bilstm_validation_acc,\n",
        "               'train accuracy biLSTM', 'val accuracy biLSTM',\n",
        "               'Training and Validation Accuracy for LSTM and biLSTM models',\n",
        "               'accuracy',\n",
        "               color='C1')\n",
        "plt.legend(loc='upper left')\n",
        "plt.show()"
      ]
    },
    {
      "cell_type": "markdown",
      "metadata": {
        "execution": {},
        "id": "dwXHz6dMILuK"
      },
      "source": [
        "---\n",
        "# Section 3: Sequence to Sequence (Seq2Seq) & Encoder/ Decoder Networks\n",
        "\n",
        "*Time estimate: ~15mins*"
      ]
    },
    {
      "cell_type": "code",
      "execution_count": 16,
      "metadata": {
        "cellView": "form",
        "execution": {},
        "id": "K3jJdJ1uILuK",
        "outputId": "989ff3d4-8b08-444c-96b8-f9c4f92f7f22",
        "colab": {
          "base_uri": "https://localhost:8080/",
          "height": 582,
          "referenced_widgets": [
            "67878bb82f5248cb91490485d9b754ba",
            "b4632dbb11e34386ac8cc5abd1495483",
            "29a0a83e3a9d4c7ebed0dd13aff624d8",
            "cfa64e3d3640454fb9056e3e8f092f94",
            "d020214476134bd9be2e4c27de8c9109",
            "8cb55fce744a435d968e3b261bd66510"
          ]
        }
      },
      "outputs": [
        {
          "output_type": "display_data",
          "data": {
            "text/plain": [
              "Tab(children=(Output(), Output()), _titles={'0': 'Youtube', '1': 'Bilibili'})"
            ],
            "application/vnd.jupyter.widget-view+json": {
              "version_major": 2,
              "version_minor": 0,
              "model_id": "67878bb82f5248cb91490485d9b754ba"
            }
          },
          "metadata": {}
        }
      ],
      "source": [
        "# @title Video 4: Seq2Seq & Encoder-Decoder Nets\n",
        "from ipywidgets import widgets\n",
        "\n",
        "out2 = widgets.Output()\n",
        "with out2:\n",
        "  from IPython.display import IFrame\n",
        "  class BiliVideo(IFrame):\n",
        "    def __init__(self, id, page=1, width=400, height=300, **kwargs):\n",
        "      self.id=id\n",
        "      src = \"https://player.bilibili.com/player.html?bvid={0}&page={1}\".format(id, page)\n",
        "      super(BiliVideo, self).__init__(src, width, height, **kwargs)\n",
        "\n",
        "  video = BiliVideo(id=f\"BV1WM4y1N7P7\", width=854, height=480, fs=1)\n",
        "  print(\"Video available at https://www.bilibili.com/video/{0}\".format(video.id))\n",
        "  display(video)\n",
        "\n",
        "out1 = widgets.Output()\n",
        "with out1:\n",
        "  from IPython.display import YouTubeVideo\n",
        "  video = YouTubeVideo(id=f\"q-hf7mnZsXo\", width=854, height=480, fs=1, rel=0)\n",
        "  print(\"Video available at https://youtube.com/watch?v=\" + video.id)\n",
        "  display(video)\n",
        "\n",
        "out = widgets.Tab([out1, out2])\n",
        "out.set_title(0, 'Youtube')\n",
        "out.set_title(1, 'Bilibili')\n",
        "\n",
        "# add event to airtable\n",
        "atform.add_event('Video 4: Seq2Seq & Encoder-Decoder Nets')\n",
        "\n",
        "display(out)"
      ]
    },
    {
      "cell_type": "markdown",
      "metadata": {
        "execution": {},
        "id": "Kjc68eHsILuK"
      },
      "source": [
        "Sources: [d2l.ai on encoders](https://d2l.ai/chapter_recurrent-modern/encoder-decoder.html); [d2l.ai on seq2seq](https://d2l.ai/chapter_recurrent-modern/seq2seq.html); [Jalammar's blog](https://jalammar.github.io/visualizing-neural-machine-translation-mechanics-of-seq2seq-models-with-attention/)\n",
        "\n",
        "Sequence-to-sequence models take in a sequence of items (words, characters, etc) as input and produces another sequence of items as output. The most\n",
        "simple seq2seq models are composed of two parts: the encoder, the context (\"state\" in the figure) and the decoder. The encoder and decoder usually consist of recurrent units that we've seen before (RNNs, GRUs or LSTMs). A high-level schematic of the architecture is as follows:\n",
        "\n",
        "<center>\n",
        "<figure>\n",
        "  <img width=700 src=\"https://raw.githubusercontent.com/NeuromatchAcademy/course-content-dl/main/tutorials/W2D3_ModernRecurrentNeuralNetworks/static/seq2seq-predict.svg\">\n",
        "  <figcaption>\n",
        "  Source <a href=\"https://d2l.ai/\">d2l.ai</a>\n",
        "  </figcaption>\n",
        "</figure>\n",
        "</center>\n",
        "\n",
        "The encoder's recurrent unit processes the input one item at a time. Once the entire sequence is processed, the final hidden state vector produced is known as a context vector. The size of the context vector is defined while setting up the model, and is equal to the number of hidden states used in the encoder RNN. The encoder then passes the context to the decoder. The decoder's recurrent unit uses the context to produce the items for the output sequence one by one."
      ]
    },
    {
      "cell_type": "markdown",
      "metadata": {
        "execution": {},
        "id": "GRV0wGMBILuK"
      },
      "source": [
        "One of the most popular applications of seq2seq models is \"machine translation\": the task of taking in a sentence in one language (the source) and producing its translation in another language (the target); with words in both lanugages being the sequence units. This is a supervised learning task, and requires the dataset to have \"parallel sentences\"; i.e., each sentence in the source language must be labelled with its translation in the target language.\n",
        "\n",
        "[Here is an intuitive visualization for understanding seq2seq models for machine translation from English to French](https://i.imgur.com/HJ6t8up.mp4).\n",
        "\n",
        "Since the vocabulary of an entire language is very large, training such models to give meaningful performance requires significant time and resources. In this section, we will train a seq2seq model to perform machine translation from English to [Pig-Latin](https://en.wikipedia.org/wiki/Pig_Latin). We will modify the task to perform character-level machine translation, so that vocabulary size does not grow exponentially."
      ]
    },
    {
      "cell_type": "markdown",
      "metadata": {
        "execution": {},
        "id": "Jn59UjkGILuK"
      },
      "source": [
        "## Coding Exercise 3: Encoder\n",
        "\n",
        "Let us consider a sequence example (`batch_size=1`). Suppose that the input sequence is $x_1, \\ldots, x_T$, such that $x_t$ is the $t^{\\mathrm{th}}$ token in the input text sequence. At time step $t$, the RNN transforms the input feature vector $\\mathbf{x}_t$ for $x_t$ and the hidden state $\\mathbf{h} _{t-1}$ from the previous time step into the current hidden state $\\mathbf{h}_t$.\n",
        "\n",
        "We can use a function $f$ to express the transformation of the RNN's recurrent layer:\n",
        "\n",
        "\\begin{equation}\n",
        "\\mathbf{h}_t = f(\\mathbf{x}_t, \\mathbf{h}_{t-1})\n",
        "\\end{equation}\n",
        "\n",
        "In general, the encoder transforms the hidden states at all the time steps into the context variable through a customized function $q$:\n",
        "\n",
        "\\begin{equation}\n",
        "\\mathbf{c} =  q(\\mathbf{h}_1, \\ldots, \\mathbf{h}_T)\n",
        "\\end{equation}\n",
        "\n",
        "For example, when choosing $q(\\mathbf{h}_1, \\ldots, \\mathbf{h}_T) = \\mathbf{h}_T$  the context variable is just the hidden state $\\mathbf{h}_T$ of the input sequence at the final time step.\n",
        "\n",
        "So far we have used a unidirectional RNN to design the encoder, where a hidden state only depends on the input subsequence at and before the time step of the hidden state. We can also construct encoders using bidirectional RNNs. In this case, a hidden state depends on the subsequence before and after the time step (including the input at the current time step), which encodes the information of the entire sequence.\n",
        "\n",
        "Now let us implement the RNN encoder. Note that we use an *embedding layer*\n",
        "to obtain the feature vector for each token in the input sequence. The weight of an embedding layer is a matrix whose number of rows is equal to the size of the input vocabulary (`vocab_size`) and the number of columns equals to the feature vector's dimension (`embed_size`). For any input token index $i$,\n",
        "the embedding layer fetches the $i^{\\mathrm{th}}$ row (starting from 0) of the weight matrix to return its feature vector. ere we choose a multilayer GRU to implement the encoder."
      ]
    },
    {
      "cell_type": "markdown",
      "metadata": {
        "execution": {},
        "id": "yK08hrHtILuK"
      },
      "source": [
        "The returned variables of recurrent layers have been completely explained at [this link](https://www.d2l.ai/chapter_recurrent-neural-networks/rnn-concise.html#sec-rnn-concise). Let us still use a concrete example to illustrate the above encoder implementation. Below we instantiate a two-layer GRU encoder whose number of hidden units is 16. Given a minibatch of sequence inputs $X$ (`batch_size=4`, `number_of_time_steps=7`), the hidden states of the last layer at all the time steps (`output` returned by the encoder's recurrent layers) are a tensor of shape (number of time steps, batch size, number of hidden units)."
      ]
    },
    {
      "cell_type": "code",
      "execution_count": null,
      "metadata": {
        "execution": {},
        "id": "08nSqoEyILuK"
      },
      "outputs": [],
      "source": [
        "class Seq2SeqEncoder(d2l.Encoder):\n",
        "  \"\"\"The RNN encoder for sequence to sequence learning.\"\"\"\n",
        "  def __init__(self, vocab_size, embed_size, num_hiddens, num_layers,\n",
        "                dropout=0, **kwargs):\n",
        "    super(Seq2SeqEncoder, self).__init__(**kwargs)\n",
        "    ####################################################################\n",
        "    # Fill in missing code below (...),\n",
        "    # then remove or comment the line below to test your function\n",
        "    raise NotImplementedError(\"Encoder Unit\")\n",
        "    ####################################################################\n",
        "    # Embedding layer\n",
        "    self.embedding = ...\n",
        "    # Here you're going to implement a GRU as the RNN unit\n",
        "    self.rnn = ...\n",
        "\n",
        "  def forward(self, X, *args):\n",
        "    # The output `X` shape: (`batch_size`, `num_steps`, `embed_size`)\n",
        "    X = self.embedding(X)\n",
        "    # In RNN models, the first axis corresponds to time steps\n",
        "    X = X.permute(1, 0, 2)\n",
        "    ####################################################################\n",
        "    # Fill in missing code below (...),\n",
        "    # then remove or comment the line below to test your function\n",
        "    raise NotImplementedError(\"Forward pass\")\n",
        "    ####################################################################\n",
        "    # When state is not mentioned, it defaults to zeros, the output should be a RNN function of X!\n",
        "    output, state = ...\n",
        "    # `output` shape: (`num_steps`, `batch_size`, `num_hiddens`)\n",
        "    # `state` shape: (`num_layers`, `batch_size`, `num_hiddens`)\n",
        "\n",
        "    return output, state\n",
        "\n",
        "\n",
        "# add event to airtable\n",
        "atform.add_event('Coding Exercise 3: Encoder')\n",
        "\n",
        "X = torch.zeros((4, 7), dtype=torch.long)\n",
        "## uncomment the lines below.\n",
        "# encoder = Seq2SeqEncoder(vocab_size=10, embed_size=8, num_hiddens=16, num_layers=2)\n",
        "# encoder.eval()\n",
        "# output, state = encoder(X)\n",
        "# print(output.shape)\n",
        "# print(state.shape)"
      ]
    },
    {
      "cell_type": "markdown",
      "metadata": {
        "execution": {},
        "id": "uKtiTIC8ILuK"
      },
      "source": [
        "[*Click for solution*](https://github.com/NeuromatchAcademy/course-content-dl/tree/main//tutorials/W2D3_ModernRecurrentNeuralNetworks/solutions/W2D3_Tutorial2_Solution_29fbb575.py)\n",
        "\n"
      ]
    },
    {
      "cell_type": "markdown",
      "metadata": {
        "execution": {},
        "id": "0Rmd9KMHILuK"
      },
      "source": [
        "```\n",
        "torch.Size([7, 4, 16])\n",
        "torch.Size([2, 4, 16])\n",
        "```"
      ]
    },
    {
      "cell_type": "markdown",
      "metadata": {
        "execution": {},
        "id": "jXn7lds8ILuK"
      },
      "source": [
        "## Section 3.1: Decoder\n",
        "\n",
        "As we just mentioned, the context variable $\\mathbf{c}$ of the encoder's output encodes the entire input sequence $x_1, \\ldots, x_T$. Given the output sequence $y_1, y_2, \\ldots, y_{T'}$ from the training dataset, for each time step $t'$\n",
        "(the symbol differs from the time step $t$ of input sequences or encoders),\n",
        "the probability of the decoder output $y_{t'}$ is conditional on the previous output subsequence $y_1, \\ldots, y_{t'-1}$ and the context variable $\\mathbf{c}$, i.e., $P(y_{t'} \\mid y_1, \\ldots, y_{t'-1}, \\mathbf{c})$.\n",
        "\n",
        "\n",
        "To model this conditional probability on sequences, we can use another RNN as the decoder. At any time step $t^\\prime$ on the output sequence, the RNN takes the output $y_{t^\\prime-1}$ from the previous time step and the context variable $\\mathbf{c}$ as its input, then transforms them and the previous hidden state $\\mathbf{s}_{t^\\prime-1}$ into the hidden state $\\mathbf{s}_{t^\\prime}$ at the current time step.\n",
        "\n",
        "As a result, we can use a function $g$ to express the transformation of the decoder's hidden layer:\n",
        "\n",
        "\\begin{equation}\n",
        "\\mathbf{s}_{t^\\prime} = g(y_{t^\\prime-1}, \\mathbf{c}, \\mathbf{s}_{t^\\prime-1})\n",
        "\\end{equation}\n",
        "\n",
        "After obtaining the hidden state of the decoder, we can use an output layer and the softmax operation to compute the conditional probability distribution\n",
        "$P(y_{t^\\prime} \\mid y_1, \\ldots, y_{t^\\prime-1}, \\mathbf{c})$ for the output at time step $t^\\prime$.\n",
        "\n",
        "Following `fig_seq2seq`, when implementing the decoder as follows, we directly use the hidden state at the final time step of the encoder to initialize the hidden state of the decoder.\n",
        "\n",
        "This requires that the RNN encoder and the RNN decoder have the same number of layers and hidden units. To further incorporate the encoded input sequence information, the context variable is concatenated with the decoder input at all the time steps. To predict the probability distribution of the output token,\n",
        "a fully-connected layer is used to transform the hidden state at the final layer of the RNN decoder."
      ]
    },
    {
      "cell_type": "code",
      "execution_count": null,
      "metadata": {
        "execution": {},
        "id": "Qy51UqoxILuK"
      },
      "outputs": [],
      "source": [
        "class Seq2SeqDecoder(d2l.Decoder):\n",
        "  \"\"\"The RNN decoder for sequence to sequence learning.\"\"\"\n",
        "  def __init__(self, vocab_size, embed_size, num_hiddens, num_layers,\n",
        "                dropout=0, **kwargs):\n",
        "    super(Seq2SeqDecoder, self).__init__(**kwargs)\n",
        "    self.embedding = nn.Embedding(vocab_size, embed_size)\n",
        "    self.rnn = nn.GRU(embed_size + num_hiddens, num_hiddens, num_layers,\n",
        "                      dropout=dropout)\n",
        "    self.dense = nn.Linear(num_hiddens, vocab_size)\n",
        "\n",
        "  def init_state(self, enc_outputs, *args):\n",
        "    return enc_outputs[1]\n",
        "\n",
        "  def forward(self, X, state):\n",
        "    # The output `X` shape: (`num_steps`, `batch_size`, `embed_size`)\n",
        "    X = self.embedding(X).permute(1, 0, 2)\n",
        "    # Broadcast `context` so it has the same `num_steps` as `X`\n",
        "    context = state[-1].repeat(X.shape[0], 1, 1)\n",
        "    X_and_context = torch.cat((X, context), 2)\n",
        "    output, state = self.rnn(X_and_context, state)\n",
        "    output = self.dense(output).permute(1, 0, 2)\n",
        "    # `output` shape: (`batch_size`, `num_steps`, `vocab_size`)\n",
        "    # `state` shape: (`num_layers`, `batch_size`, `num_hiddens`)\n",
        "    return output, state"
      ]
    },
    {
      "cell_type": "markdown",
      "metadata": {
        "execution": {},
        "id": "dQ50yiKzILuK"
      },
      "source": [
        "To illustrate the implemented decoder,\n",
        "below we instantiate it with the same hyperparameters from the aforementioned encoder.\n",
        "As we can see, the output shape of the decoder becomes (batch size, number of time steps, vocabulary size),\n",
        "where the last dimension of the tensor stores the predicted token distribution.\n"
      ]
    },
    {
      "cell_type": "code",
      "execution_count": null,
      "metadata": {
        "execution": {},
        "id": "yBK64jROILuL"
      },
      "outputs": [],
      "source": [
        "decoder = Seq2SeqDecoder(vocab_size=10, embed_size=8, num_hiddens=16,\n",
        "                         num_layers=2)\n",
        "# decoder.initialize()\n",
        "state = decoder.init_state(encoder(X))\n",
        "output, state = decoder(X, state)\n",
        "output.shape, len(state), state[0].shape"
      ]
    },
    {
      "cell_type": "markdown",
      "metadata": {
        "execution": {},
        "id": "RX92S2IHILuL"
      },
      "source": [
        "## Section 3.2: Loss Function\n",
        "\n",
        "At each time step, the decoder predicts a probability distribution for the output tokens. Similar to language modeling, we can apply softmax to obtain the distribution and calculate the cross-entropy loss for optimization. Recall that the special padding tokens are appended to the end of sequences so sequences of varying lengths can be efficiently loaded in minibatches of the same shape.\n",
        "However, prediction of padding tokens should be excluded from loss calculations.\n",
        "\n",
        "To this end, we can use the following `sequence_mask` function to mask irrelevant entries with zero values so later multiplication of any irrelevant prediction with zero equals to zero. For example, if the valid length of two sequences excluding padding tokens (i.e., pads each sequence to the same length usually matching the longest sequence) are one and two, respectively, the remaining entries after the first one and the first two entries are cleared to zeros.\n"
      ]
    },
    {
      "cell_type": "code",
      "execution_count": null,
      "metadata": {
        "execution": {},
        "id": "zwp1kJc4ILuL"
      },
      "outputs": [],
      "source": [
        "def sequence_mask(X, valid_len, value=0):\n",
        "  \"\"\"Mask irrelevant entries in sequences.\"\"\"\n",
        "  maxlen = X.size(1)\n",
        "  mask = torch.arange((maxlen), dtype=torch.float32,\n",
        "                      device=X.device)[None, :] < valid_len[:, None]\n",
        "  X[~mask] = value\n",
        "  return X\n",
        "\n",
        "\n",
        "X = torch.tensor([[1, 2, 3], [4, 5, 6]])\n",
        "print(sequence_mask(X, torch.tensor([1, 2])))\n",
        "X = torch.ones(2, 3, 4)\n",
        "print(sequence_mask(X, torch.tensor([1, 2]), value=-1))"
      ]
    },
    {
      "cell_type": "markdown",
      "metadata": {
        "execution": {},
        "id": "S5Vc4hnmILuL"
      },
      "source": [
        "Now we can extend the softmax cross-entropy loss\n",
        "to allow the masking of irrelevant predictions.\n",
        "Initially,\n",
        "masks for all the predicted tokens are set to one.\n",
        "Once the valid length is given,\n",
        "the mask corresponding to any padding token\n",
        "will be cleared to zero.\n",
        "In the end,\n",
        "the loss for all the tokens\n",
        "will be multipled by the mask to filter out\n",
        "irrelevant predictions of padding tokens in the loss.\n"
      ]
    },
    {
      "cell_type": "code",
      "execution_count": null,
      "metadata": {
        "execution": {},
        "id": "lQnHVkuJILuL"
      },
      "outputs": [],
      "source": [
        "class MaskedSoftmaxCELoss(nn.CrossEntropyLoss):\n",
        "  \"\"\"The softmax cross-entropy loss with masks.\"\"\"\n",
        "\n",
        "  # `pred` shape: (`batch_size`, `num_steps`, `vocab_size`)\n",
        "  # `label` shape: (`batch_size`, `num_steps`)\n",
        "  # `valid_len` shape: (`batch_size`,)\n",
        "\n",
        "  def forward(self, pred, label, valid_len):\n",
        "    weights = torch.ones_like(label)\n",
        "    weights = sequence_mask(weights, valid_len)\n",
        "    self.reduction = 'none'\n",
        "    unweighted_loss = super(MaskedSoftmaxCELoss,\n",
        "                            self).forward(pred.permute(0, 2, 1), label)\n",
        "    weighted_loss = (unweighted_loss * weights).mean(dim=1)\n",
        "\n",
        "    return weighted_loss\n",
        "\n",
        "\n",
        "loss = MaskedSoftmaxCELoss()\n",
        "loss(torch.ones(3, 4, 10),\n",
        "     torch.ones((3, 4), dtype=torch.long),\n",
        "     torch.tensor([4, 2, 0]))"
      ]
    },
    {
      "cell_type": "markdown",
      "metadata": {
        "execution": {},
        "id": "U8KgfBmxILuL"
      },
      "source": [
        "In the following training loop,\n",
        "we concatenate the special beginning-of-sequence token\n",
        "and the original output sequence excluding the final token as\n",
        "the input to the decoder.\n",
        "This is called *teacher forcing* because\n",
        "the original output sequence (token labels) is fed into the decoder.\n",
        "Alternatively,\n",
        "we could also feed the *predicted* token\n",
        "from the previous time step\n",
        "as the current input to the decoder."
      ]
    },
    {
      "cell_type": "code",
      "execution_count": 2,
      "metadata": {
        "cellView": "form",
        "execution": {},
        "id": "VYFHSyc_ILuL"
      },
      "outputs": [],
      "source": [
        "#@title Training\n",
        "def train_seq2seq(net, data_iter, lr, num_epochs, tgt_vocab, device):\n",
        "  \"\"\"Train a model for sequence to sequence.\"\"\"\n",
        "  def xavier_init_weights(m):\n",
        "    if type(m) == nn.Linear:\n",
        "      nn.init.xavier_uniform_(m.weight)\n",
        "    if type(m) == nn.GRU:\n",
        "      for param in m._flat_weights_names:\n",
        "        if \"weight\" in param:\n",
        "          nn.init.xavier_uniform_(m._parameters[param])\n",
        "\n",
        "\n",
        "  net.apply(xavier_init_weights)\n",
        "  net.to(device)\n",
        "  optimizer = torch.optim.Adam(net.parameters(), lr=lr)\n",
        "  loss = MaskedSoftmaxCELoss()\n",
        "  net.train()\n",
        "  animator = d2l.Animator(xlabel='epoch', ylabel='loss',\n",
        "                          xlim=[10, num_epochs])\n",
        "  for epoch in range(num_epochs):\n",
        "    timer = d2l.Timer()\n",
        "    metric = d2l.Accumulator(2)  # Sum of training loss, no. of tokens\n",
        "    for batch in data_iter:\n",
        "      optimizer.zero_grad()\n",
        "      X, X_valid_len, Y, Y_valid_len = [x.to(device) for x in batch]\n",
        "      bos = torch.tensor([tgt_vocab['<bos>']] * Y.shape[0],\n",
        "                          device=device).reshape(-1, 1)\n",
        "      dec_input = torch.cat([bos, Y[:, :-1]], 1)  # Teacher forcing\n",
        "      Y_hat, _ = net(X, dec_input, X_valid_len)\n",
        "      l = loss(Y_hat, Y, Y_valid_len)\n",
        "      l.sum().backward()  # Make the loss scalar for `backward`\n",
        "      d2l.grad_clipping(net, 1)\n",
        "      num_tokens = Y_valid_len.sum()\n",
        "      optimizer.step()\n",
        "      with torch.no_grad():\n",
        "          metric.add(l.sum(), num_tokens)\n",
        "    if (epoch + 1) % 10 == 0:\n",
        "      animator.add(epoch + 1, (metric[0] / metric[1],))\n",
        "  print(f'loss {metric[0] / metric[1]:.3f}, {metric[1] / timer.stop():.1f} '\n",
        "        f'tokens/sec on {str(device)}')"
      ]
    },
    {
      "cell_type": "markdown",
      "metadata": {
        "execution": {},
        "id": "sESePZjOILuL"
      },
      "source": [
        "Now we can create and train an RNN encoder-decoder model\n",
        "for sequence to sequence learning on the machine translation dataset.\n"
      ]
    },
    {
      "cell_type": "code",
      "execution_count": null,
      "metadata": {
        "execution": {},
        "id": "Ma7vIFpqILuL"
      },
      "outputs": [],
      "source": [
        "embed_size, num_hiddens, num_layers, dropout = 32, 32, 2, 0.1\n",
        "batch_size, num_steps = 64, 10\n",
        "lr, num_epochs = 0.005, 300\n",
        "\n",
        "train_iter, src_vocab, tgt_vocab = d2l.load_data_nmt(batch_size, num_steps)\n",
        "encoder = Seq2SeqEncoder(len(src_vocab), embed_size, num_hiddens, num_layers,\n",
        "                         dropout)\n",
        "decoder = Seq2SeqDecoder(len(tgt_vocab), embed_size, num_hiddens, num_layers,\n",
        "                         dropout)\n",
        "net = d2l.EncoderDecoder(encoder, decoder)\n",
        "train_seq2seq(net, train_iter, lr, num_epochs, tgt_vocab, DEVICE)"
      ]
    },
    {
      "cell_type": "markdown",
      "metadata": {
        "execution": {},
        "id": "N5QiufdfILuL"
      },
      "source": [
        "To predict the output sequence token by token, at each decoder time step\n",
        "the predicted token from the previous time step is fed into the decoder as an input.\n",
        "\n",
        "Similar to training, at the initial time step the beginning-of-sequence (&lt;bos&gt;\") token is fed into the decoder. This prediction process is illustrated in `seq2seq` figure. When the end-of-sequence (\"&lt;eos&gt;\") token is predicted, the prediction of the output sequence is complete.\n",
        "\n",
        "\n",
        "<figure>\n",
        "  <img src=\"https://raw.githubusercontent.com/NeuromatchAcademy/course-content-dl/main/tutorials/W2D3_ModernRecurrentNeuralNetworks/static/seq2seq-predict.svg\">\n",
        "  <figcaption>\n",
        "  Source <a href=\"https://d2l.ai/\">d2l.ai</a>\n",
        "  </figcaption>\n",
        "</figure>"
      ]
    },
    {
      "cell_type": "code",
      "execution_count": 3,
      "metadata": {
        "cellView": "form",
        "execution": {},
        "id": "EZnsD4upILuL"
      },
      "outputs": [],
      "source": [
        "# @title Prediction\n",
        "def predict_seq2seq(net, src_sentence, src_vocab, tgt_vocab, num_steps,\n",
        "                    device, save_attention_weights=False):\n",
        "  \"\"\"Predict for sequence to sequence.\"\"\"\n",
        "  # Set `net` to eval mode for inference\n",
        "  net.eval()\n",
        "  src_tokens = src_vocab[src_sentence.lower().split(' ')] + [\n",
        "      src_vocab['<eos>']]\n",
        "  enc_valid_len = torch.tensor([len(src_tokens)], device=device)\n",
        "  src_tokens = d2l.truncate_pad(src_tokens, num_steps, src_vocab['<pad>'])\n",
        "  # Add the batch axis\n",
        "  enc_X = torch.unsqueeze(\n",
        "      torch.tensor(src_tokens, dtype=torch.long, device=device), dim=0)\n",
        "  enc_outputs = net.encoder(enc_X, enc_valid_len)\n",
        "  dec_state = net.decoder.init_state(enc_outputs, enc_valid_len)\n",
        "  # Add the batch axis\n",
        "  dec_X = torch.unsqueeze(\n",
        "      torch.tensor([tgt_vocab['<bos>']], dtype=torch.long, device=device),\n",
        "      dim=0)\n",
        "  output_seq, attention_weight_seq = [], []\n",
        "  for _ in range(num_steps):\n",
        "    Y, dec_state = net.decoder(dec_X, dec_state)\n",
        "    # We use the token with the highest prediction likelihood as the input\n",
        "    # of the decoder at the next time step\n",
        "    dec_X = Y.argmax(dim=2)\n",
        "    pred = dec_X.squeeze(dim=0).type(torch.int32).item()\n",
        "    # Save attention weights (to be covered later)\n",
        "    if save_attention_weights:\n",
        "        attention_weight_seq.append(net.decoder.attention_weights)\n",
        "    # Once the end-of-sequence token is predicted, the generation of the\n",
        "    # output sequence is complete\n",
        "    if pred == tgt_vocab['<eos>']:\n",
        "        break\n",
        "    output_seq.append(pred)\n",
        "  return ' '.join(tgt_vocab.to_tokens(output_seq)), attention_weight_seq"
      ]
    },
    {
      "cell_type": "markdown",
      "metadata": {
        "execution": {},
        "id": "f-L4nDJSILuL"
      },
      "source": [
        "We can evaluate a predicted sequence by comparing it with the label sequence (the ground-truth). BLEU (Bilingual Evaluation Understudy), though originally proposed for evaluating machine translation results in [Papieni et al., 2002](https://dl.acm.org/doi/10.3115/1073083.1073135), has been extensively used in measuring the quality of output sequences for different applications.\n",
        "\n",
        "In principle, for any $n$-grams in the predicted sequence, BLEU evaluates whether this $n$-grams appears in the label sequence.\n",
        "\n",
        "Denote by $p_n$ the precision of $n$-grams, which is the ratio of the number of matched $n$-grams in the predicted and label sequences to the number of $n$-grams in the predicted sequence.\n",
        "To explain, given a label sequence $A$, $B$, $C$, $D$, $E$, $F$, and a predicted sequence $A$, $B$, $B$, $C$, $D$, we have $p_1 = 4/5$,  $p_2 = 3/4$, $p_3 = 1/3$, and $p_4 = 0$.\n",
        "\n",
        "Besides, let $\\mathrm{len}_{\\text{label}}$ and $\\mathrm{len}_{\\text{pred}}$\n",
        "be the numbers of tokens in the label sequence and the predicted sequence, respectively.\n",
        "\n",
        "Then, BLEU is defined as\n",
        "\n",
        "\\begin{equation}\n",
        "\\exp\\left(\\min\\left(0, 1 - \\frac{\\mathrm{len}_{\\text{label}}}{\\mathrm{len}_{\\text{pred}}}\\right)\\right) \\prod_{n=1}^k p_n^{1/2^n},\n",
        "\\end{equation}\n",
        "\n",
        "where $k$ is the longest $n$-grams for matching.\n",
        "\n",
        "Based on the definition of BLEU in the above equation, whenever the predicted sequence is the same as the label sequence, BLEU is 1.\n",
        "\n",
        "Moreover, since matching longer $n$-grams is more difficult, BLEU assigns a greater weight to a longer $n$-gram precision. Specifically, when $p_n$ is fixed, $p_n^{1/2^n}$ increases as $n$ grows (the original paper uses $p_n^{1/n}$).\n",
        "\n",
        "Furthermore, since predicting shorter sequences tends to obtain a higher $p_n$ value, the coefficient before the multiplication term in the above equation\n",
        "penalizes shorter predicted sequences.\n",
        "\n",
        "For example, when $k=2$, given the label sequence $A$, $B$, $C$, $D$, $E$, $F$ and the predicted sequence $A$, $B$, although $p_1 = p_2 = 1$, the penalty factor $\\exp(1-6/2) \\approx 0.14$ lowers the BLEU.\n",
        "\n",
        "We implement the BLEU measure as follows.\n"
      ]
    },
    {
      "cell_type": "code",
      "execution_count": null,
      "metadata": {
        "cellView": "form",
        "execution": {},
        "id": "KiPGJuENILuL"
      },
      "outputs": [],
      "source": [
        "#@title Evaluation of Predicted Sequences\n",
        "def bleu(pred_seq, label_seq, k):\n",
        "  \"\"\"Compute the BLEU.\"\"\"\n",
        "  pred_tokens, label_tokens = pred_seq.split(' '), label_seq.split(' ')\n",
        "  len_pred, len_label = len(pred_tokens), len(label_tokens)\n",
        "  score = math.exp(min(0, 1 - len_label / len_pred))\n",
        "  for n in range(1, k + 1):\n",
        "    num_matches, label_subs = 0, collections.defaultdict(int)\n",
        "    for i in range(len_label - n + 1):\n",
        "      label_subs[''.join(label_tokens[i:i + n])] += 1\n",
        "    for i in range(len_pred - n + 1):\n",
        "      if label_subs[''.join(pred_tokens[i:i + n])] > 0:\n",
        "        num_matches += 1\n",
        "        label_subs[''.join(pred_tokens[i:i + n])] -= 1\n",
        "    score *= math.pow(num_matches / (len_pred - n + 1), math.pow(0.5, n))\n",
        "  return score"
      ]
    },
    {
      "cell_type": "markdown",
      "metadata": {
        "execution": {},
        "id": "PevhotJzILuL"
      },
      "source": [
        "In the end,\n",
        "we use the trained RNN encoder-decoder\n",
        "to translate a few English sentences into French\n",
        "and compute the BLEU of the results.\n"
      ]
    },
    {
      "cell_type": "code",
      "execution_count": null,
      "metadata": {
        "execution": {},
        "id": "PZswh2EKILuL"
      },
      "outputs": [],
      "source": [
        "engs = ['go .', \"i lost .\", 'he\\'s calm .', 'i\\'m home .']\n",
        "# fras = ['va !', 'j\\'ai perdu .', 'il est calme .', 'je suis chez moi .']\n",
        "fras = [ 'je suis chez moi .', 'j\\'ai perdu .','va !', 'il est calme .']\n",
        "for eng, fra in zip(engs, fras):\n",
        "  translation, attention_weight_seq = predict_seq2seq(net,\n",
        "                                                      eng,\n",
        "                                                      src_vocab,\n",
        "                                                      tgt_vocab,\n",
        "                                                      num_steps,\n",
        "                                                      DEVICE)\n",
        "  print(f'{eng} => {translation}, bleu {bleu(translation, fra, k=2):.3f}')"
      ]
    },
    {
      "cell_type": "markdown",
      "metadata": {
        "execution": {},
        "id": "DtU2W8P5ILuL"
      },
      "source": [
        "---\n",
        "# Section 4: Ethical aspects\n",
        "\n",
        "*Time estimate: ~7mins*"
      ]
    },
    {
      "cell_type": "code",
      "execution_count": 4,
      "metadata": {
        "cellView": "form",
        "execution": {},
        "id": "B9HoeiXLILuL",
        "outputId": "28dadd0a-16e4-4134-dd03-93cf2e6afafe",
        "colab": {
          "base_uri": "https://localhost:8080/",
          "height": 211
        }
      },
      "outputs": [
        {
          "output_type": "error",
          "ename": "NameError",
          "evalue": "name 'atform' is not defined",
          "traceback": [
            "\u001b[0;31m---------------------------------------------------------------------------\u001b[0m",
            "\u001b[0;31mNameError\u001b[0m                                 Traceback (most recent call last)",
            "\u001b[0;32m<ipython-input-4-8b275e186b51>\u001b[0m in \u001b[0;36m<cell line: 29>\u001b[0;34m()\u001b[0m\n\u001b[1;32m     27\u001b[0m \u001b[0;34m\u001b[0m\u001b[0m\n\u001b[1;32m     28\u001b[0m \u001b[0;31m# add event to airtable\u001b[0m\u001b[0;34m\u001b[0m\u001b[0;34m\u001b[0m\u001b[0m\n\u001b[0;32m---> 29\u001b[0;31m \u001b[0matform\u001b[0m\u001b[0;34m.\u001b[0m\u001b[0madd_event\u001b[0m\u001b[0;34m(\u001b[0m\u001b[0;34m'Video 5: Ethics of Representation and Generation'\u001b[0m\u001b[0;34m)\u001b[0m\u001b[0;34m\u001b[0m\u001b[0;34m\u001b[0m\u001b[0m\n\u001b[0m\u001b[1;32m     30\u001b[0m \u001b[0;34m\u001b[0m\u001b[0m\n\u001b[1;32m     31\u001b[0m \u001b[0mdisplay\u001b[0m\u001b[0;34m(\u001b[0m\u001b[0mout\u001b[0m\u001b[0;34m)\u001b[0m\u001b[0;34m\u001b[0m\u001b[0;34m\u001b[0m\u001b[0m\n",
            "\u001b[0;31mNameError\u001b[0m: name 'atform' is not defined"
          ]
        }
      ],
      "source": [
        "# @title Video 5: Ethics of Representation and Generation\n",
        "from ipywidgets import widgets\n",
        "\n",
        "out2 = widgets.Output()\n",
        "with out2:\n",
        "  from IPython.display import IFrame\n",
        "  class BiliVideo(IFrame):\n",
        "    def __init__(self, id, page=1, width=400, height=300, **kwargs):\n",
        "      self.id=id\n",
        "      src = \"https://player.bilibili.com/player.html?bvid={0}&page={1}\".format(id, page)\n",
        "      super(BiliVideo, self).__init__(src, width, height, **kwargs)\n",
        "\n",
        "  video = BiliVideo(id=f\"BV1v54y1J7SC\", width=854, height=480, fs=1)\n",
        "  print(\"Video available at https://www.bilibili.com/video/{0}\".format(video.id))\n",
        "  display(video)\n",
        "\n",
        "out1 = widgets.Output()\n",
        "with out1:\n",
        "  from IPython.display import YouTubeVideo\n",
        "  video = YouTubeVideo(id=f\"2ULMWtaGQrQ\", width=854, height=480, fs=1, rel=0)\n",
        "  print(\"Video available at https://youtube.com/watch?v=\" + video.id)\n",
        "  display(video)\n",
        "\n",
        "out = widgets.Tab([out1, out2])\n",
        "out.set_title(0, 'Youtube')\n",
        "out.set_title(1, 'Bilibili')\n",
        "\n",
        "# add event to airtable\n",
        "atform.add_event('Video 5: Ethics of Representation and Generation')\n",
        "\n",
        "display(out)"
      ]
    },
    {
      "cell_type": "markdown",
      "metadata": {
        "execution": {},
        "id": "mIzc8IfRILuL"
      },
      "source": [
        "---\n",
        "# Summary\n",
        "\n",
        "During this day, we have learned about modern RNNs and their variants. Now let's see some ethical aspects of representation and Generation, and then we will close the tutorials with an overview."
      ]
    },
    {
      "cell_type": "code",
      "execution_count": 8,
      "metadata": {
        "cellView": "form",
        "execution": {},
        "id": "xc_n5ZeNILuM",
        "outputId": "86aa7014-51ea-4f67-f27c-a6db20759cb6",
        "colab": {
          "base_uri": "https://localhost:8080/",
          "height": 582,
          "referenced_widgets": [
            "5d904db04eb749d5ac6d553684033ee7",
            "7650713ca23f42da940c24b76e255443",
            "f6d25a7b333848368f645db62547d2c5",
            "5a08659b2bae44f5aabe906cf5e3fd1c",
            "6a854897e6bf4e31b035e5e91b061e7b",
            "5fbc776b342a466faae3d7741acf8b00"
          ]
        }
      },
      "outputs": [
        {
          "output_type": "display_data",
          "data": {
            "text/plain": [
              "Tab(children=(Output(), Output()), _titles={'0': 'Youtube', '1': 'Bilibili'})"
            ],
            "application/vnd.jupyter.widget-view+json": {
              "version_major": 2,
              "version_minor": 0,
              "model_id": "5d904db04eb749d5ac6d553684033ee7"
            }
          },
          "metadata": {}
        }
      ],
      "source": [
        "# @title Video 6: Beyond Sequence\n",
        "from ipywidgets import widgets\n",
        "\n",
        "out2 = widgets.Output()\n",
        "with out2:\n",
        "  from IPython.display import IFrame\n",
        "  class BiliVideo(IFrame):\n",
        "    def __init__(self, id, page=1, width=400, height=300, **kwargs):\n",
        "      self.id=id\n",
        "      src = \"https://player.bilibili.com/player.html?bvid={0}&page={1}\".format(id, page)\n",
        "      super(BiliVideo, self).__init__(src, width, height, **kwargs)\n",
        "\n",
        "  video = BiliVideo(id=f\"BV1864y1x7Ek\", width=854, height=480, fs=1)\n",
        "  print(\"Video available at https://www.bilibili.com/video/{0}\".format(video.id))\n",
        "  display(video)\n",
        "\n",
        "out1 = widgets.Output()\n",
        "with out1:\n",
        "  from IPython.display import YouTubeVideo\n",
        "  video = YouTubeVideo(id=f\"lVcpMSJileA\", width=854, height=480, fs=1, rel=0)\n",
        "  print(\"Video available at https://youtube.com/watch?v=\" + video.id)\n",
        "  display(video)\n",
        "\n",
        "out = widgets.Tab([out1, out2])\n",
        "out.set_title(0, 'Youtube')\n",
        "out.set_title(1, 'Bilibili')\n",
        "\n",
        "# add event to airtable\n",
        "atform.add_event('Video 6: Beyond Sequence')\n",
        "\n",
        "display(out)"
      ]
    },
    {
      "cell_type": "code",
      "execution_count": null,
      "metadata": {
        "cellView": "form",
        "execution": {},
        "id": "x4clfigZILuM"
      },
      "outputs": [],
      "source": [
        "# @title Airtable Submission Link\n",
        "from IPython import display as IPydisplay\n",
        "IPydisplay.HTML(\n",
        "   f\"\"\"\n",
        " <div>\n",
        "   <a href= \"{atform.url()}\" target=\"_blank\">\n",
        "   <img src=\"https://github.com/NeuromatchAcademy/course-content-dl/blob/main/tutorials/static/SurveyButton.png?raw=1\"\n",
        " alt=\"button link end of day Survey\" style=\"width:410px\"></a>\n",
        "   </div>\"\"\" )"
      ]
    },
    {
      "cell_type": "markdown",
      "metadata": {
        "execution": {},
        "id": "yRMf2_REILuM"
      },
      "source": [
        "---\n",
        "# Bonus: Attention"
      ]
    },
    {
      "cell_type": "code",
      "execution_count": 9,
      "metadata": {
        "cellView": "form",
        "execution": {},
        "id": "ST5QCCnHILuM",
        "outputId": "4cc362cb-58bd-4941-f89d-2d91be5459d0",
        "colab": {
          "base_uri": "https://localhost:8080/",
          "height": 582,
          "referenced_widgets": [
            "1a5c90ecd7b7406a8fdc2fec68bea583",
            "d9802683dcab4a6983e26e19863e9d1a",
            "db54c765cd2b4246805c5b4199c1a6b4",
            "5cfb22b2e80f4dafaa8807e04393b975",
            "d3c21db615be44c1980767c610c4424d",
            "78554beef51044b7ab22fd18fd7caeab"
          ]
        }
      },
      "outputs": [
        {
          "output_type": "display_data",
          "data": {
            "text/plain": [
              "Tab(children=(Output(), Output()), _titles={'0': 'Youtube', '1': 'Bilibili'})"
            ],
            "application/vnd.jupyter.widget-view+json": {
              "version_major": 2,
              "version_minor": 0,
              "model_id": "1a5c90ecd7b7406a8fdc2fec68bea583"
            }
          },
          "metadata": {}
        }
      ],
      "source": [
        "# @title Video 7: Attention mechanisms\n",
        "from ipywidgets import widgets\n",
        "\n",
        "out2 = widgets.Output()\n",
        "with out2:\n",
        "  from IPython.display import IFrame\n",
        "  class BiliVideo(IFrame):\n",
        "    def __init__(self, id, page=1, width=400, height=300, **kwargs):\n",
        "      self.id=id\n",
        "      src = \"https://player.bilibili.com/player.html?bvid={0}&page={1}\".format(id, page)\n",
        "      super(BiliVideo, self).__init__(src, width, height, **kwargs)\n",
        "\n",
        "  video = BiliVideo(id=f\"BV1Mo4y1S7oK\", width=854, height=480, fs=1)\n",
        "  print(\"Video available at https://www.bilibili.com/video/{0}\".format(video.id))\n",
        "  display(video)\n",
        "\n",
        "out1 = widgets.Output()\n",
        "with out1:\n",
        "  from IPython.display import YouTubeVideo\n",
        "  video = YouTubeVideo(id=f\"Vt9GhJKcEiM\", width=854, height=480, fs=1, rel=0)\n",
        "  print(\"Video available at https://youtube.com/watch?v=\" + video.id)\n",
        "  display(video)\n",
        "\n",
        "out = widgets.Tab([out1, out2])\n",
        "out.set_title(0, 'Youtube')\n",
        "out.set_title(1, 'Bilibili')\n",
        "\n",
        "# add event to airtable\n",
        "atform.add_event('Video 7: Attention mechanisms')\n",
        "\n",
        "display(out)"
      ]
    },
    {
      "cell_type": "markdown",
      "metadata": {
        "execution": {},
        "id": "kg3Bf1TbILuM"
      },
      "source": [
        "Previously, we designed an encoder-decoder architecture based on two RNNs for sequence to sequence learning. Specifically, the RNN encoder transforms a variable-length sequence into a fixed-shape context variable, then the RNN decoder generates the output (target) sequence token by token based on the generated tokens and the context variable. However, even though not all the input (source) tokens are useful for decoding a certain token, the same context variable that encodes the entire input sequence is still used at each decoding step. It is challenging for the models to deal with long sentences.\n",
        "\n",
        "In [Bahdanau et al., 2014](https://arxiv.org/abs/1409.0473), the authors proposed a technique called attention. When predicting a token, if not all the input tokens are relevant, the model aligns (or attends) only to parts of the input sequence that are relevant to the current prediction.\n"
      ]
    },
    {
      "cell_type": "markdown",
      "metadata": {
        "execution": {},
        "id": "06P7EatTILuM"
      },
      "source": [
        "In contrast to seq2seq model, the encoder passes a lot more data to the decoder. Instead of passing the last hidden state of the encoding stage, the encoder passes all the hidden states to the decoder.\n",
        "\n",
        "In order to focus on the parts of input relevant to the decoder, look at the set of encoder hidden states it received. Each encoder hidden state is at most associated with a certain word in the input sentence. We can assign each hidden state a score and multiply it with the softmaxed score, thus amplifying hidden states with high scores, and drowning out hidden states with low scores.\n",
        "\n",
        "Reference Links:\n",
        "\n",
        "* [https://jalammar.github.io/visualizing-neural-machine-translation-mechanics-of-seq2seq-models-with-attention/](https://jalammar.github.io/visualizing-neural-machine-translation-mechanics-of-seq2seq-models-with-attention/)\n",
        "* [https://d2l.ai/chapter_attention-mechanisms/attention-cues.html](https://d2l.ai/chapter_attention-mechanisms/attention-cues.html)"
      ]
    },
    {
      "cell_type": "code",
      "execution_count": 10,
      "metadata": {
        "cellView": "form",
        "execution": {},
        "id": "IIlcePqmILuM",
        "outputId": "055111f3-6fd9-4b66-ad9a-30678bf5af37",
        "colab": {
          "base_uri": "https://localhost:8080/",
          "height": 351
        }
      },
      "outputs": [
        {
          "output_type": "execute_result",
          "data": {
            "text/plain": [
              "<IPython.core.display.HTML object>"
            ],
            "text/html": [
              "<video src=https://jalammar.github.io/images/seq2seq_7.mp4 width=750 controls/>"
            ]
          },
          "metadata": {},
          "execution_count": 10
        }
      ],
      "source": [
        "# @markdown Media 1: Sequence to Sequence model with Attention\n",
        "\n",
        "url = \"https://jalammar.github.io/images/seq2seq_7.mp4\"\n",
        "from IPython.display import HTML\n",
        "HTML(f\"\"\"<video src={url} width=750 controls/>\"\"\")"
      ]
    },
    {
      "cell_type": "code",
      "execution_count": 11,
      "metadata": {
        "cellView": "form",
        "execution": {},
        "id": "I31BcvvwILuM",
        "outputId": "aff67fdb-adc7-4e8f-eef3-8412d1d57345",
        "colab": {
          "base_uri": "https://localhost:8080/",
          "height": 348
        }
      },
      "outputs": [
        {
          "output_type": "execute_result",
          "data": {
            "text/plain": [
              "<IPython.core.display.HTML object>"
            ],
            "text/html": [
              "<video src=https://jalammar.github.io/images/seq2seq_9.mp4 width=750 controls/>"
            ]
          },
          "metadata": {},
          "execution_count": 11
        }
      ],
      "source": [
        "# @markdown Media 2: Mapping input to output\n",
        "\n",
        "url = \"https://jalammar.github.io/images/seq2seq_9.mp4\"\n",
        "from IPython.display import HTML\n",
        "HTML(f\"\"\"<video src={url} width=750 controls/>\"\"\")"
      ]
    },
    {
      "cell_type": "markdown",
      "metadata": {
        "execution": {},
        "id": "XjKsyevTILuM"
      },
      "source": [
        "## Queries, Keys, and Values\n",
        "\n",
        "\n",
        "To calculate the attention mechanism we make use of Queries, Keys and Values. But what are Queries, Keys and Values? Query, Value and Key are the transformations of the input vector.\n",
        "\n",
        "In an attention mechanism the context vector is computed as a weighted sum of values, where the weight assigned to each value is computed through an attention score. The score is usually the dot product between the query and key. The scores then go through the softmax function to yield a set of weights whose sum equals 1.\n",
        "\n",
        "The query is from the decoder hidden state whereas the key and value are from the encoder hidden state.\n"
      ]
    },
    {
      "cell_type": "markdown",
      "metadata": {
        "execution": {},
        "id": "14jRTBkgILuM"
      },
      "source": [
        "Take a minute and look at this [article](https://www.kdnuggets.com/2021/01/attention-mechanism-deep-learning-explained.html). It has detailed graphical explanation on how to calculate attention scores."
      ]
    },
    {
      "cell_type": "markdown",
      "metadata": {
        "execution": {},
        "id": "NZdWPFQ8ILuM"
      },
      "source": [
        "### Bonus Coding Exercise: Attention for Text Classification\n",
        "\n",
        "Until now, we looked at attention aimed at seq2seq networks. Let’s try implementing attention for the above IMDB sentiment analysis dataset. Previously, using the LSTM, the classification completely depended on the last hidden state. In this exercise, we will compute the attention scores between the last hidden state and output of each sequence. The final attention vector will be the weighted average of the outputs at each sequence, with the weights being the attention scores. Lastly, we will concatenate the attention vector and the last hidden state to get the final output.\n",
        "\n",
        "For simplicity's sake, let's implement attention over an LSTM with 1 layer.\n",
        "\n",
        "\n",
        "[*Code reference*](https://github.com/prakashpandey9/Text-Classification-Pytorch/blob/master/main.py)\n"
      ]
    },
    {
      "cell_type": "code",
      "execution_count": null,
      "metadata": {
        "execution": {},
        "id": "PLXNNeyKILuM"
      },
      "outputs": [],
      "source": [
        "class AttentionModel(torch.nn.Module):\n",
        "  def __init__(self, batch_size, output_size, hidden_size, vocab_size,\n",
        "               embedding_length, weights, device):\n",
        "    super(AttentionModel, self).__init__()\n",
        "    self.hidden_size = hidden_size\n",
        "    self.word_embeddings = nn.Embedding(vocab_size, embedding_length)\n",
        "    self.word_embeddings.weights = nn.Parameter(weights, requires_grad=False)\n",
        "    self.lstm = nn.LSTM(embedding_length, hidden_size)\n",
        "    self.fc1 = nn.Linear(2*hidden_size, output_size)\n",
        "    self.device = device\n",
        "    self.num_seq = sentence_length\n",
        "\n",
        "  def attention_net(self, lstm_output, final_state):\n",
        "    \"\"\"\n",
        "    lstm_output : shape: (num_seq, batch_size, hidden_size)\n",
        "    final_state : shape: (1, batch_size, hidden_size)\n",
        "    \"\"\"\n",
        "    ####################################################\n",
        "    # Implement the attenion net\n",
        "    # Fill in missing code below (...)\n",
        "    raise NotImplementedError(\"perform the convolution\")\n",
        "    ####################################################\n",
        "    # permute the output to get the shape (batch_size, num_seq, hidden_size)\n",
        "    # Get the attention weights\n",
        "    # use torch.bmm to compute the attention weights between each output and last hidden state\n",
        "    # pay attention to the tensor shapes, you may have to use squeeze and unsqueeze functions\n",
        "    # softmax the attention weights\n",
        "    # Get the new hidden state, use torch.bmm to get the weighted lstm output\n",
        "    # pay attention to the tensor shapes, you may have to use squeeze and unsqueeze functions\n",
        "    lstm_output = ...\n",
        "    hidden = ...\n",
        "    attn_weights = ...  # expected shape: (batch_size, num_seq)\n",
        "    soft_attn_weights = ...\n",
        "    new_hidden_state = ...\n",
        "\n",
        "    return new_hidden_state\n",
        "\n",
        "  def forward(self, input_sentences):\n",
        "\n",
        "    input = self.word_embeddings(input_sentences)\n",
        "    input = input.permute(1, 0, 2)\n",
        "\n",
        "    h_0 = torch.zeros(1, input.shape[1], self.hidden_size).to(self.device)\n",
        "    c_0 = torch.zeros(1, input.shape[1], self.hidden_size).to(self.device)\n",
        "\n",
        "    output, (final_hidden_state, final_cell_state) = self.lstm(input, (h_0, c_0))\n",
        "    attn_output = self.attention_net(output, final_hidden_state)\n",
        "    final_output = torch.cat((attn_output, final_hidden_state[0]), 1)\n",
        "    logits = self.fc1(final_output)\n",
        "\n",
        "    return logits\n",
        "\n",
        "\n",
        "# Uncomment to check AttentionModel class\n",
        "# attention_model = AttentionModel(32, 2, 16, 20, 200, TEXT.vocab.vectors, DEVICE)\n",
        "# print(attention_model)"
      ]
    },
    {
      "cell_type": "code",
      "execution_count": null,
      "metadata": {
        "execution": {},
        "id": "IMZLTY6wILuM"
      },
      "outputs": [],
      "source": [
        "class AttentionModel(torch.nn.Module):\n",
        "  def __init__(self, batch_size, output_size, hidden_size, vocab_size, embedding_length, sentence_length, weights, device):\n",
        "    super(AttentionModel, self).__init__()\n",
        "    self.hidden_size = hidden_size\n",
        "    self.word_embeddings = nn.Embedding(vocab_size, embedding_length)\n",
        "    self.word_embeddings.weights = nn.Parameter(weights, requires_grad=False)\n",
        "    self.lstm = nn.LSTM(embedding_length, hidden_size)\n",
        "    self.fc1 = nn.Linear(2*hidden_size, output_size)\n",
        "    self.device = device\n",
        "    self.num_seq = sentence_length\n",
        "\n",
        "  def attention_net(self, lstm_output, final_state, batch_size=32):\n",
        "    \"\"\" lstm_output : shape: (num_seq, batch_size, hidden_size)\n",
        "    final_state : shape: (1, batch_size, hidden_size) \"\"\"\n",
        "    # permute the output to get the shape (batch_size, num_seq, hidden_size)\n",
        "    # Get the attention weights # use torch.bmm to compute the attention weights between each output and last hidden state\n",
        "    # pay attention to the tensor shapes, you may have to use squeeze and unsqueeze functions # softmax the attention weights\n",
        "    # Get the new hidden state, use torch.bmm to get the weighted lstm output\n",
        "    # pay attention to the tensor shapes, you may have to use squeeze and unsqueeze functions\n",
        "    lstm_output = lstm_output.permute(1, 0, 2)\n",
        "    hidden = final_state.squeeze(0).unsqueeze(2)\n",
        "    attn_weights = torch.matmul(lstm_output, hidden)\n",
        "    attn_weights = torch.reshape(attn_weights, ([batch_size,self.num_seq])) #expected shape: (batch_size, num_seq)\n",
        "    soft_attn_weights = F.softmax(attn_weights, 1)\n",
        "    new_hidden_state = torch.bmm(lstm_output.transpose(1, 2), soft_attn_weights.unsqueeze(2)).squeeze(2)\n",
        "    return new_hidden_state\n",
        "\n",
        "  def forward(self, input_sentences):\n",
        "    input = self.word_embeddings(input_sentences)\n",
        "    input = input.permute(1, 0, 2)\n",
        "    h_0 = torch.zeros(1, input.shape[1], self.hidden_size).to(self.device)\n",
        "    c_0 = torch.zeros(1, input.shape[1], self.hidden_size).to(self.device)\n",
        "    output, (final_hidden_state, final_cell_state) = self.lstm(input, (h_0, c_0))\n",
        "    attn_output = self.attention_net(output, final_hidden_state, input.shape[1])\n",
        "    final_output = torch.cat((attn_output, final_hidden_state[0]), 1)\n",
        "    logits = self.fc1(final_output)\n",
        "    return logits\n",
        "\n",
        "# Uncomment to check AttentionModel class\n",
        "attention_model = AttentionModel(32, 2, 16, 20, 200, 50, TEXT.vocab.vectors, DEVICE)\n",
        "print(attention_model)"
      ]
    },
    {
      "cell_type": "markdown",
      "metadata": {
        "execution": {},
        "id": "Tyko9z_uILuM"
      },
      "source": [
        "```\n",
        "AttentionModel(\n",
        "  (word_embeddings): Embedding(20, 200)\n",
        "  (lstm): LSTM(200, 16)\n",
        "  (fc1): Linear(in_features=32, out_features=2, bias=True)\n",
        ")\n",
        "```"
      ]
    },
    {
      "cell_type": "code",
      "execution_count": null,
      "metadata": {
        "cellView": "form",
        "execution": {},
        "id": "hv6B6e4hILuM"
      },
      "outputs": [],
      "source": [
        "# @markdown Reload dataset using the default params since variables have been overwritten\n",
        "TEXT, vocab_size, train_iter, valid_iter, test_iter = load_dataset(seed=SEED)"
      ]
    },
    {
      "cell_type": "code",
      "execution_count": null,
      "metadata": {
        "execution": {},
        "id": "U_aT9mYTILuM"
      },
      "outputs": [],
      "source": [
        "learning_rate = 0.0001\n",
        "batch_size = 32  # initially was 16\n",
        "output_size = 2\n",
        "hidden_size = 16\n",
        "embedding_length = 300\n",
        "epochs = 10  # initially was 12\n",
        "sentence_length = 50\n",
        "\n",
        "word_embeddings = TEXT.vocab.vectors\n",
        "vocab_size = len(TEXT.vocab)\n",
        "\n",
        "attention_model = AttentionModel(batch_size,\n",
        "                                 output_size,\n",
        "                                 hidden_size,\n",
        "                                 vocab_size,\n",
        "                                 embedding_length, sentence_length,\n",
        "                                 word_embeddings,\n",
        "                                 DEVICE)\n",
        "attention_model.to(DEVICE)\n",
        "attention_start_time = time.time()\n",
        "set_seed(SEED)\n",
        "attention_train_loss, attention_train_acc, attention_validation_loss, attention_validation_acc = train(attention_model,\n",
        "                                                                                                       DEVICE,\n",
        "                                                                                                       train_iter,\n",
        "                                                                                                       valid_iter,\n",
        "                                                                                                       epochs,\n",
        "                                                                                                       learning_rate)\n",
        "print(\"--- Time taken to train = %s seconds ---\" % (time.time() - attention_start_time))\n",
        "test_accuracy = test(attention_model, DEVICE, test_iter)\n",
        "print(f'\\n\\nTest Accuracy: {test_accuracy}%')"
      ]
    },
    {
      "cell_type": "code",
      "execution_count": null,
      "metadata": {
        "execution": {},
        "id": "KKXauoAwILuM"
      },
      "outputs": [],
      "source": [
        "plt.figure()\n",
        "plt.subplot(211)\n",
        "plot_train_val(np.arange(0, epochs),\n",
        "               attention_train_acc,\n",
        "               attention_validation_acc,\n",
        "               'train accuracy',\n",
        "               'val accuracy',\n",
        "               'attention on IMDB text classification',\n",
        "               'loss',\n",
        "               color='C0')\n",
        "plt.legend(loc='upper left')\n",
        "plt.subplot(212)\n",
        "plot_train_val(np.arange(0, epochs),\n",
        "               attention_train_loss,\n",
        "               attention_validation_loss,\n",
        "               'train loss',\n",
        "               'val loss',\n",
        "               '',\n",
        "               'loss',\n",
        "               color='C1')\n",
        "plt.tight_layout()\n",
        "plt.legend(loc='upper left')\n",
        "plt.show()"
      ]
    }
  ],
  "metadata": {
    "accelerator": "GPU",
    "colab": {
      "name": "W2D3_Tutorial2",
      "provenance": [],
      "toc_visible": true,
      "include_colab_link": true
    },
    "kernel": {
      "display_name": "Python 3",
      "language": "python",
      "name": "python3"
    },
    "kernelspec": {
      "display_name": "Python 3",
      "name": "python3"
    },
    "language_info": {
      "name": "python"
    },
    "widgets": {
      "application/vnd.jupyter.widget-state+json": {
        "8488752b7074435fb7d4b1a44ef04efd": {
          "model_module": "@jupyter-widgets/controls",
          "model_name": "TabModel",
          "model_module_version": "1.5.0",
          "state": {
            "_dom_classes": [],
            "_model_module": "@jupyter-widgets/controls",
            "_model_module_version": "1.5.0",
            "_model_name": "TabModel",
            "_titles": {
              "0": "Youtube",
              "1": "Bilibili"
            },
            "_view_count": null,
            "_view_module": "@jupyter-widgets/controls",
            "_view_module_version": "1.5.0",
            "_view_name": "TabView",
            "box_style": "",
            "children": [
              "IPY_MODEL_fffebbd7a1d14c74861b46496b983698",
              "IPY_MODEL_ca3c87fb8662433798d38263ae02c44a"
            ],
            "layout": "IPY_MODEL_99df137fcd06437f9b534ddc5eb22b7a",
            "selected_index": 0
          }
        },
        "fffebbd7a1d14c74861b46496b983698": {
          "model_module": "@jupyter-widgets/output",
          "model_name": "OutputModel",
          "model_module_version": "1.0.0",
          "state": {
            "_dom_classes": [],
            "_model_module": "@jupyter-widgets/output",
            "_model_module_version": "1.0.0",
            "_model_name": "OutputModel",
            "_view_count": null,
            "_view_module": "@jupyter-widgets/output",
            "_view_module_version": "1.0.0",
            "_view_name": "OutputView",
            "layout": "IPY_MODEL_818e37d5789d41a59667d0e8259523ac",
            "msg_id": "",
            "outputs": [
              {
                "output_type": "stream",
                "name": "stdout",
                "text": [
                  "Video available at https://youtube.com/watch?v=hIHocwdyY7M\n"
                ]
              },
              {
                "output_type": "display_data",
                "data": {
                  "text/plain": "<IPython.lib.display.YouTubeVideo at 0x7a451a092f20>",
                  "text/html": "\n        <iframe\n            width=\"854\"\n            height=\"480\"\n            src=\"https://www.youtube.com/embed/hIHocwdyY7M?fs=1&rel=0\"\n            frameborder=\"0\"\n            allowfullscreen\n            \n        ></iframe>\n        ",
                  "image/jpeg": "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\n"
                },
                "metadata": {}
              }
            ]
          }
        },
        "ca3c87fb8662433798d38263ae02c44a": {
          "model_module": "@jupyter-widgets/output",
          "model_name": "OutputModel",
          "model_module_version": "1.0.0",
          "state": {
            "_dom_classes": [],
            "_model_module": "@jupyter-widgets/output",
            "_model_module_version": "1.0.0",
            "_model_name": "OutputModel",
            "_view_count": null,
            "_view_module": "@jupyter-widgets/output",
            "_view_module_version": "1.0.0",
            "_view_name": "OutputView",
            "layout": "IPY_MODEL_e9af597ba97848f3ab336b2355b3c918",
            "msg_id": "",
            "outputs": [
              {
                "output_type": "stream",
                "name": "stdout",
                "text": [
                  "Video available at https://www.bilibili.com/video/BV1Ng41177az\n"
                ]
              },
              {
                "output_type": "display_data",
                "data": {
                  "text/plain": "<__main__.BiliVideo at 0x7a451a091900>",
                  "text/html": "\n        <iframe\n            width=\"854\"\n            height=\"480\"\n            src=\"https://player.bilibili.com/player.html?bvid=BV1Ng41177az&page=1?fs=1\"\n            frameborder=\"0\"\n            allowfullscreen\n            \n        ></iframe>\n        "
                },
                "metadata": {}
              }
            ]
          }
        },
        "99df137fcd06437f9b534ddc5eb22b7a": {
          "model_module": "@jupyter-widgets/base",
          "model_name": "LayoutModel",
          "model_module_version": "1.2.0",
          "state": {
            "_model_module": "@jupyter-widgets/base",
            "_model_module_version": "1.2.0",
            "_model_name": "LayoutModel",
            "_view_count": null,
            "_view_module": "@jupyter-widgets/base",
            "_view_module_version": "1.2.0",
            "_view_name": "LayoutView",
            "align_content": null,
            "align_items": null,
            "align_self": null,
            "border": null,
            "bottom": null,
            "display": null,
            "flex": null,
            "flex_flow": null,
            "grid_area": null,
            "grid_auto_columns": null,
            "grid_auto_flow": null,
            "grid_auto_rows": null,
            "grid_column": null,
            "grid_gap": null,
            "grid_row": null,
            "grid_template_areas": null,
            "grid_template_columns": null,
            "grid_template_rows": null,
            "height": null,
            "justify_content": null,
            "justify_items": null,
            "left": null,
            "margin": null,
            "max_height": null,
            "max_width": null,
            "min_height": null,
            "min_width": null,
            "object_fit": null,
            "object_position": null,
            "order": null,
            "overflow": null,
            "overflow_x": null,
            "overflow_y": null,
            "padding": null,
            "right": null,
            "top": null,
            "visibility": null,
            "width": null
          }
        },
        "818e37d5789d41a59667d0e8259523ac": {
          "model_module": "@jupyter-widgets/base",
          "model_name": "LayoutModel",
          "model_module_version": "1.2.0",
          "state": {
            "_model_module": "@jupyter-widgets/base",
            "_model_module_version": "1.2.0",
            "_model_name": "LayoutModel",
            "_view_count": null,
            "_view_module": "@jupyter-widgets/base",
            "_view_module_version": "1.2.0",
            "_view_name": "LayoutView",
            "align_content": null,
            "align_items": null,
            "align_self": null,
            "border": null,
            "bottom": null,
            "display": null,
            "flex": null,
            "flex_flow": null,
            "grid_area": null,
            "grid_auto_columns": null,
            "grid_auto_flow": null,
            "grid_auto_rows": null,
            "grid_column": null,
            "grid_gap": null,
            "grid_row": null,
            "grid_template_areas": null,
            "grid_template_columns": null,
            "grid_template_rows": null,
            "height": null,
            "justify_content": null,
            "justify_items": null,
            "left": null,
            "margin": null,
            "max_height": null,
            "max_width": null,
            "min_height": null,
            "min_width": null,
            "object_fit": null,
            "object_position": null,
            "order": null,
            "overflow": null,
            "overflow_x": null,
            "overflow_y": null,
            "padding": null,
            "right": null,
            "top": null,
            "visibility": null,
            "width": null
          }
        },
        "e9af597ba97848f3ab336b2355b3c918": {
          "model_module": "@jupyter-widgets/base",
          "model_name": "LayoutModel",
          "model_module_version": "1.2.0",
          "state": {
            "_model_module": "@jupyter-widgets/base",
            "_model_module_version": "1.2.0",
            "_model_name": "LayoutModel",
            "_view_count": null,
            "_view_module": "@jupyter-widgets/base",
            "_view_module_version": "1.2.0",
            "_view_name": "LayoutView",
            "align_content": null,
            "align_items": null,
            "align_self": null,
            "border": null,
            "bottom": null,
            "display": null,
            "flex": null,
            "flex_flow": null,
            "grid_area": null,
            "grid_auto_columns": null,
            "grid_auto_flow": null,
            "grid_auto_rows": null,
            "grid_column": null,
            "grid_gap": null,
            "grid_row": null,
            "grid_template_areas": null,
            "grid_template_columns": null,
            "grid_template_rows": null,
            "height": null,
            "justify_content": null,
            "justify_items": null,
            "left": null,
            "margin": null,
            "max_height": null,
            "max_width": null,
            "min_height": null,
            "min_width": null,
            "object_fit": null,
            "object_position": null,
            "order": null,
            "overflow": null,
            "overflow_x": null,
            "overflow_y": null,
            "padding": null,
            "right": null,
            "top": null,
            "visibility": null,
            "width": null
          }
        },
        "b530703bce2a4772ad422806c042862f": {
          "model_module": "@jupyter-widgets/controls",
          "model_name": "TabModel",
          "model_module_version": "1.5.0",
          "state": {
            "_dom_classes": [],
            "_model_module": "@jupyter-widgets/controls",
            "_model_module_version": "1.5.0",
            "_model_name": "TabModel",
            "_titles": {
              "0": "Youtube",
              "1": "Bilibili"
            },
            "_view_count": null,
            "_view_module": "@jupyter-widgets/controls",
            "_view_module_version": "1.5.0",
            "_view_name": "TabView",
            "box_style": "",
            "children": [
              "IPY_MODEL_78a87f0593454d5e9bff121c4af2934b",
              "IPY_MODEL_49513ddb5dd7409d8f4cf508466353b4"
            ],
            "layout": "IPY_MODEL_6083b8cb9c664695aff1f85944e6fb15",
            "selected_index": 0
          }
        },
        "78a87f0593454d5e9bff121c4af2934b": {
          "model_module": "@jupyter-widgets/output",
          "model_name": "OutputModel",
          "model_module_version": "1.0.0",
          "state": {
            "_dom_classes": [],
            "_model_module": "@jupyter-widgets/output",
            "_model_module_version": "1.0.0",
            "_model_name": "OutputModel",
            "_view_count": null,
            "_view_module": "@jupyter-widgets/output",
            "_view_module_version": "1.0.0",
            "_view_name": "OutputView",
            "layout": "IPY_MODEL_1fed43f3fbec43229d953583c2d9069b",
            "msg_id": "",
            "outputs": [
              {
                "output_type": "stream",
                "name": "stdout",
                "text": [
                  "Video available at https://youtube.com/watch?v=TpgJwqB4i1c\n"
                ]
              },
              {
                "output_type": "display_data",
                "data": {
                  "text/plain": "<IPython.lib.display.YouTubeVideo at 0x7ff00dd15510>",
                  "text/html": "\n        <iframe\n            width=\"854\"\n            height=\"480\"\n            src=\"https://www.youtube.com/embed/TpgJwqB4i1c?fs=1&rel=0\"\n            frameborder=\"0\"\n            allowfullscreen\n            \n        ></iframe>\n        ",
                  "image/jpeg": "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\n"
                },
                "metadata": {}
              }
            ]
          }
        },
        "49513ddb5dd7409d8f4cf508466353b4": {
          "model_module": "@jupyter-widgets/output",
          "model_name": "OutputModel",
          "model_module_version": "1.0.0",
          "state": {
            "_dom_classes": [],
            "_model_module": "@jupyter-widgets/output",
            "_model_module_version": "1.0.0",
            "_model_name": "OutputModel",
            "_view_count": null,
            "_view_module": "@jupyter-widgets/output",
            "_view_module_version": "1.0.0",
            "_view_name": "OutputView",
            "layout": "IPY_MODEL_ee0c3d06a814435a8370eea12eaa5eeb",
            "msg_id": "",
            "outputs": [
              {
                "output_type": "stream",
                "name": "stdout",
                "text": [
                  "Video available at https://www.bilibili.com/video/BV1X64y1x7BA\n"
                ]
              },
              {
                "output_type": "display_data",
                "data": {
                  "text/plain": "<__main__.BiliVideo at 0x7ff00dba29e0>",
                  "text/html": "\n        <iframe\n            width=\"854\"\n            height=\"480\"\n            src=\"https://player.bilibili.com/player.html?bvid=BV1X64y1x7BA&page=1?fs=1\"\n            frameborder=\"0\"\n            allowfullscreen\n            \n        ></iframe>\n        "
                },
                "metadata": {}
              }
            ]
          }
        },
        "6083b8cb9c664695aff1f85944e6fb15": {
          "model_module": "@jupyter-widgets/base",
          "model_name": "LayoutModel",
          "model_module_version": "1.2.0",
          "state": {
            "_model_module": "@jupyter-widgets/base",
            "_model_module_version": "1.2.0",
            "_model_name": "LayoutModel",
            "_view_count": null,
            "_view_module": "@jupyter-widgets/base",
            "_view_module_version": "1.2.0",
            "_view_name": "LayoutView",
            "align_content": null,
            "align_items": null,
            "align_self": null,
            "border": null,
            "bottom": null,
            "display": null,
            "flex": null,
            "flex_flow": null,
            "grid_area": null,
            "grid_auto_columns": null,
            "grid_auto_flow": null,
            "grid_auto_rows": null,
            "grid_column": null,
            "grid_gap": null,
            "grid_row": null,
            "grid_template_areas": null,
            "grid_template_columns": null,
            "grid_template_rows": null,
            "height": null,
            "justify_content": null,
            "justify_items": null,
            "left": null,
            "margin": null,
            "max_height": null,
            "max_width": null,
            "min_height": null,
            "min_width": null,
            "object_fit": null,
            "object_position": null,
            "order": null,
            "overflow": null,
            "overflow_x": null,
            "overflow_y": null,
            "padding": null,
            "right": null,
            "top": null,
            "visibility": null,
            "width": null
          }
        },
        "1fed43f3fbec43229d953583c2d9069b": {
          "model_module": "@jupyter-widgets/base",
          "model_name": "LayoutModel",
          "model_module_version": "1.2.0",
          "state": {
            "_model_module": "@jupyter-widgets/base",
            "_model_module_version": "1.2.0",
            "_model_name": "LayoutModel",
            "_view_count": null,
            "_view_module": "@jupyter-widgets/base",
            "_view_module_version": "1.2.0",
            "_view_name": "LayoutView",
            "align_content": null,
            "align_items": null,
            "align_self": null,
            "border": null,
            "bottom": null,
            "display": null,
            "flex": null,
            "flex_flow": null,
            "grid_area": null,
            "grid_auto_columns": null,
            "grid_auto_flow": null,
            "grid_auto_rows": null,
            "grid_column": null,
            "grid_gap": null,
            "grid_row": null,
            "grid_template_areas": null,
            "grid_template_columns": null,
            "grid_template_rows": null,
            "height": null,
            "justify_content": null,
            "justify_items": null,
            "left": null,
            "margin": null,
            "max_height": null,
            "max_width": null,
            "min_height": null,
            "min_width": null,
            "object_fit": null,
            "object_position": null,
            "order": null,
            "overflow": null,
            "overflow_x": null,
            "overflow_y": null,
            "padding": null,
            "right": null,
            "top": null,
            "visibility": null,
            "width": null
          }
        },
        "ee0c3d06a814435a8370eea12eaa5eeb": {
          "model_module": "@jupyter-widgets/base",
          "model_name": "LayoutModel",
          "model_module_version": "1.2.0",
          "state": {
            "_model_module": "@jupyter-widgets/base",
            "_model_module_version": "1.2.0",
            "_model_name": "LayoutModel",
            "_view_count": null,
            "_view_module": "@jupyter-widgets/base",
            "_view_module_version": "1.2.0",
            "_view_name": "LayoutView",
            "align_content": null,
            "align_items": null,
            "align_self": null,
            "border": null,
            "bottom": null,
            "display": null,
            "flex": null,
            "flex_flow": null,
            "grid_area": null,
            "grid_auto_columns": null,
            "grid_auto_flow": null,
            "grid_auto_rows": null,
            "grid_column": null,
            "grid_gap": null,
            "grid_row": null,
            "grid_template_areas": null,
            "grid_template_columns": null,
            "grid_template_rows": null,
            "height": null,
            "justify_content": null,
            "justify_items": null,
            "left": null,
            "margin": null,
            "max_height": null,
            "max_width": null,
            "min_height": null,
            "min_width": null,
            "object_fit": null,
            "object_position": null,
            "order": null,
            "overflow": null,
            "overflow_x": null,
            "overflow_y": null,
            "padding": null,
            "right": null,
            "top": null,
            "visibility": null,
            "width": null
          }
        },
        "f89600941a0f4f4ea9644704b82883d2": {
          "model_module": "@jupyter-widgets/controls",
          "model_name": "TabModel",
          "model_module_version": "1.5.0",
          "state": {
            "_dom_classes": [],
            "_model_module": "@jupyter-widgets/controls",
            "_model_module_version": "1.5.0",
            "_model_name": "TabModel",
            "_titles": {
              "0": "Youtube",
              "1": "Bilibili"
            },
            "_view_count": null,
            "_view_module": "@jupyter-widgets/controls",
            "_view_module_version": "1.5.0",
            "_view_name": "TabView",
            "box_style": "",
            "children": [
              "IPY_MODEL_c7364ba495b74acbbeeab498d061cba0",
              "IPY_MODEL_0b05a108eb704b29910a533cf49757c0"
            ],
            "layout": "IPY_MODEL_ba4a97eb5e1c46ad9215c28f06cec1a0",
            "selected_index": 0
          }
        },
        "c7364ba495b74acbbeeab498d061cba0": {
          "model_module": "@jupyter-widgets/output",
          "model_name": "OutputModel",
          "model_module_version": "1.0.0",
          "state": {
            "_dom_classes": [],
            "_model_module": "@jupyter-widgets/output",
            "_model_module_version": "1.0.0",
            "_model_name": "OutputModel",
            "_view_count": null,
            "_view_module": "@jupyter-widgets/output",
            "_view_module_version": "1.0.0",
            "_view_name": "OutputView",
            "layout": "IPY_MODEL_4e612917383843b8a7daba9f896e416f",
            "msg_id": "",
            "outputs": [
              {
                "output_type": "stream",
                "name": "stdout",
                "text": [
                  "Video available at https://youtube.com/watch?v=qC7O-2sXLAU\n"
                ]
              },
              {
                "output_type": "display_data",
                "data": {
                  "text/plain": "<IPython.lib.display.YouTubeVideo at 0x7ff00dba06d0>",
                  "text/html": "\n        <iframe\n            width=\"854\"\n            height=\"480\"\n            src=\"https://www.youtube.com/embed/qC7O-2sXLAU?fs=1&rel=0\"\n            frameborder=\"0\"\n            allowfullscreen\n            \n        ></iframe>\n        ",
                  "image/jpeg": "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\n"
                },
                "metadata": {}
              }
            ]
          }
        },
        "0b05a108eb704b29910a533cf49757c0": {
          "model_module": "@jupyter-widgets/output",
          "model_name": "OutputModel",
          "model_module_version": "1.0.0",
          "state": {
            "_dom_classes": [],
            "_model_module": "@jupyter-widgets/output",
            "_model_module_version": "1.0.0",
            "_model_name": "OutputModel",
            "_view_count": null,
            "_view_module": "@jupyter-widgets/output",
            "_view_module_version": "1.0.0",
            "_view_name": "OutputView",
            "layout": "IPY_MODEL_ca2161acf6684baf9ad453e6da7e6552",
            "msg_id": "",
            "outputs": [
              {
                "output_type": "stream",
                "name": "stdout",
                "text": [
                  "Video available at https://www.bilibili.com/video/BV1Zq4y1X7kj\n"
                ]
              },
              {
                "output_type": "display_data",
                "data": {
                  "text/plain": "<__main__.BiliVideo at 0x7ff00dba11e0>",
                  "text/html": "\n        <iframe\n            width=\"854\"\n            height=\"480\"\n            src=\"https://player.bilibili.com/player.html?bvid=BV1Zq4y1X7kj&page=1?fs=1\"\n            frameborder=\"0\"\n            allowfullscreen\n            \n        ></iframe>\n        "
                },
                "metadata": {}
              }
            ]
          }
        },
        "ba4a97eb5e1c46ad9215c28f06cec1a0": {
          "model_module": "@jupyter-widgets/base",
          "model_name": "LayoutModel",
          "model_module_version": "1.2.0",
          "state": {
            "_model_module": "@jupyter-widgets/base",
            "_model_module_version": "1.2.0",
            "_model_name": "LayoutModel",
            "_view_count": null,
            "_view_module": "@jupyter-widgets/base",
            "_view_module_version": "1.2.0",
            "_view_name": "LayoutView",
            "align_content": null,
            "align_items": null,
            "align_self": null,
            "border": null,
            "bottom": null,
            "display": null,
            "flex": null,
            "flex_flow": null,
            "grid_area": null,
            "grid_auto_columns": null,
            "grid_auto_flow": null,
            "grid_auto_rows": null,
            "grid_column": null,
            "grid_gap": null,
            "grid_row": null,
            "grid_template_areas": null,
            "grid_template_columns": null,
            "grid_template_rows": null,
            "height": null,
            "justify_content": null,
            "justify_items": null,
            "left": null,
            "margin": null,
            "max_height": null,
            "max_width": null,
            "min_height": null,
            "min_width": null,
            "object_fit": null,
            "object_position": null,
            "order": null,
            "overflow": null,
            "overflow_x": null,
            "overflow_y": null,
            "padding": null,
            "right": null,
            "top": null,
            "visibility": null,
            "width": null
          }
        },
        "4e612917383843b8a7daba9f896e416f": {
          "model_module": "@jupyter-widgets/base",
          "model_name": "LayoutModel",
          "model_module_version": "1.2.0",
          "state": {
            "_model_module": "@jupyter-widgets/base",
            "_model_module_version": "1.2.0",
            "_model_name": "LayoutModel",
            "_view_count": null,
            "_view_module": "@jupyter-widgets/base",
            "_view_module_version": "1.2.0",
            "_view_name": "LayoutView",
            "align_content": null,
            "align_items": null,
            "align_self": null,
            "border": null,
            "bottom": null,
            "display": null,
            "flex": null,
            "flex_flow": null,
            "grid_area": null,
            "grid_auto_columns": null,
            "grid_auto_flow": null,
            "grid_auto_rows": null,
            "grid_column": null,
            "grid_gap": null,
            "grid_row": null,
            "grid_template_areas": null,
            "grid_template_columns": null,
            "grid_template_rows": null,
            "height": null,
            "justify_content": null,
            "justify_items": null,
            "left": null,
            "margin": null,
            "max_height": null,
            "max_width": null,
            "min_height": null,
            "min_width": null,
            "object_fit": null,
            "object_position": null,
            "order": null,
            "overflow": null,
            "overflow_x": null,
            "overflow_y": null,
            "padding": null,
            "right": null,
            "top": null,
            "visibility": null,
            "width": null
          }
        },
        "ca2161acf6684baf9ad453e6da7e6552": {
          "model_module": "@jupyter-widgets/base",
          "model_name": "LayoutModel",
          "model_module_version": "1.2.0",
          "state": {
            "_model_module": "@jupyter-widgets/base",
            "_model_module_version": "1.2.0",
            "_model_name": "LayoutModel",
            "_view_count": null,
            "_view_module": "@jupyter-widgets/base",
            "_view_module_version": "1.2.0",
            "_view_name": "LayoutView",
            "align_content": null,
            "align_items": null,
            "align_self": null,
            "border": null,
            "bottom": null,
            "display": null,
            "flex": null,
            "flex_flow": null,
            "grid_area": null,
            "grid_auto_columns": null,
            "grid_auto_flow": null,
            "grid_auto_rows": null,
            "grid_column": null,
            "grid_gap": null,
            "grid_row": null,
            "grid_template_areas": null,
            "grid_template_columns": null,
            "grid_template_rows": null,
            "height": null,
            "justify_content": null,
            "justify_items": null,
            "left": null,
            "margin": null,
            "max_height": null,
            "max_width": null,
            "min_height": null,
            "min_width": null,
            "object_fit": null,
            "object_position": null,
            "order": null,
            "overflow": null,
            "overflow_x": null,
            "overflow_y": null,
            "padding": null,
            "right": null,
            "top": null,
            "visibility": null,
            "width": null
          }
        },
        "67878bb82f5248cb91490485d9b754ba": {
          "model_module": "@jupyter-widgets/controls",
          "model_name": "TabModel",
          "model_module_version": "1.5.0",
          "state": {
            "_dom_classes": [],
            "_model_module": "@jupyter-widgets/controls",
            "_model_module_version": "1.5.0",
            "_model_name": "TabModel",
            "_titles": {
              "0": "Youtube",
              "1": "Bilibili"
            },
            "_view_count": null,
            "_view_module": "@jupyter-widgets/controls",
            "_view_module_version": "1.5.0",
            "_view_name": "TabView",
            "box_style": "",
            "children": [
              "IPY_MODEL_b4632dbb11e34386ac8cc5abd1495483",
              "IPY_MODEL_29a0a83e3a9d4c7ebed0dd13aff624d8"
            ],
            "layout": "IPY_MODEL_cfa64e3d3640454fb9056e3e8f092f94",
            "selected_index": 0
          }
        },
        "b4632dbb11e34386ac8cc5abd1495483": {
          "model_module": "@jupyter-widgets/output",
          "model_name": "OutputModel",
          "model_module_version": "1.0.0",
          "state": {
            "_dom_classes": [],
            "_model_module": "@jupyter-widgets/output",
            "_model_module_version": "1.0.0",
            "_model_name": "OutputModel",
            "_view_count": null,
            "_view_module": "@jupyter-widgets/output",
            "_view_module_version": "1.0.0",
            "_view_name": "OutputView",
            "layout": "IPY_MODEL_d020214476134bd9be2e4c27de8c9109",
            "msg_id": "",
            "outputs": [
              {
                "output_type": "stream",
                "name": "stdout",
                "text": [
                  "Video available at https://youtube.com/watch?v=q-hf7mnZsXo\n"
                ]
              },
              {
                "output_type": "display_data",
                "data": {
                  "text/plain": "<IPython.lib.display.YouTubeVideo at 0x7ff00dba3160>",
                  "text/html": "\n        <iframe\n            width=\"854\"\n            height=\"480\"\n            src=\"https://www.youtube.com/embed/q-hf7mnZsXo?fs=1&rel=0\"\n            frameborder=\"0\"\n            allowfullscreen\n            \n        ></iframe>\n        ",
                  "image/jpeg": "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\n"
                },
                "metadata": {}
              }
            ]
          }
        },
        "29a0a83e3a9d4c7ebed0dd13aff624d8": {
          "model_module": "@jupyter-widgets/output",
          "model_name": "OutputModel",
          "model_module_version": "1.0.0",
          "state": {
            "_dom_classes": [],
            "_model_module": "@jupyter-widgets/output",
            "_model_module_version": "1.0.0",
            "_model_name": "OutputModel",
            "_view_count": null,
            "_view_module": "@jupyter-widgets/output",
            "_view_module_version": "1.0.0",
            "_view_name": "OutputView",
            "layout": "IPY_MODEL_8cb55fce744a435d968e3b261bd66510",
            "msg_id": "",
            "outputs": [
              {
                "output_type": "stream",
                "name": "stdout",
                "text": [
                  "Video available at https://www.bilibili.com/video/BV1WM4y1N7P7\n"
                ]
              },
              {
                "output_type": "display_data",
                "data": {
                  "text/plain": "<__main__.BiliVideo at 0x7ff05f1c2650>",
                  "text/html": "\n        <iframe\n            width=\"854\"\n            height=\"480\"\n            src=\"https://player.bilibili.com/player.html?bvid=BV1WM4y1N7P7&page=1?fs=1\"\n            frameborder=\"0\"\n            allowfullscreen\n            \n        ></iframe>\n        "
                },
                "metadata": {}
              }
            ]
          }
        },
        "cfa64e3d3640454fb9056e3e8f092f94": {
          "model_module": "@jupyter-widgets/base",
          "model_name": "LayoutModel",
          "model_module_version": "1.2.0",
          "state": {
            "_model_module": "@jupyter-widgets/base",
            "_model_module_version": "1.2.0",
            "_model_name": "LayoutModel",
            "_view_count": null,
            "_view_module": "@jupyter-widgets/base",
            "_view_module_version": "1.2.0",
            "_view_name": "LayoutView",
            "align_content": null,
            "align_items": null,
            "align_self": null,
            "border": null,
            "bottom": null,
            "display": null,
            "flex": null,
            "flex_flow": null,
            "grid_area": null,
            "grid_auto_columns": null,
            "grid_auto_flow": null,
            "grid_auto_rows": null,
            "grid_column": null,
            "grid_gap": null,
            "grid_row": null,
            "grid_template_areas": null,
            "grid_template_columns": null,
            "grid_template_rows": null,
            "height": null,
            "justify_content": null,
            "justify_items": null,
            "left": null,
            "margin": null,
            "max_height": null,
            "max_width": null,
            "min_height": null,
            "min_width": null,
            "object_fit": null,
            "object_position": null,
            "order": null,
            "overflow": null,
            "overflow_x": null,
            "overflow_y": null,
            "padding": null,
            "right": null,
            "top": null,
            "visibility": null,
            "width": null
          }
        },
        "d020214476134bd9be2e4c27de8c9109": {
          "model_module": "@jupyter-widgets/base",
          "model_name": "LayoutModel",
          "model_module_version": "1.2.0",
          "state": {
            "_model_module": "@jupyter-widgets/base",
            "_model_module_version": "1.2.0",
            "_model_name": "LayoutModel",
            "_view_count": null,
            "_view_module": "@jupyter-widgets/base",
            "_view_module_version": "1.2.0",
            "_view_name": "LayoutView",
            "align_content": null,
            "align_items": null,
            "align_self": null,
            "border": null,
            "bottom": null,
            "display": null,
            "flex": null,
            "flex_flow": null,
            "grid_area": null,
            "grid_auto_columns": null,
            "grid_auto_flow": null,
            "grid_auto_rows": null,
            "grid_column": null,
            "grid_gap": null,
            "grid_row": null,
            "grid_template_areas": null,
            "grid_template_columns": null,
            "grid_template_rows": null,
            "height": null,
            "justify_content": null,
            "justify_items": null,
            "left": null,
            "margin": null,
            "max_height": null,
            "max_width": null,
            "min_height": null,
            "min_width": null,
            "object_fit": null,
            "object_position": null,
            "order": null,
            "overflow": null,
            "overflow_x": null,
            "overflow_y": null,
            "padding": null,
            "right": null,
            "top": null,
            "visibility": null,
            "width": null
          }
        },
        "8cb55fce744a435d968e3b261bd66510": {
          "model_module": "@jupyter-widgets/base",
          "model_name": "LayoutModel",
          "model_module_version": "1.2.0",
          "state": {
            "_model_module": "@jupyter-widgets/base",
            "_model_module_version": "1.2.0",
            "_model_name": "LayoutModel",
            "_view_count": null,
            "_view_module": "@jupyter-widgets/base",
            "_view_module_version": "1.2.0",
            "_view_name": "LayoutView",
            "align_content": null,
            "align_items": null,
            "align_self": null,
            "border": null,
            "bottom": null,
            "display": null,
            "flex": null,
            "flex_flow": null,
            "grid_area": null,
            "grid_auto_columns": null,
            "grid_auto_flow": null,
            "grid_auto_rows": null,
            "grid_column": null,
            "grid_gap": null,
            "grid_row": null,
            "grid_template_areas": null,
            "grid_template_columns": null,
            "grid_template_rows": null,
            "height": null,
            "justify_content": null,
            "justify_items": null,
            "left": null,
            "margin": null,
            "max_height": null,
            "max_width": null,
            "min_height": null,
            "min_width": null,
            "object_fit": null,
            "object_position": null,
            "order": null,
            "overflow": null,
            "overflow_x": null,
            "overflow_y": null,
            "padding": null,
            "right": null,
            "top": null,
            "visibility": null,
            "width": null
          }
        },
        "5d904db04eb749d5ac6d553684033ee7": {
          "model_module": "@jupyter-widgets/controls",
          "model_name": "TabModel",
          "model_module_version": "1.5.0",
          "state": {
            "_dom_classes": [],
            "_model_module": "@jupyter-widgets/controls",
            "_model_module_version": "1.5.0",
            "_model_name": "TabModel",
            "_titles": {
              "0": "Youtube",
              "1": "Bilibili"
            },
            "_view_count": null,
            "_view_module": "@jupyter-widgets/controls",
            "_view_module_version": "1.5.0",
            "_view_name": "TabView",
            "box_style": "",
            "children": [
              "IPY_MODEL_7650713ca23f42da940c24b76e255443",
              "IPY_MODEL_f6d25a7b333848368f645db62547d2c5"
            ],
            "layout": "IPY_MODEL_5a08659b2bae44f5aabe906cf5e3fd1c",
            "selected_index": 0
          }
        },
        "7650713ca23f42da940c24b76e255443": {
          "model_module": "@jupyter-widgets/output",
          "model_name": "OutputModel",
          "model_module_version": "1.0.0",
          "state": {
            "_dom_classes": [],
            "_model_module": "@jupyter-widgets/output",
            "_model_module_version": "1.0.0",
            "_model_name": "OutputModel",
            "_view_count": null,
            "_view_module": "@jupyter-widgets/output",
            "_view_module_version": "1.0.0",
            "_view_name": "OutputView",
            "layout": "IPY_MODEL_6a854897e6bf4e31b035e5e91b061e7b",
            "msg_id": "",
            "outputs": [
              {
                "output_type": "stream",
                "name": "stdout",
                "text": [
                  "Video available at https://youtube.com/watch?v=lVcpMSJileA\n"
                ]
              },
              {
                "output_type": "display_data",
                "data": {
                  "text/plain": "<IPython.lib.display.YouTubeVideo at 0x7d209da21990>",
                  "text/html": "\n        <iframe\n            width=\"854\"\n            height=\"480\"\n            src=\"https://www.youtube.com/embed/lVcpMSJileA?fs=1&rel=0\"\n            frameborder=\"0\"\n            allowfullscreen\n            \n        ></iframe>\n        ",
                  "image/jpeg": "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\n"
                },
                "metadata": {}
              }
            ]
          }
        },
        "f6d25a7b333848368f645db62547d2c5": {
          "model_module": "@jupyter-widgets/output",
          "model_name": "OutputModel",
          "model_module_version": "1.0.0",
          "state": {
            "_dom_classes": [],
            "_model_module": "@jupyter-widgets/output",
            "_model_module_version": "1.0.0",
            "_model_name": "OutputModel",
            "_view_count": null,
            "_view_module": "@jupyter-widgets/output",
            "_view_module_version": "1.0.0",
            "_view_name": "OutputView",
            "layout": "IPY_MODEL_5fbc776b342a466faae3d7741acf8b00",
            "msg_id": "",
            "outputs": [
              {
                "output_type": "stream",
                "name": "stdout",
                "text": [
                  "Video available at https://www.bilibili.com/video/BV1864y1x7Ek\n"
                ]
              },
              {
                "output_type": "display_data",
                "data": {
                  "text/plain": "<__main__.BiliVideo at 0x7d209da20670>",
                  "text/html": "\n        <iframe\n            width=\"854\"\n            height=\"480\"\n            src=\"https://player.bilibili.com/player.html?bvid=BV1864y1x7Ek&page=1?fs=1\"\n            frameborder=\"0\"\n            allowfullscreen\n            \n        ></iframe>\n        "
                },
                "metadata": {}
              }
            ]
          }
        },
        "5a08659b2bae44f5aabe906cf5e3fd1c": {
          "model_module": "@jupyter-widgets/base",
          "model_name": "LayoutModel",
          "model_module_version": "1.2.0",
          "state": {
            "_model_module": "@jupyter-widgets/base",
            "_model_module_version": "1.2.0",
            "_model_name": "LayoutModel",
            "_view_count": null,
            "_view_module": "@jupyter-widgets/base",
            "_view_module_version": "1.2.0",
            "_view_name": "LayoutView",
            "align_content": null,
            "align_items": null,
            "align_self": null,
            "border": null,
            "bottom": null,
            "display": null,
            "flex": null,
            "flex_flow": null,
            "grid_area": null,
            "grid_auto_columns": null,
            "grid_auto_flow": null,
            "grid_auto_rows": null,
            "grid_column": null,
            "grid_gap": null,
            "grid_row": null,
            "grid_template_areas": null,
            "grid_template_columns": null,
            "grid_template_rows": null,
            "height": null,
            "justify_content": null,
            "justify_items": null,
            "left": null,
            "margin": null,
            "max_height": null,
            "max_width": null,
            "min_height": null,
            "min_width": null,
            "object_fit": null,
            "object_position": null,
            "order": null,
            "overflow": null,
            "overflow_x": null,
            "overflow_y": null,
            "padding": null,
            "right": null,
            "top": null,
            "visibility": null,
            "width": null
          }
        },
        "6a854897e6bf4e31b035e5e91b061e7b": {
          "model_module": "@jupyter-widgets/base",
          "model_name": "LayoutModel",
          "model_module_version": "1.2.0",
          "state": {
            "_model_module": "@jupyter-widgets/base",
            "_model_module_version": "1.2.0",
            "_model_name": "LayoutModel",
            "_view_count": null,
            "_view_module": "@jupyter-widgets/base",
            "_view_module_version": "1.2.0",
            "_view_name": "LayoutView",
            "align_content": null,
            "align_items": null,
            "align_self": null,
            "border": null,
            "bottom": null,
            "display": null,
            "flex": null,
            "flex_flow": null,
            "grid_area": null,
            "grid_auto_columns": null,
            "grid_auto_flow": null,
            "grid_auto_rows": null,
            "grid_column": null,
            "grid_gap": null,
            "grid_row": null,
            "grid_template_areas": null,
            "grid_template_columns": null,
            "grid_template_rows": null,
            "height": null,
            "justify_content": null,
            "justify_items": null,
            "left": null,
            "margin": null,
            "max_height": null,
            "max_width": null,
            "min_height": null,
            "min_width": null,
            "object_fit": null,
            "object_position": null,
            "order": null,
            "overflow": null,
            "overflow_x": null,
            "overflow_y": null,
            "padding": null,
            "right": null,
            "top": null,
            "visibility": null,
            "width": null
          }
        },
        "5fbc776b342a466faae3d7741acf8b00": {
          "model_module": "@jupyter-widgets/base",
          "model_name": "LayoutModel",
          "model_module_version": "1.2.0",
          "state": {
            "_model_module": "@jupyter-widgets/base",
            "_model_module_version": "1.2.0",
            "_model_name": "LayoutModel",
            "_view_count": null,
            "_view_module": "@jupyter-widgets/base",
            "_view_module_version": "1.2.0",
            "_view_name": "LayoutView",
            "align_content": null,
            "align_items": null,
            "align_self": null,
            "border": null,
            "bottom": null,
            "display": null,
            "flex": null,
            "flex_flow": null,
            "grid_area": null,
            "grid_auto_columns": null,
            "grid_auto_flow": null,
            "grid_auto_rows": null,
            "grid_column": null,
            "grid_gap": null,
            "grid_row": null,
            "grid_template_areas": null,
            "grid_template_columns": null,
            "grid_template_rows": null,
            "height": null,
            "justify_content": null,
            "justify_items": null,
            "left": null,
            "margin": null,
            "max_height": null,
            "max_width": null,
            "min_height": null,
            "min_width": null,
            "object_fit": null,
            "object_position": null,
            "order": null,
            "overflow": null,
            "overflow_x": null,
            "overflow_y": null,
            "padding": null,
            "right": null,
            "top": null,
            "visibility": null,
            "width": null
          }
        },
        "1a5c90ecd7b7406a8fdc2fec68bea583": {
          "model_module": "@jupyter-widgets/controls",
          "model_name": "TabModel",
          "model_module_version": "1.5.0",
          "state": {
            "_dom_classes": [],
            "_model_module": "@jupyter-widgets/controls",
            "_model_module_version": "1.5.0",
            "_model_name": "TabModel",
            "_titles": {
              "0": "Youtube",
              "1": "Bilibili"
            },
            "_view_count": null,
            "_view_module": "@jupyter-widgets/controls",
            "_view_module_version": "1.5.0",
            "_view_name": "TabView",
            "box_style": "",
            "children": [
              "IPY_MODEL_d9802683dcab4a6983e26e19863e9d1a",
              "IPY_MODEL_db54c765cd2b4246805c5b4199c1a6b4"
            ],
            "layout": "IPY_MODEL_5cfb22b2e80f4dafaa8807e04393b975",
            "selected_index": 0
          }
        },
        "d9802683dcab4a6983e26e19863e9d1a": {
          "model_module": "@jupyter-widgets/output",
          "model_name": "OutputModel",
          "model_module_version": "1.0.0",
          "state": {
            "_dom_classes": [],
            "_model_module": "@jupyter-widgets/output",
            "_model_module_version": "1.0.0",
            "_model_name": "OutputModel",
            "_view_count": null,
            "_view_module": "@jupyter-widgets/output",
            "_view_module_version": "1.0.0",
            "_view_name": "OutputView",
            "layout": "IPY_MODEL_d3c21db615be44c1980767c610c4424d",
            "msg_id": "",
            "outputs": [
              {
                "output_type": "stream",
                "name": "stdout",
                "text": [
                  "Video available at https://youtube.com/watch?v=Vt9GhJKcEiM\n"
                ]
              },
              {
                "output_type": "display_data",
                "data": {
                  "text/plain": "<IPython.lib.display.YouTubeVideo at 0x7d209da23070>",
                  "text/html": "\n        <iframe\n            width=\"854\"\n            height=\"480\"\n            src=\"https://www.youtube.com/embed/Vt9GhJKcEiM?fs=1&rel=0\"\n            frameborder=\"0\"\n            allowfullscreen\n            \n        ></iframe>\n        ",
                  "image/jpeg": "/9j/4AAQSkZJRgABAQAAAQABAAD/2wCEABALDBoYFhwaGRoeHRwfIjQlJCIiITEuLycwLz0yNzMyPS03QVBCOThLRTEtR2FFS1NWW1xbNUFlbWVYbFBZW1cBERISGBYZLxsbLVc/OUNdV11XWF9XV1dXV1dXXVdXV1dXWFdXV1dXV1dXY1dXV1dXV1dXV1dXV1dXV1dXV11XV//AABEIAWgB4AMBIgACEQEDEQH/xAAbAAEAAgMBAQAAAAAAAAAAAAAABAUDBgcCAf/EAEwQAAIBAwAECQgGBwcDBAMAAAABAgMEEQUSITEGExRBUVNxktIWFyIyYYGRk1ShscHR0yNCUmKCsvAVJDNyc8LhJaLiNENj8Qdko//EABkBAQADAQEAAAAAAAAAAAAAAAABAgQDBf/EAC8RAQACAgEDAgIJBQEAAAAAAAABAgMRIQQSMSJBE1EyM2FxgZGhwdEUI0Lh8AX/2gAMAwEAAhEDEQA/AOfgAAAAAAAAAAAAAAAAAAAAAAAAAAAAAAAAAAAAAAAAAAAAAAAAAAAAAAAAAAAAAAAAAAAAAAAAAAAAAAAAAAAAAAAAAAAAAAAAAAAAAAAAAAAAAAAAAAAAAAAAAAAAAAAAAAAAAAAAAAAAAAAAAAAAAAAAAAAAAAAAz8ll0ocll0oG2AGfksulDksulA2wAz8ll0ocll0oG2AGfksulDksulA2wAz8ll0ocll0oG2AGfksulDksulA2wAz8ll0ocll0oG2AGfksulDksulA2wAz8ll0ocll0oG2AGfksulDksulA2wAz8ll0ocll0oG2AGfksulDksulA2wAz8ll0ocll0oG2AGfksulDksulA2wAz8ll0ocll0oG2AGfksulDksulA2wAz8ll0ocll0oG2AGfksulDksulA2wAz8ll0ocll0oG2AGfksulDksulA2wAz8ll0ocll0oG2AGfksulDksulA2wAz8ll0ocll0oG2AGfksulHyVtJJvK2A2wgAAAAAAAAAAAAAAAsgASqAAAAAAAAAAAAAAAAAAAAAAAAAAAAAAAAAAAAAAAAAAAAAAAAAAAAAAAAAAAeavqvsPR5q+q+wCvABCwAABZWmjdZNzyvY9hh0dQjOW3a+ZG60dAN0FXqvGVlJf1sREzpHMzqGo1tHrD1eYrqkHF4e82qro7LeH7nuKPSFPa1q4cdgidmpjyrwASkAAFkACVQAAAAAAAAAAAAAAAAAAAAAAAAAAAAAAAAAAAAAAAAAAAAAAAAAAAAAAAAAADzV9V9h6PNX1X2AV4AIWAABe8FE1WlJRzsSS6W933m26b0zWhRpwxDL2NKLaXMtvTz7tmecq//AMe1NZTgt8aim+xprOO1JezWL7TtCm60MJ4cszit2Hv7M9qz8Ssz7JrXnbWKmkJRcU6aWss7X0kDSlZa0paqTS6d/MXmknCrcSlHMcSaWzcv6RQ8IoRi4pPMnt9y+wiuk3iVJJ5eT4AXVAABZAAlUAAAAAAAAAAAAAAAAAAAAAAAAAAAAAAAAAAAAAAAAAAAAAAAAAAAAAAAAAAA81fVfYejzV9V9gFeACFgHqFNy9VN9hIp2Mm0pNRz0k6RuIetEV5U7qjKEnF8ZHan7Vs7Dot/GbrTlmSW2OI434yn2Y2fE0Wno6NOclNyUox1k3sxse33F9LhDKtSzPMZ6qTcf1mucreJhaluUdSltlKTfTn8TWb24dWrKbbw3s7OYurq4bhqJNynsS7dm4qrixlCUoyTjKLw4tbmKwWtyhgySoyXNnsMZKAAAWQAJVAAAAAAAAAAAAAAAAAAAAAAAAAAAAAAAAAAAAAAAAAAAAAAAAAAAAAAAAAAAPNX1X2Ho+TWU10oCuMlClryUfj2I98ll0oz29LUz0vKEJmU21pbXCnF5klqpbW3+Je21CFnFyrR1rhYcYNJxg3tz7ZLZ7F7SBobSdG2U5unOVfdCSxiMcLPP6z28273mG80iqjcvTcnvbS3/HcLWmeITSIjmX2pRq3VSXO2nJyb9Vc7b6PxIFaMqctWck+hrc0WP9pQjb8XDXUpPNRtLDS9VLbnC2vtZW1pa2faT769ke2/d81pQqRntUl6UcrnW1PsLm6pK6hxsccZjOOnpXatuCNd6SVfPGReWt65n0o+aO0gqUZRkpNZ1o4S2Pn3vsKTvz7rRrxvhnjoymrCNZuXHSbklzKKeFs92feUVxR1stb19ZsFxpWjKChGFRJQa2qOxvO7bu2lN0k1ne9q21GtKwEiVs29jR85LLpQNpYAJQAAAAAAAAAAAAAAAAAAAAAAAAAAAAAAAAAAAAAAAAAAAAAAAAAAAAAAAAAAAAAAAAAAAAAAAAAAAAAAAAAAAZKtGcMa8JRzu1otZ+JP4O6P5TeUqbWY51p/5Y7X8di95sWmrhaRs7mcfXtK0nH2092exrL/AIQNKBL0ZYzua0aVNJt7cN4WFv2my8LdAVZXMJUYU40nGFKCTUcPbsxzIDTwbhwq0FONvbzpwhGFCj+kw0vSerl459udpQ6M0Fc3acqUFqLfOb1Y56M8/uArQWWk9B3FrFSqwWo9inCWtHPRnm95jtNE169KVWlDXjGahhPbrPHN71tAggva/BG9hBz1IyxtcYTzJe78DNwJ0Zx90qsoQnSp+trYe1p6rxzga9CDk0opyb3JLLfuR8lFptNNNbGmsNe4v56OurbSUNRU+OqTnOlmWVt1t/uyVV3SrVLqpCUdavKrJOMFnM8vOPZnIEQF/wCR17jOrT1sZ1OMWt+H1lNyafGqi4uNTXUNWWzDbxh/EDCC7o8E7yc5x1Ix1HhylPEW9m58+8gaT0XWtJqFeGq2sxaeVJexgQwAAAAAAAAAAAAAAAAAAAAAAAAAABMr6LuKdKNaVKXFSWspxxKOHztxzj34IaeQAM9paVK8+LpR1pYbxlLYt7y2kfLy1qUJalaEqcv3ljPY9z9wGEH2PpNRj6UnuS2t9iW8n3mg7qhBTrUdSLeE3OGW37E8/URtMRMzqFeD3UpShFSksRexS5s9Gen2bz3ZWlS4nxdCDqT6I83a9y95JMTE6lhBIvrGrbVOLrwcJ41sNp7Hz5Ta5mRwgAbS3mava1KSg6kJQ11mOssNpc+HtAwgAAAAAAAAAAAAAAA3HglZOFlcXCnCnUqp0qU6ksJY3vPb/KZ+C+iHaV3rXNrOnUhqShGplv8AZwsbede8p+Et/RlRtbW2mp0qMcykk9st3Pz+s/4igi2mnF4knlPoa3MJTtIWDtryVB7oVFq554tpxfwaLLh6v+oS/wBKP+49cKNIULlW1zTkuO1UqtPDysbVt9j1l70ZOFlW0uv71RuM1HGMeJccPftfsxn6gh54af4di+i3+6Ja8INH0nb2ts7ylbU4U86k/wBd7PS3rPP72Vul69pd2VCfKNSvQo6vFOPrPC2fVvPjvLXSFtRpXNbk9xQWrGpKOYzjs3/Bc62hKXouna29tc0KmkKFWnVh6ME8astu1bd+74IjaCuZ0tC3s4NxlxiWU8NayhHY+naR6rsbS2qQhOF5cVFhT4v0aa27VnO3s37NyMVhfUoaJuqEppVZ1IuMduWlqZ+x/AhD3wIqOOkaaTaU1JS/e2N7enajPwYilpqWFunVS/7iv4L3dOhfUqlWShCOtlvmzFpGXQ+kqdDSjrzf6J1KmZJZ2S1sPG/nRI9aBX/WYf69T7JlvoVKF9pSvjM6PGOPvlNv+VECDtLbSlGtTuVUpOc5zlj1MqWFs37zFY6chb6RuKrXGUK05qWOeLk2pJfd0NgUfKKnGcdry43OtxmfSz05Nr4SJSvNG18YnWVNy90otfzP4EH+yNG6+v8A2guI38XqPjMfs9Pvx+Ji0ppqNzf0aqWpRpSgop80YyTba/rYkBk4c3Eql/OnJtwpqKjHmWUm3jp2mfTVRz0NYyk3KWu45e/C11v9y+BW8J7qnXvq1SlJShLVw1z4jFP7GSNIX1KeirSjGadWnUk5R27E9f8AFAUQAAAAAAAAAAAAAAAAAAAAAAAB9PmSTo+wq3U1ChBzfO16sfa5bkgJ1hdV7WjRqUakoKetsT2Nxk16r2bsEz+0bSu/73Zx1nvqUHqSfak0n8TNwmtYW1O0tYy1pUoScn0ubTb97TZQmS1pradPewYKZsNZvHLZ6Fzou1o1ZW/GSrVKbgtdSb282XsS3Z7CqsNOV6EdRNVKfV1FrR93QVoKzktPLtj6TFSs11vfzbPQ4XQpL9HY0oS6YtL7IlLpTSlW7qa9V7tkYrdFewhAib2nyvj6bFjndYSrC/qW8nKm1t2SjJZjJdDXOXvllONPVpW1Km+lPZ3Ul9prAEXtHEJv0+LJO7RyzzuXUrcbXiqzb9JSeM9jW2PsxuLeha6GktaUrin+43J/Wk/tKBzS3tL3ma3tatX/AAqc5+2Mdne3Fq5LVcM+DBfm06bRR0rou022tu5z5pNPPfntXuKXS+m6l3UjOUKS1IyjFNZwprDeelbGn7Cu1Ja2pqvX1tTV59bOMfE2K04KpxzXqS1v2aeEl7MtPP1Fcmft+lLjOHpsceN7a9W0NdQSk6E5Re1TprXi105jnZ2kV0Km7iqmf9OX4G2XFpc6Pg6lrXm6S2yhLDx0vGMNdOxMWPCC5uq1OhUnqwlnLp+hJ4i3jWTyl2YO1eppNe5589LMxNqzw1mlo25n6tvXfZSl9uDDVoVIVHSlTkqi3xW1r3RztN80nbKlQnVpucZ01r6+vKUsR2yw5N7Wsr3mXQ9GNOnONP1VVlja23t6XtZxnrK9ndEOcYZ3qXO3Fp6rTUt2q08/DeZJ21SK1pUqkY9LpyS+LRsdtLOnqvsj/siifwyralhNZ2zlGK+OfuLT1M99a686R8KNTO/DSAAbHEAAAAAAAB9PgAAAAfT4AAAAH0+AAD6fAAAAAAAAAAAAAAAAAAAAAHunTcpKK5/qNn0DwZlcx4xzdGjui0lr1Mc+3Yl/XtBpqoN50hwETg3Qryc1zVcbf4opY+DNKuKE6VSVOpFwnF4cXzA0xgGaztalxU4ujBznv1cpfa1kCZoK4hRrOco05vHqVIJxnjm1n6kuh4xzM2Ctw1qOGrQoQpLmec492EiPo7gNXm1K6nGlT54xlmT9mdy7dpA08qCuqit8cWsJau7OFnHsOOSZjxL0Ohx0yWmLxtCr1pVJynOTlKTy297PABle9ERADNaWlWs8UoSn0tbl2yewsbng9UpW9StUqRzBZ1YrPPzyfs9hEzETqZcL9Rjr7qgy21rUrT1KUHOWM7MbF0tvYjZdB6Ht5UKVaUOMlOOXr7UnzpR3GDRttybSk6S2RnTk4L2Npr4YkvcU+JHqiPMM9ur3HphXLQdVXFKhUlCDqRlJNZljV3rm2l9bcGbeG2alVf7z2d1YXxyYeEFdUbqxrSzqxlOMsLOxpc3xJmiNOUryVRUlNcXjLkks5zu2+w45LZJpFq+Pf82Oc17Tq0pMrKnGlOFOnCCcWsRilvXsIfBepraPoP8Ada+Emiu4T6ZuaFaFKhqJSp62XFN5y1z7OjmJnBBNWFOL3qUl/wBzK2paMPdM+Zj93P8Ay8cIOhLbW0ldye6lOWr2zb2/BS+Jslxc06UdapOMI7syaS+srNDRSuL7p45fy/8AJQcMpureQpN+hTp62PbJ7fuLWp8XL2z4iE17piIjy3VNSWViUWu1NM07RlvxOlI0luhOaXY4Nx+poteCFRu3lDmpzxH2JpPHxbI0l/1xY54az7kl+BGOvZN6fYvuabifubLOClFxe6Sw+xlRwUpOFmoy9ZVJp9qk0/sLfWWUudpvHZjP2oxWlDi1JLnnKXebf3meLeia/crMc7avoyWtpyu/86+CijJw7q+hb0/2qjl3Vj/cReDctbSteXS6r/7keeGtXWvKUP2KeffJv8EelFd9RWPlDPv+3KjPgB6LMlcqh9Go96t+YOVQ+jUe9W/MIoAlcqh9Go96t+YOVQ+jUe9W/MIoAlcqh9Go96t+YOVQ+jUe9W/MIoAlcqh9Go96t+YOVQ+jUe9W/MIoAlcqh9Go96t+YOVQ+jUe9W/MIoAlcqh9Go96t+YOVQ+jUe9W/MIoAlcqh9Go96t+YOVQ+jUe9W/MIoAlcqh9Go96t+YOVQ+jUe9W/MIoAlcqh9Go96t+YOVQ+jUe9W/MIoAlcqh9Go96t+YOVQ+jUe9W/MIoAlcqh9Go96t+YOVQ+jUe9W/MIoAlcqh9Go96t+YOVQ+jUe9W/MIoAlcqh9Go96t+YOVQ+jUe9W/MIoAlcqh9Go96t+YOVQ+jUe9W/MIoAlcqh9Go96t+YOVQ+jUe9W/MIp9Ak8qh9Go96t+YOVQ+jUe9W/MIxN0XoqrdT1aa9FetN7o/i/YBlsqSryUYU403OSpZg57pes/SlLcjpVJxhGMIJRjFJRS5ktiRplhZRo30KcctU5SeXvb1Es/GTNnVUhZZxqlJwr0IrulxtOKdekspdZFbXB429OPuyToVT5c2sK8dWbqJfuVJQ/laz7wOYxvKbwlbUcvmUqzfw4wutFaFr15J/wBnwhHmnKdWnqvmazNt+5e82K3t6tnVcKNSgoS2whUpRU30+lDGdvPhvpKvTGmNJRkoTxTU3iPErOs+hP1s+5HGc1J9O3XHhm0+Yj71ZpmV1Co6NzWlUccfrZi+h4K379i9pfWfBurVevcTcM7Wk9ab7XtS+snKwpWl5bOnDEakZ02223rbJJ5fP6LRjtmrM6jmXr/1NcdYrWP2hU2PB6vVw5/oY/vLMn/Dze/HYZtPaEpW1nKrDXlOEk25PensxhYWNq+Bs9C7p1XJU5xnqPEtV5w+g1PhXpS542pawUFScVl42tNZ3vdtzu6Dlivkvk14iGXJlvf322ynKEKSa1YU1HOzYksZ+BrOnOFdtKjVo0lKo5xcdZLEVnZz7X8C50M+NsKSbzmlqP3ei/sK+44PWVtbVG1FT4uSU6ktucPDWdieehHPFGOLz37mduNu7XCTwSqZsor9mUl8Xrf7iXfWua9vWW+nNxf+Waa+3VKrgZV1qVVfvKXeSX+0uLK716lem/WpVMe6SUk/ra9xGWJrktMf9teYjwqOGa/RUH0VcfGL/Ai8EGlcVYrZrU8/B/8AkTOGi/u1J9FeP2SK7gs8XnbSkvrgdac4Pzdqx/at98PfDBf3qi//AIn9pa8FH/dX7KkvuKvhh/6mh/py+1FlwRf92n/qv7IkZPqIRH1X4/s86Grf3+/h+9GS+GH9xWcK7dxulVfqzppJ+2LeV8GjFSvlQ0rXqv1eNcJ/5Xjb7mk/cblUpQqJKUYzjvWUmvYxe3wrxb2mHPHukxb8VVwXtnTttaSw6stdL2YSXxSz7yrsqvGadqyTyopx7sUn9eS901pSFpQlUk1rboR/al+HSavwLg3da0tspU5yb7XH8Sce5rfJPvwrbdrfrLZLy51b+1h+3Cqv5X/tLNyws9G01jTlfV0tZr9lLP8AHJxL3S1V07WvPnjSk/fh4OF6fQ+3+URPlqOgI1KUYXNOFOrVqxn+jUpqb9JbedYWrvxHfvZAvb+VW7q1K1vFSwo8XNz9HCXPFxft95f8AqceIqy/W10n2JJr63IquFNWMr+oo71CKl2//TXwPSx3ic811+LPaPRtC5VD6NR71b8wcqh9Go96t+YRz4bXAAAAAAAAAAAAAAAAAAAAAAAAAAAAAAAAAAAA+nqlSlN4hGUn+6m/sLK14PXVV4UFH/M/uWWVm9Y8ytFbT4hVn2MW2kk23sSSy32I2204B1HJcdWUY9EFmX17F9ZtejNB29qv0NNKXPN7ZP3v7FsJ2jTUNC8DZ1MTus0481NP0n2v9Vezf2G6W1pClBQpwUIrckthMUD7qhLRq+zSc+nM19UGWsIzfMyFpCPF6Xg+ac03/FTcF9cS+zFARdWUcZW8ySuoU4uc5KMVzv8Arf7CvjdSdaUZNtNvKfM1nH2YPV3/AOy+itH68x+84Uzxek2iPDtkwzjtET7q/hPQq3tBTjS1FRzOOv8A4k1zrV/V2YeHteFsRV8E7+KrVONmv8JOM5y9VRe1Ze5elnHsNpq30YV6dGWx1IycX0uONn1/UaRwm0YqFw0l+jq5nD2P9Ze5vPY0ZceSc8TS/G/CbV7PVVvVneU68NelJSjlrK6VvNC0xXuK1zONaeadOo0oc2zYnheznfSXfAeTjSqUmmllTi9uJZ2PHwRXafp6t9W6Jasl70k/rTOeKkYstqw1YIjLavclcDMU61Wms+nDW98X/wCR84WU8XcJftUv5W/xRH0DU1byi+luL96f34LDhnH9JbS9k1/K19jJn67fzh3tWMeaIjxuE/gnUzauP7FSS+OJf7irp8DJVarqXNdvLeyOW8Z2elL8DDofTdOzpVeMjOWtJNKKXRje37EebnhnXqbKFBRX7Usyf3JfWIpmi8zTiJ92bNWO+azCTwKmtetGO5wjj+FyX3mWN0rfTNbXkowqwjlt4Saimm3/AAte81q2U6dPEZyhJrDcZNc+eY80aGrluTk5b2zpbHWbWmZ88O8dNktMccf6bFwo0zbVqMaVKqpzVSL9FPGzPPuK3Rt9yarxupr4jJYzjfjn9xBhbwjuijIIrSte2PDTi6a0VtF58/Jl0hped5WhOVLi1CDS25zl9OEe6OlbmhTcLeUUnLWeYpvakt77ERwW9PjXC1elrFOyZeIObc51GnOcnJtdLJVPSd3Sjq0K2rHmjJJ47Mp47DABM78wvPTUmkU+TDVhVrVOMuKjqS9r/rC9iMzzh6snFtYym19gBM2mU06fHSs1iPLFTotS1nOUnje3tXPvPFS1cm3KpPb7SQXXB60oTjVrV9Vqk1sl6qWM6zXP0e4i2Wax3OObFhx05qg6OrvVcaMp0qmrqqrTi5J43KcUnn2SSyvaVE6MqdScZtuedsmpLPt9JJ/FG33PC6nH0aNKUkudvVXuW1/YVOkOEDuFqzt6LXM3rNrsaawXxWy75p/Lx81qWnccKYH0+GxmAAAAAAAAAAAAAAAAAAAAAAAAAAAAAAAAS9GaNqXVVU6S287e6K6X+BtlLQlCnsjTU8frTWW/b0L3GPgA4/pFj0pN7exLH2s2DVhHe0YepvaY1E6a8FYrO5jaDCg8YWxdCLXQ9FJTfOnq/Y/vXwIzuILdtPVlfqMprHrYkvhh/YjP08VjJHLvmm1qTwuT7krZX79iMMrxvnPVeetnNLnPDroqXdHh3QFXwwg1KnWistL66bU4r+c8vSS2ST2b0Z9Ly4yi+dx9Ne7evetZe8r9B04Om44TlTljPSnti/hs9zAnRnGrLXjGWs+f9Xbsb7fvM2klijF9FWk//wCkDPTpnzSUP7vJ9Di/hKJTsrWJ1Hleb2tMblG0lonlFalUc9RU090U3l4aab2JrG888JLDj7WWF6dP04dq3r3rK+BF4R3tSUqVra1oxr1amq0pLKWHve+P2mtUdPXdvRdCnKLcZyXGYy9/t2b8vL6TzcWHLatbxPjw7XvWJmEzgxcOnV42pJxoarp68niKl6ySb58Re4w6e0nQr3anSnrLi1FtppZTe7PaY9CxtaaU7uWu1nVpRi2lnnfN7iztNOWVssW9rJPdrPGs/wCLLZoyV9c2rWZn9EYcnw5id+FIq2q1JScWnlNPGPeYKdJOpxjqOcs9Ofr5zZ3wz/8A138z/wATxU4R21XZWtM92X24KxOWP8P1hrt1eO9otaI3CjaBJvlb60ZW024z2cXJPWi/tafvJNvoG6qLPFqC/wDklh/BJte8TOo54ehXqcVq921aCReWVWhJRqx1W9zTypdjI4d63raNwAALABmt7OtVWadKc10qOz4vYFbXrX6UsJ5lUit7S95mvLWtRi5VKU4YW9x2fFbDabvSFvo+EKUYa0nHOI4y1+1JvpKzMxrUb2y5urrT6PLUYyT3NPsZa6K0HK6puaqxglJxxqaz2Y9qxvJFThFaVf8AGtM+3EZP7mY7mVrK3qqzrSpyliTpSk1rY5lrc+OZPbhCYv41MfqyX66bV9PDNU4KVUvRrQl2xcfvZDuNAXsIyUIRlrJKSjNbUmmvWxzopoVpx9Wco9kmiXR0zdQ9WvP+J6382TrGHLXmJifwZbdXa9e23hClFxbUk4yTw096Z5JV7fTryUqii5rZrKOG+3GxkU2V3rlin7AAEgAAAB7pOKnFzTcNZayTw2s7Un04A9cmqcXxupLi9bV18bM78ZMRuuitG2da1rOUq9KhKfGRhVko4UFtlF7cxxLDfs95UX1WNuqbVrYzpVE9XVlOpJpbHmeU09vQBQgs7i1pVaMq9spQ1McbRk9bUT2KUZb3HPTtXYV9KlKc4wgnKUnhJc7YHgFjDQV5KMpK2qNRbT2c62PC3vdzZItpZ1a89SjTlUlvxFfb0e8DACVc6Or0akadWlKE5+qmvWzs2Pc+Y8StKircS4PjdbV1OfL3IDACVHR1d8YlSm3SkozSWXFt4Sx052bDI9DXXGqjxE+NcdbVxzPnfMlse8CCCTfaPrW7Sr0pU87srY+xrYSYaAvJOSVtUbjv2LZlZ6duxrcBWgn0NC3VSDqQt6jispvHRv2Pa/cYLOyq3EtSjTlUljOIrcva9yAjgnVNDXUW1KhUTi4xeznm8R7cvZsJ2k+DdWhQo1Y06ks03OtlLFNrGzZzb+ncBRgn22hbqtT4ynb1JQe6SW/szv8AcT6OiuM0apQouVw7rU2J62FHasc2AKEEq+0dXt2lXpSpuW7PP71sIoFloXSTtqqlzZ/r6jZ699FrXi8xltz0GjGSlWlD1JOPY8GfL08ZIaMXUTTXG22Sv+gx8tllNLDRrdO7mpqTlKWOZsv7alrpS/Ve1e08/Jg+FMS9XBnpmieE3+1JY9TL7dhW1+EdSE5RdJbH+0/wLFJLGFuNf09TSr6y3SW3tWz8DR0+e1r9tmTqsFK07qQmLhO+el8J/wDBlhwjpv1oTXwZrZ9PQebttlPTFGW6ol/m2faR7a4VtcKf/tP0ZNbtRvY/4Xs7O01o90qjhJNfDma50E7dUhTMztozi4TipRksNPc0anwb4QwpRjSry/Q7qdR/qfuS6EuZ9HsN3o6rSlFpp7U08p+8hLXZcHLSzda+1XrwUqkEtkYYWxKK3+85vTXoo3Xhxp+FSHJKElJZ/SST2bN0U+fbtfYl0mmBEgAJQH0+ADPZV+KrU6iytSSezfjn+rKLa+4U16japYpR+Mvi/uKM+HO2Kl57rRtaLTEahLuNKV6kHGpUdRJ6yUtuGuh71zr3l7o3g5xlNVK03BSWYxhjOOltpr3Grk240pVqUKdBvFOCxhfrdGezYsHLLimdRTh3xdRakTG0rSVjxElqVI1acniM4tPb+y8c/wBpD+t7klvfsI0JtZxue/7idozSUaFXjJUuMaXorW1Unzvc9v8AyVtitEcct2L/ANCIpMW8+zYdG6Dp0Ycdd6uUs6sn6MO3pl/S6TDfcLsPFvTyv2p5x7or72U2l9MVLuSytSC3QTys9LezLK4pj6Xu9WXmfl7Qw5M82nheQ4WXOfSjSkudarX3kDS+kFc1VUUNT0FFxznDWdz6CCDTXDjrO6xpwm9pjUy+nwA6qgAAAAAAAAAAAAC9q3kqPI7py5Q50ZwcaiSilHMHDZvXpPfv9+yiLGxu6bpO3uNbinLXhOKzKlPdnHPFrevhtJdjZ8TUc4XGj6sXFx/TTeMPn1GtZP8A5A+6JteJrUtdOrG6t5pQotOTUk1qvOFlY9zXsIegItX1spLDVWKa6GntNknpGzjYyjQ1oypNQlVoQadPjG25Rc3rajcWt/P2Gq15xo3GtbVZTUJKUKjjh52POH7c7wL2ld1Xp3bUlsruGNZ41VlYx0GeCpxs9JZ43/1klU4nCkoJ7N/6uc/WavG8qqtx6m+N1tfXwvWe3ONxkttJV6VWVanVlGpNtyksell5eVue32AW1vfUpUbalShcOELuEo1auq4x2rMU47PbjtM1ejJ6fwovPHxnu/VSi2+z2lLf6WuLlJVqsppPKjhJL24iksmeXCO9cYxdzPEWmtkc7Nqy8Ze7n384F8q8qcdMzhJxkqiw1vWZSWz27Svs6s/7IuZwlJ1OPjxssvW1MLG3fjOfrKd6RrNVk6jxXeauxek089Gzb0YPllf1reevRqSpyaw2ude1PYwLalOUtB3DqNuKrR4ly27dmtq55sZ3e0ncJLqotMUUpySi6WEm8LLWdntya7pDSde6xx9VzS3LCSXuSSPNxf1atVVqk3KosYlhfq7tywBstS6qeUCWvLCqKKWXjV1d2PrMdZyjo+/dHKly2SqOO9QT2bv1f+TXnpCtx/KNd8dra2vhb927GPqPdrpSvRqyq0qsozm25NY9LLztTWHtb5ucC4talV6DuXJycVVhxbbf7UM4fRn68nnT1R8m0ZrylqSo4m8vb6uc9L3lZdaZua0Zwq1pSjPGsmlj0dq3LZj2CnpO6pUOJVSUaNSL9FpNNNtPGVlLKe72gWnDCrWjf6sZTjFRjxCg2tmF6uOfOd3sMlS4rQ0PUcpTjUnduNTOVJ7MtPn3pFVbcILylTVOncSUEsJYi8djabRGqX9aVN0pVJSg58Y09uZvZrZ3/WBbXc3LQtBybbV04pt5wtWbx2FAZ3d1HRVFzfFKWuo4WyWMZzvMAAAACy0TpB05KnJ/o5PG39Vv7itBS9IvXUr47zS3dDcpt4eN/Ma3pOlJNSeWt3Yy30bdcbSTfrR2S/H3nu6oqaeVse/8Ty8dpw5OXtXpGfFx7tXBluKDpzcX7n0oxHrRMTG4eHas1nUh9PgJQ9wqOLyn29D9x941YaUcJ70ptRfbExgB/WzmAAAAAAAAAAAAAAAAAAAAAAAAAAAAAAAAAAAAAfT4ABmpXdSEJ04TcYVMa8V+tjcYQAAAAAAAAAAAAvZaPjyWTnCMdWnTmqsKcselKCf6Ry9N4k8pLCfRgVbGTuVSVrThTVVxpzlGeJpKTXpJ/pMpJ7N7wtieCiAGw1bGCcZqhmq7eU40nTcFKUZpZ4vWb2RbernbjOD3O2jJ09ejipC0Uo0VBy2urPWfF6ybwm3q52Z3bDXD4BdXKp0YVqit1rKdJKNaDWrrQqOXoa2xPVWxvZ7kZLqNCnOvmhDi7e5jDCzrShLjFJNt7X6Ka6GUIYE/SNpG3jGllSqOTm5r9jdT7yTl74kEyXFeVScpyxrSe3CwuhJLoSSXuMQAAAAABM0Zc8XVWfVlsf3Mv5zSWXuNUJUr+o0k2tiwn/XOZM/Tze0TDd03VRjrNbMuk66liONqeez2EA+nw0Y6RSuoZcuSclptIAC7mAAAAAAAAAAAAAAAAAAAAAAAAAAAAAABltqEqtSNOONaTwsvCXtfsQGIGevaypxhKW6aytkt2x72sPetzftwYAAOl+SNh1D+bU8Q8kbDqH82p4gac0B0vyRsOofzaniHkjYdQ/m1PEDTmgOl+SNh1D+bU8Q8kbDqH82p4gac0B0vyRsOofzaniHkjYdQ/m1PEDTmgOl+SNh1D+bU8Q8kbDqH82p4gac0B0vyRsOofzaniHkjYdQ/m1PEDTmgOl+SNh1D+bU8Q8kbDqH82p4gac0B0vyRsOofzaniHkjYdQ/m1PEDTmgOl+SNh1D+bU8Q8kbDqH82p4gac0B0vyRsOofzaniHkjYdQ/m1PEDTmgOl+SNh1D+bU8Q8kbDqH82p4gac0B0vyRsOofzaniHkjYdQ/m1PEDTmgOl+SNh1D+bU8Q8kbDqH82p4gac0B0vyRsOofzaniHkjYdQ/m1PEDTmgOl+SNh1D+bU8Q8kbDqH82p4gac0B0vyRsOofzaniHkjYdQ/m1PEDTmgOl+SNh1D+bU8Q8kbDqH82p4gac0B0vyRsOofzaniHkjYdQ/m1PEDTmgOl+SNh1D+bU8Q8kbDqH82p4gac0B0vyRsOofzaniHkjYdQ/m1PEDTmgOl+SNh1D+bU8Q8kbDqH82p4gac0B0vyRsOofzaniHkjYdQ/m1PEDTmgOl+SNh1D+bU8Q8kbDqH82p4gac0B0vyRsOofzaniHkjYdQ/m1PEDTmgOl+SNh1D+bU8Q8kbDqH82p4gac0B0vyRsOofzaniHkjYdQ/m1PEDTmgOl+SNh1D+bU8Q8kbDqH82p4gac0B0vyRsOofzaniHkjYdQ/m1PEDTmhloV50pKdOTjJbmn/Wz2HRvJGw6h/NqeIeSNh1D+bU8QNOdVbmc0lKWUtu5Zb2La972JLaYTpfkjYdQ/m1PEPJGw6h/NqeIGl2ACFgAAAAAAAAAAAAAAAAAAAAAAAAAAAAAAAAAAAAAAAAAAAAAAAAAAAAAAAAAAAAAAAAAAAAAAAAAAAAABzTzh3nV2/dn4h5w7zq7fuz8QHSwc084d51dv3Z+IecO86u37s/EB0sHNPOHedXb92fiHnDvOrt+7PxAdLBzTzh3nV2/dn4h5w7zq7fuz8QHSwc084d51dv3Z+IecO86u37s/EB0sHNPOHedXb92fiHnDvOrt+7PxAdLBzTzh3nV2/dn4h5w7zq7fuz8QHSwc084d51dv3Z+IecO86u37s/EB0sHNPOHedXb92fiHnDvOrt+7PxAdLBzTzh3nV2/dn4h5w7zq7fuz8QHSwc084d51dv3Z+IecO86u37s/EB0sHNPOHedXb92fiHnDvOrt+7PxAdLBzTzh3nV2/dn4h5w7zq7fuz8QHSwc084d51dv3Z+IecO86u37s/EB0sHNPOHedXb92fiHnDvOrt+7PxAdLBzTzh3nV2/dn4h5w7zq7fuz8QHSwc084d51dv3Z+IecO86u37s/EB0sHNPOHedXb92fiHnDvOrt+7PxAdLBzTzh3nV2/dn4h5w7zq7fuz8QHSwc084d51dv3Z+IecO86u37s/EB0sHNPOHedXb92fiHnDvOrt+7PxAdLBzTzh3nV2/dn4h5w7zq7fuz8QHSwc084d51dv3Z+IecO86u37s/EB0sHNPOHedXb92fiHnDvOrt+7PxAdLBzTzh3nV2/dn4h5w7zq7fuz8QHSwc084d51dv3Z+IecO86u37s/EB0sHNPOHedXb92fiHnDvOrt+7PxAdLBzTzh3nV2/dn4h5w7zq7fuz8QHSwc084d51dv3Z+IecO86u37s/EB0sHNPOHedXb92fiHnDvOrt+7PxAakAAAAAAAAAAAAAAAAAAAAAAAAAAAAAAAAAAAAAAAAAAAAAAAAAAAAAAAAAAAAAAAAAAAAAAAAAAAAAAAAAAAAAAAAAAAAAAAAAAAAAAAAAAAAAAAAAAAAAAAAAAAAAAAAAAAAAAAAAAAAAAAAAAAAAAAAAAAAAAAAAAAAAAAAAAAAAAAAAAAAAAAAAAAAAAAAAAAAAAAAAAAAAAAAAAAAAAAAAAAAAAAAAAAAAAAAAAAAAAAD/2Q==\n"
                },
                "metadata": {}
              }
            ]
          }
        },
        "db54c765cd2b4246805c5b4199c1a6b4": {
          "model_module": "@jupyter-widgets/output",
          "model_name": "OutputModel",
          "model_module_version": "1.0.0",
          "state": {
            "_dom_classes": [],
            "_model_module": "@jupyter-widgets/output",
            "_model_module_version": "1.0.0",
            "_model_name": "OutputModel",
            "_view_count": null,
            "_view_module": "@jupyter-widgets/output",
            "_view_module_version": "1.0.0",
            "_view_name": "OutputView",
            "layout": "IPY_MODEL_78554beef51044b7ab22fd18fd7caeab",
            "msg_id": "",
            "outputs": [
              {
                "output_type": "stream",
                "name": "stdout",
                "text": [
                  "Video available at https://www.bilibili.com/video/BV1Mo4y1S7oK\n"
                ]
              },
              {
                "output_type": "display_data",
                "data": {
                  "text/plain": "<__main__.BiliVideo at 0x7d209da23100>",
                  "text/html": "\n        <iframe\n            width=\"854\"\n            height=\"480\"\n            src=\"https://player.bilibili.com/player.html?bvid=BV1Mo4y1S7oK&page=1?fs=1\"\n            frameborder=\"0\"\n            allowfullscreen\n            \n        ></iframe>\n        "
                },
                "metadata": {}
              }
            ]
          }
        },
        "5cfb22b2e80f4dafaa8807e04393b975": {
          "model_module": "@jupyter-widgets/base",
          "model_name": "LayoutModel",
          "model_module_version": "1.2.0",
          "state": {
            "_model_module": "@jupyter-widgets/base",
            "_model_module_version": "1.2.0",
            "_model_name": "LayoutModel",
            "_view_count": null,
            "_view_module": "@jupyter-widgets/base",
            "_view_module_version": "1.2.0",
            "_view_name": "LayoutView",
            "align_content": null,
            "align_items": null,
            "align_self": null,
            "border": null,
            "bottom": null,
            "display": null,
            "flex": null,
            "flex_flow": null,
            "grid_area": null,
            "grid_auto_columns": null,
            "grid_auto_flow": null,
            "grid_auto_rows": null,
            "grid_column": null,
            "grid_gap": null,
            "grid_row": null,
            "grid_template_areas": null,
            "grid_template_columns": null,
            "grid_template_rows": null,
            "height": null,
            "justify_content": null,
            "justify_items": null,
            "left": null,
            "margin": null,
            "max_height": null,
            "max_width": null,
            "min_height": null,
            "min_width": null,
            "object_fit": null,
            "object_position": null,
            "order": null,
            "overflow": null,
            "overflow_x": null,
            "overflow_y": null,
            "padding": null,
            "right": null,
            "top": null,
            "visibility": null,
            "width": null
          }
        },
        "d3c21db615be44c1980767c610c4424d": {
          "model_module": "@jupyter-widgets/base",
          "model_name": "LayoutModel",
          "model_module_version": "1.2.0",
          "state": {
            "_model_module": "@jupyter-widgets/base",
            "_model_module_version": "1.2.0",
            "_model_name": "LayoutModel",
            "_view_count": null,
            "_view_module": "@jupyter-widgets/base",
            "_view_module_version": "1.2.0",
            "_view_name": "LayoutView",
            "align_content": null,
            "align_items": null,
            "align_self": null,
            "border": null,
            "bottom": null,
            "display": null,
            "flex": null,
            "flex_flow": null,
            "grid_area": null,
            "grid_auto_columns": null,
            "grid_auto_flow": null,
            "grid_auto_rows": null,
            "grid_column": null,
            "grid_gap": null,
            "grid_row": null,
            "grid_template_areas": null,
            "grid_template_columns": null,
            "grid_template_rows": null,
            "height": null,
            "justify_content": null,
            "justify_items": null,
            "left": null,
            "margin": null,
            "max_height": null,
            "max_width": null,
            "min_height": null,
            "min_width": null,
            "object_fit": null,
            "object_position": null,
            "order": null,
            "overflow": null,
            "overflow_x": null,
            "overflow_y": null,
            "padding": null,
            "right": null,
            "top": null,
            "visibility": null,
            "width": null
          }
        },
        "78554beef51044b7ab22fd18fd7caeab": {
          "model_module": "@jupyter-widgets/base",
          "model_name": "LayoutModel",
          "model_module_version": "1.2.0",
          "state": {
            "_model_module": "@jupyter-widgets/base",
            "_model_module_version": "1.2.0",
            "_model_name": "LayoutModel",
            "_view_count": null,
            "_view_module": "@jupyter-widgets/base",
            "_view_module_version": "1.2.0",
            "_view_name": "LayoutView",
            "align_content": null,
            "align_items": null,
            "align_self": null,
            "border": null,
            "bottom": null,
            "display": null,
            "flex": null,
            "flex_flow": null,
            "grid_area": null,
            "grid_auto_columns": null,
            "grid_auto_flow": null,
            "grid_auto_rows": null,
            "grid_column": null,
            "grid_gap": null,
            "grid_row": null,
            "grid_template_areas": null,
            "grid_template_columns": null,
            "grid_template_rows": null,
            "height": null,
            "justify_content": null,
            "justify_items": null,
            "left": null,
            "margin": null,
            "max_height": null,
            "max_width": null,
            "min_height": null,
            "min_width": null,
            "object_fit": null,
            "object_position": null,
            "order": null,
            "overflow": null,
            "overflow_x": null,
            "overflow_y": null,
            "padding": null,
            "right": null,
            "top": null,
            "visibility": null,
            "width": null
          }
        }
      }
    }
  },
  "nbformat": 4,
  "nbformat_minor": 0
}